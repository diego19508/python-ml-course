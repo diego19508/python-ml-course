{
 "cells": [
  {
   "cell_type": "markdown",
   "id": "interpreted-military",
   "metadata": {},
   "source": [
    "# Analisis de Componentes Principales - Paso a Paso"
   ]
  },
  {
   "cell_type": "markdown",
   "id": "cloudy-timber",
   "metadata": {},
   "source": [
    "* Estandarizar los datos, normalizarlos por columna\n",
    "* Obtener los vectores y valores propios a partir de la matriz de covarianza o de correlaciones o incluso la tecnica de singular vector decomposition.\n",
    "* Ordenar los valores propios en ordn descendente y quedarnos con los **p** que se correspondan **a** los **p** mayores y asi disminuir el numero de variables del dataset (p<m)\n",
    "* Construir la matriz de proyeccion **W** a paritr de los **p** vectores propios\n",
    "* Transformar el dataset original **X** a traves de **W** para asi obtener datos en el subespacio dimensional de dimension **p** que sera **Y**"
   ]
  },
  {
   "cell_type": "code",
   "execution_count": 1,
   "id": "victorian-amsterdam",
   "metadata": {},
   "outputs": [],
   "source": [
    "import pandas as pd"
   ]
  },
  {
   "cell_type": "code",
   "execution_count": 2,
   "id": "earlier-scottish",
   "metadata": {},
   "outputs": [],
   "source": [
    "df = pd.read_csv(\"../datasets/iris/iris.csv\")"
   ]
  },
  {
   "cell_type": "code",
   "execution_count": 3,
   "id": "noticed-advantage",
   "metadata": {},
   "outputs": [
    {
     "data": {
      "text/html": [
       "<div>\n",
       "<style scoped>\n",
       "    .dataframe tbody tr th:only-of-type {\n",
       "        vertical-align: middle;\n",
       "    }\n",
       "\n",
       "    .dataframe tbody tr th {\n",
       "        vertical-align: top;\n",
       "    }\n",
       "\n",
       "    .dataframe thead th {\n",
       "        text-align: right;\n",
       "    }\n",
       "</style>\n",
       "<table border=\"1\" class=\"dataframe\">\n",
       "  <thead>\n",
       "    <tr style=\"text-align: right;\">\n",
       "      <th></th>\n",
       "      <th>Sepal.Length</th>\n",
       "      <th>Sepal.Width</th>\n",
       "      <th>Petal.Length</th>\n",
       "      <th>Petal.Width</th>\n",
       "      <th>Species</th>\n",
       "    </tr>\n",
       "  </thead>\n",
       "  <tbody>\n",
       "    <tr>\n",
       "      <th>0</th>\n",
       "      <td>5.1</td>\n",
       "      <td>3.5</td>\n",
       "      <td>1.4</td>\n",
       "      <td>0.2</td>\n",
       "      <td>setosa</td>\n",
       "    </tr>\n",
       "    <tr>\n",
       "      <th>1</th>\n",
       "      <td>4.9</td>\n",
       "      <td>3.0</td>\n",
       "      <td>1.4</td>\n",
       "      <td>0.2</td>\n",
       "      <td>setosa</td>\n",
       "    </tr>\n",
       "    <tr>\n",
       "      <th>2</th>\n",
       "      <td>4.7</td>\n",
       "      <td>3.2</td>\n",
       "      <td>1.3</td>\n",
       "      <td>0.2</td>\n",
       "      <td>setosa</td>\n",
       "    </tr>\n",
       "    <tr>\n",
       "      <th>3</th>\n",
       "      <td>4.6</td>\n",
       "      <td>3.1</td>\n",
       "      <td>1.5</td>\n",
       "      <td>0.2</td>\n",
       "      <td>setosa</td>\n",
       "    </tr>\n",
       "    <tr>\n",
       "      <th>4</th>\n",
       "      <td>5.0</td>\n",
       "      <td>3.6</td>\n",
       "      <td>1.4</td>\n",
       "      <td>0.2</td>\n",
       "      <td>setosa</td>\n",
       "    </tr>\n",
       "  </tbody>\n",
       "</table>\n",
       "</div>"
      ],
      "text/plain": [
       "   Sepal.Length  Sepal.Width  Petal.Length  Petal.Width Species\n",
       "0           5.1          3.5           1.4          0.2  setosa\n",
       "1           4.9          3.0           1.4          0.2  setosa\n",
       "2           4.7          3.2           1.3          0.2  setosa\n",
       "3           4.6          3.1           1.5          0.2  setosa\n",
       "4           5.0          3.6           1.4          0.2  setosa"
      ]
     },
     "execution_count": 3,
     "metadata": {},
     "output_type": "execute_result"
    }
   ],
   "source": [
    "df.head()"
   ]
  },
  {
   "cell_type": "code",
   "execution_count": 16,
   "id": "wanted-feelings",
   "metadata": {},
   "outputs": [],
   "source": [
    "X = df.iloc[:,0:4].values\n",
    "Y = df.iloc[:,4].values"
   ]
  },
  {
   "cell_type": "code",
   "execution_count": 11,
   "id": "vocational-petroleum",
   "metadata": {},
   "outputs": [
    {
     "data": {
      "text/plain": [
       "array([5.1, 3.5, 1.4, 0.2])"
      ]
     },
     "execution_count": 11,
     "metadata": {},
     "output_type": "execute_result"
    }
   ],
   "source": [
    "x[0]"
   ]
  },
  {
   "cell_type": "code",
   "execution_count": 12,
   "id": "extraordinary-nancy",
   "metadata": {},
   "outputs": [
    {
     "data": {
      "text/plain": [
       "'setosa'"
      ]
     },
     "execution_count": 12,
     "metadata": {},
     "output_type": "execute_result"
    }
   ],
   "source": [
    "y[0]"
   ]
  },
  {
   "cell_type": "code",
   "execution_count": 35,
   "id": "radio-quick",
   "metadata": {},
   "outputs": [],
   "source": [
    "import chart_studio.plotly as py\n",
    "import plotly.graph_objects as go\n",
    "import plotly.tools as tls"
   ]
  },
  {
   "cell_type": "code",
   "execution_count": 36,
   "id": "stuffed-dance",
   "metadata": {},
   "outputs": [
    {
     "ename": "ValueError",
     "evalue": "\n    Invalid element(s) received for the 'data' property of \n        Invalid elements include: [[Histogram({\n    'marker': {'color': 'rgba(255,127,20)'},\n    'name': 'setosa',\n    'opacity': 0.7,\n    'showlegend': False,\n    'x': array([5.1, 4.9, 4.7, 4.6, 5. , 5.4, 4.6, 5. , 4.4, 4.9, 5.4, 4.8, 4.8, 4.3,\n                5.8, 5.7, 5.4, 5.1, 5.7, 5.1, 5.4, 5.1, 4.6, 5.1, 4.8, 5. , 5. , 5.2,\n                5.2, 4.7, 4.8, 5.4, 5.2, 5.5, 4.9, 5. , 5.5, 4.9, 4.4, 5.1, 5. , 4.5,\n                4.4, 5. , 5.1, 4.8, 5.1, 4.6, 5.3, 5. ]),\n    'xaxis': 'x'\n}), Histogram({\n    'marker': {'color': 'rgba(31,22,120)'},\n    'name': 'versicolor',\n    'opacity': 0.7,\n    'showlegend': False,\n    'x': array([7. , 6.4, 6.9, 5.5, 6.5, 5.7, 6.3, 4.9, 6.6, 5.2, 5. , 5.9, 6. , 6.1,\n                5.6, 6.7, 5.6, 5.8, 6.2, 5.6, 5.9, 6.1, 6.3, 6.1, 6.4, 6.6, 6.8, 6.7,\n                6. , 5.7, 5.5, 5.5, 5.8, 6. , 5.4, 6. , 6.7, 6.3, 5.6, 5.5, 5.5, 6.1,\n                5.8, 5. , 5.6, 5.7, 5.7, 6.2, 5.1, 5.7]),\n    'xaxis': 'x'\n}), Histogram({\n    'marker': {'color': 'rgba(44,50,180)'},\n    'name': 'virginica',\n    'opacity': 0.7,\n    'showlegend': False,\n    'x': array([6.3, 5.8, 7.1, 6.3, 6.5, 7.6, 4.9, 7.3, 6.7, 7.2, 6.5, 6.4, 6.8, 5.7,\n                5.8, 6.4, 6.5, 7.7, 7.7, 6. , 6.9, 5.6, 7.7, 6.3, 6.7, 7.2, 6.2, 6.1,\n                6.4, 7.2, 7.4, 7.9, 6.4, 6.3, 6.1, 7.7, 6.3, 6.4, 6. , 6.9, 6.7, 6.9,\n                5.8, 6.8, 6.7, 6.7, 6.3, 6.5, 6.2, 5.9]),\n    'xaxis': 'x'\n}), Histogram({\n    'marker': {'color': 'rgba(255,127,20)'},\n    'name': 'setosa',\n    'opacity': 0.7,\n    'showlegend': False,\n    'x': array([3.5, 3. , 3.2, 3.1, 3.6, 3.9, 3.4, 3.4, 2.9, 3.1, 3.7, 3.4, 3. , 3. ,\n                4. , 4.4, 3.9, 3.5, 3.8, 3.8, 3.4, 3.7, 3.6, 3.3, 3.4, 3. , 3.4, 3.5,\n                3.4, 3.2, 3.1, 3.4, 4.1, 4.2, 3.1, 3.2, 3.5, 3.6, 3. , 3.4, 3.5, 2.3,\n                3.2, 3.5, 3.8, 3. , 3.8, 3.2, 3.7, 3.3]),\n    'xaxis': 'x2'\n}), Histogram({\n    'marker': {'color': 'rgba(31,22,120)'},\n    'name': 'versicolor',\n    'opacity': 0.7,\n    'showlegend': False,\n    'x': array([3.2, 3.2, 3.1, 2.3, 2.8, 2.8, 3.3, 2.4, 2.9, 2.7, 2. , 3. , 2.2, 2.9,\n                2.9, 3.1, 3. , 2.7, 2.2, 2.5, 3.2, 2.8, 2.5, 2.8, 2.9, 3. , 2.8, 3. ,\n                2.9, 2.6, 2.4, 2.4, 2.7, 2.7, 3. , 3.4, 3.1, 2.3, 3. , 2.5, 2.6, 3. ,\n                2.6, 2.3, 2.7, 3. , 2.9, 2.9, 2.5, 2.8]),\n    'xaxis': 'x2'\n}), Histogram({\n    'marker': {'color': 'rgba(44,50,180)'},\n    'name': 'virginica',\n    'opacity': 0.7,\n    'showlegend': False,\n    'x': array([3.3, 2.7, 3. , 2.9, 3. , 3. , 2.5, 2.9, 2.5, 3.6, 3.2, 2.7, 3. , 2.5,\n                2.8, 3.2, 3. , 3.8, 2.6, 2.2, 3.2, 2.8, 2.8, 2.7, 3.3, 3.2, 2.8, 3. ,\n                2.8, 3. , 2.8, 3.8, 2.8, 2.8, 2.6, 3. , 3.4, 3.1, 3. , 3.1, 3.1, 3.1,\n                2.7, 3.2, 3.3, 3. , 2.5, 3. , 3.4, 3. ]),\n    'xaxis': 'x2'\n}), Histogram({\n    'marker': {'color': 'rgba(255,127,20)'},\n    'name': 'setosa',\n    'opacity': 0.7,\n    'showlegend': False,\n    'x': array([1.4, 1.4, 1.3, 1.5, 1.4, 1.7, 1.4, 1.5, 1.4, 1.5, 1.5, 1.6, 1.4, 1.1,\n                1.2, 1.5, 1.3, 1.4, 1.7, 1.5, 1.7, 1.5, 1. , 1.7, 1.9, 1.6, 1.6, 1.5,\n                1.4, 1.6, 1.6, 1.5, 1.5, 1.4, 1.5, 1.2, 1.3, 1.4, 1.3, 1.5, 1.3, 1.3,\n                1.3, 1.6, 1.9, 1.4, 1.6, 1.4, 1.5, 1.4]),\n    'xaxis': 'x3'\n}), Histogram({\n    'marker': {'color': 'rgba(31,22,120)'},\n    'name': 'versicolor',\n    'opacity': 0.7,\n    'showlegend': False,\n    'x': array([4.7, 4.5, 4.9, 4. , 4.6, 4.5, 4.7, 3.3, 4.6, 3.9, 3.5, 4.2, 4. , 4.7,\n                3.6, 4.4, 4.5, 4.1, 4.5, 3.9, 4.8, 4. , 4.9, 4.7, 4.3, 4.4, 4.8, 5. ,\n                4.5, 3.5, 3.8, 3.7, 3.9, 5.1, 4.5, 4.5, 4.7, 4.4, 4.1, 4. , 4.4, 4.6,\n                4. , 3.3, 4.2, 4.2, 4.2, 4.3, 3. , 4.1]),\n    'xaxis': 'x3'\n}), Histogram({\n    'marker': {'color': 'rgba(44,50,180)'},\n    'name': 'virginica',\n    'opacity': 0.7,\n    'showlegend': False,\n    'x': array([6. , 5.1, 5.9, 5.6, 5.8, 6.6, 4.5, 6.3, 5.8, 6.1, 5.1, 5.3, 5.5, 5. ,\n                5.1, 5.3, 5.5, 6.7, 6.9, 5. , 5.7, 4.9, 6.7, 4.9, 5.7, 6. , 4.8, 4.9,\n                5.6, 5.8, 6.1, 6.4, 5.6, 5.1, 5.6, 6.1, 5.6, 5.5, 4.8, 5.4, 5.6, 5.1,\n                5.1, 5.9, 5.7, 5.2, 5. , 5.2, 5.4, 5.1]),\n    'xaxis': 'x3'\n}), Histogram({\n    'marker': {'color': 'rgba(255,127,20)'},\n    'name': 'setosa',\n    'opacity': 0.7,\n    'showlegend': False,\n    'x': array([0.2, 0.2, 0.2, 0.2, 0.2, 0.4, 0.3, 0.2, 0.2, 0.1, 0.2, 0.2, 0.1, 0.1,\n                0.2, 0.4, 0.4, 0.3, 0.3, 0.3, 0.2, 0.4, 0.2, 0.5, 0.2, 0.2, 0.4, 0.2,\n                0.2, 0.2, 0.2, 0.4, 0.1, 0.2, 0.2, 0.2, 0.2, 0.1, 0.2, 0.2, 0.3, 0.3,\n                0.2, 0.6, 0.4, 0.3, 0.2, 0.2, 0.2, 0.2]),\n    'xaxis': 'x4'\n}), Histogram({\n    'marker': {'color': 'rgba(31,22,120)'},\n    'name': 'versicolor',\n    'opacity': 0.7,\n    'showlegend': False,\n    'x': array([1.4, 1.5, 1.5, 1.3, 1.5, 1.3, 1.6, 1. , 1.3, 1.4, 1. , 1.5, 1. , 1.4,\n                1.3, 1.4, 1.5, 1. , 1.5, 1.1, 1.8, 1.3, 1.5, 1.2, 1.3, 1.4, 1.4, 1.7,\n                1.5, 1. , 1.1, 1. , 1.2, 1.6, 1.5, 1.6, 1.5, 1.3, 1.3, 1.3, 1.2, 1.4,\n                1.2, 1. , 1.3, 1.2, 1.3, 1.3, 1.1, 1.3]),\n    'xaxis': 'x4'\n}), Histogram({\n    'marker': {'color': 'rgba(44,50,180)'},\n    'name': 'virginica',\n    'opacity': 0.7,\n    'showlegend': False,\n    'x': array([2.5, 1.9, 2.1, 1.8, 2.2, 2.1, 1.7, 1.8, 1.8, 2.5, 2. , 1.9, 2.1, 2. ,\n                2.4, 2.3, 1.8, 2.2, 2.3, 1.5, 2.3, 2. , 2. , 1.8, 2.1, 1.8, 1.8, 1.8,\n                2.1, 1.6, 1.9, 2. , 2.2, 1.5, 1.4, 2.3, 2.4, 1.8, 1.8, 2.1, 2.4, 2.3,\n                1.9, 2.3, 2.5, 2.3, 1.9, 2. , 2.3, 1.8]),\n    'xaxis': 'x4'\n})]]\n\n    The 'data' property is a tuple of trace instances\n    that may be specified as:\n      - A list or tuple of trace instances\n        (e.g. [Scatter(...), Bar(...)])\n      - A single trace instance\n        (e.g. Scatter(...), Bar(...), etc.)\n      - A list or tuple of dicts of string/value properties where:\n        - The 'type' property specifies the trace type\n            One of: ['area', 'bar', 'barpolar', 'box',\n                     'candlestick', 'carpet', 'choropleth',\n                     'choroplethmapbox', 'cone', 'contour',\n                     'contourcarpet', 'densitymapbox', 'funnel',\n                     'funnelarea', 'heatmap', 'heatmapgl',\n                     'histogram', 'histogram2d',\n                     'histogram2dcontour', 'image', 'indicator',\n                     'isosurface', 'mesh3d', 'ohlc', 'parcats',\n                     'parcoords', 'pie', 'pointcloud', 'sankey',\n                     'scatter', 'scatter3d', 'scattercarpet',\n                     'scattergeo', 'scattergl', 'scattermapbox',\n                     'scatterpolar', 'scatterpolargl',\n                     'scatterternary', 'splom', 'streamtube',\n                     'sunburst', 'surface', 'table', 'treemap',\n                     'violin', 'volume', 'waterfall']\n\n        - All remaining properties are passed to the constructor of\n          the specified trace type\n\n        (e.g. [{'type': 'scatter', ...}, {'type': 'bar, ...}])",
     "output_type": "error",
     "traceback": [
      "\u001b[0;31m---------------------------------------------------------------------------\u001b[0m",
      "\u001b[0;31mValueError\u001b[0m                                Traceback (most recent call last)",
      "\u001b[0;32m<ipython-input-36-ef536e65be0e>\u001b[0m in \u001b[0;36m<module>\u001b[0;34m\u001b[0m\n\u001b[1;32m     21\u001b[0m                     title = 'Distribucion de los rasgos de las diferentes flores Iris')\n\u001b[1;32m     22\u001b[0m \u001b[0;34m\u001b[0m\u001b[0m\n\u001b[0;32m---> 23\u001b[0;31m \u001b[0mfig\u001b[0m \u001b[0;34m=\u001b[0m \u001b[0mgo\u001b[0m\u001b[0;34m.\u001b[0m\u001b[0mFigure\u001b[0m\u001b[0;34m(\u001b[0m\u001b[0mdata\u001b[0m\u001b[0;34m=\u001b[0m\u001b[0mdata\u001b[0m\u001b[0;34m,\u001b[0m \u001b[0mlayout\u001b[0m \u001b[0;34m=\u001b[0m\u001b[0mlayout\u001b[0m\u001b[0;34m)\u001b[0m\u001b[0;34m\u001b[0m\u001b[0;34m\u001b[0m\u001b[0m\n\u001b[0m\u001b[1;32m     24\u001b[0m \u001b[0miplot\u001b[0m\u001b[0;34m(\u001b[0m\u001b[0mfig\u001b[0m\u001b[0;34m)\u001b[0m\u001b[0;34m\u001b[0m\u001b[0;34m\u001b[0m\u001b[0m\n",
      "\u001b[0;32m/Library/anaconda3/envs/ML/lib/python3.7/site-packages/plotly/graph_objs/_figure.py\u001b[0m in \u001b[0;36m__init__\u001b[0;34m(self, data, layout, frames, skip_invalid, **kwargs)\u001b[0m\n\u001b[1;32m    594\u001b[0m             \u001b[0;32mis\u001b[0m \u001b[0minvalid\u001b[0m \u001b[0mAND\u001b[0m \u001b[0mskip_invalid\u001b[0m \u001b[0;32mis\u001b[0m \u001b[0;32mFalse\u001b[0m\u001b[0;34m\u001b[0m\u001b[0;34m\u001b[0m\u001b[0m\n\u001b[1;32m    595\u001b[0m         \"\"\"\n\u001b[0;32m--> 596\u001b[0;31m         \u001b[0msuper\u001b[0m\u001b[0;34m(\u001b[0m\u001b[0mFigure\u001b[0m\u001b[0;34m,\u001b[0m \u001b[0mself\u001b[0m\u001b[0;34m)\u001b[0m\u001b[0;34m.\u001b[0m\u001b[0m__init__\u001b[0m\u001b[0;34m(\u001b[0m\u001b[0mdata\u001b[0m\u001b[0;34m,\u001b[0m \u001b[0mlayout\u001b[0m\u001b[0;34m,\u001b[0m \u001b[0mframes\u001b[0m\u001b[0;34m,\u001b[0m \u001b[0mskip_invalid\u001b[0m\u001b[0;34m,\u001b[0m \u001b[0;34m**\u001b[0m\u001b[0mkwargs\u001b[0m\u001b[0;34m)\u001b[0m\u001b[0;34m\u001b[0m\u001b[0;34m\u001b[0m\u001b[0m\n\u001b[0m\u001b[1;32m    597\u001b[0m \u001b[0;34m\u001b[0m\u001b[0m\n\u001b[1;32m    598\u001b[0m     def add_area(\n",
      "\u001b[0;32m/Library/anaconda3/envs/ML/lib/python3.7/site-packages/plotly/basedatatypes.py\u001b[0m in \u001b[0;36m__init__\u001b[0;34m(self, data, layout_plotly, frames, skip_invalid, **kwargs)\u001b[0m\n\u001b[1;32m    515\u001b[0m         \u001b[0;31m# ### Import traces ###\u001b[0m\u001b[0;34m\u001b[0m\u001b[0;34m\u001b[0m\u001b[0;34m\u001b[0m\u001b[0m\n\u001b[1;32m    516\u001b[0m         data = self._data_validator.validate_coerce(\n\u001b[0;32m--> 517\u001b[0;31m             \u001b[0mdata\u001b[0m\u001b[0;34m,\u001b[0m \u001b[0mskip_invalid\u001b[0m\u001b[0;34m=\u001b[0m\u001b[0mskip_invalid\u001b[0m\u001b[0;34m,\u001b[0m \u001b[0m_validate\u001b[0m\u001b[0;34m=\u001b[0m\u001b[0mself\u001b[0m\u001b[0;34m.\u001b[0m\u001b[0m_validate\u001b[0m\u001b[0;34m\u001b[0m\u001b[0;34m\u001b[0m\u001b[0m\n\u001b[0m\u001b[1;32m    518\u001b[0m         )\n\u001b[1;32m    519\u001b[0m \u001b[0;34m\u001b[0m\u001b[0m\n",
      "\u001b[0;32m/Library/anaconda3/envs/ML/lib/python3.7/site-packages/_plotly_utils/basevalidators.py\u001b[0m in \u001b[0;36mvalidate_coerce\u001b[0;34m(self, v, skip_invalid, _validate)\u001b[0m\n\u001b[1;32m   2675\u001b[0m \u001b[0;34m\u001b[0m\u001b[0m\n\u001b[1;32m   2676\u001b[0m             \u001b[0;32mif\u001b[0m \u001b[0minvalid_els\u001b[0m\u001b[0;34m:\u001b[0m\u001b[0;34m\u001b[0m\u001b[0;34m\u001b[0m\u001b[0m\n\u001b[0;32m-> 2677\u001b[0;31m                 \u001b[0mself\u001b[0m\u001b[0;34m.\u001b[0m\u001b[0mraise_invalid_elements\u001b[0m\u001b[0;34m(\u001b[0m\u001b[0minvalid_els\u001b[0m\u001b[0;34m)\u001b[0m\u001b[0;34m\u001b[0m\u001b[0;34m\u001b[0m\u001b[0m\n\u001b[0m\u001b[1;32m   2678\u001b[0m \u001b[0;34m\u001b[0m\u001b[0m\n\u001b[1;32m   2679\u001b[0m             \u001b[0mv\u001b[0m \u001b[0;34m=\u001b[0m \u001b[0mto_scalar_or_list\u001b[0m\u001b[0;34m(\u001b[0m\u001b[0mres\u001b[0m\u001b[0;34m)\u001b[0m\u001b[0;34m\u001b[0m\u001b[0;34m\u001b[0m\u001b[0m\n",
      "\u001b[0;32m/Library/anaconda3/envs/ML/lib/python3.7/site-packages/_plotly_utils/basevalidators.py\u001b[0m in \u001b[0;36mraise_invalid_elements\u001b[0;34m(self, invalid_els)\u001b[0m\n\u001b[1;32m    300\u001b[0m                     \u001b[0mpname\u001b[0m\u001b[0;34m=\u001b[0m\u001b[0mself\u001b[0m\u001b[0;34m.\u001b[0m\u001b[0mparent_name\u001b[0m\u001b[0;34m,\u001b[0m\u001b[0;34m\u001b[0m\u001b[0;34m\u001b[0m\u001b[0m\n\u001b[1;32m    301\u001b[0m                     \u001b[0minvalid\u001b[0m\u001b[0;34m=\u001b[0m\u001b[0minvalid_els\u001b[0m\u001b[0;34m[\u001b[0m\u001b[0;34m:\u001b[0m\u001b[0;36m10\u001b[0m\u001b[0;34m]\u001b[0m\u001b[0;34m,\u001b[0m\u001b[0;34m\u001b[0m\u001b[0;34m\u001b[0m\u001b[0m\n\u001b[0;32m--> 302\u001b[0;31m                     \u001b[0mvalid_clr_desc\u001b[0m\u001b[0;34m=\u001b[0m\u001b[0mself\u001b[0m\u001b[0;34m.\u001b[0m\u001b[0mdescription\u001b[0m\u001b[0;34m(\u001b[0m\u001b[0;34m)\u001b[0m\u001b[0;34m,\u001b[0m\u001b[0;34m\u001b[0m\u001b[0;34m\u001b[0m\u001b[0m\n\u001b[0m\u001b[1;32m    303\u001b[0m                 )\n\u001b[1;32m    304\u001b[0m             )\n",
      "\u001b[0;31mValueError\u001b[0m: \n    Invalid element(s) received for the 'data' property of \n        Invalid elements include: [[Histogram({\n    'marker': {'color': 'rgba(255,127,20)'},\n    'name': 'setosa',\n    'opacity': 0.7,\n    'showlegend': False,\n    'x': array([5.1, 4.9, 4.7, 4.6, 5. , 5.4, 4.6, 5. , 4.4, 4.9, 5.4, 4.8, 4.8, 4.3,\n                5.8, 5.7, 5.4, 5.1, 5.7, 5.1, 5.4, 5.1, 4.6, 5.1, 4.8, 5. , 5. , 5.2,\n                5.2, 4.7, 4.8, 5.4, 5.2, 5.5, 4.9, 5. , 5.5, 4.9, 4.4, 5.1, 5. , 4.5,\n                4.4, 5. , 5.1, 4.8, 5.1, 4.6, 5.3, 5. ]),\n    'xaxis': 'x'\n}), Histogram({\n    'marker': {'color': 'rgba(31,22,120)'},\n    'name': 'versicolor',\n    'opacity': 0.7,\n    'showlegend': False,\n    'x': array([7. , 6.4, 6.9, 5.5, 6.5, 5.7, 6.3, 4.9, 6.6, 5.2, 5. , 5.9, 6. , 6.1,\n                5.6, 6.7, 5.6, 5.8, 6.2, 5.6, 5.9, 6.1, 6.3, 6.1, 6.4, 6.6, 6.8, 6.7,\n                6. , 5.7, 5.5, 5.5, 5.8, 6. , 5.4, 6. , 6.7, 6.3, 5.6, 5.5, 5.5, 6.1,\n                5.8, 5. , 5.6, 5.7, 5.7, 6.2, 5.1, 5.7]),\n    'xaxis': 'x'\n}), Histogram({\n    'marker': {'color': 'rgba(44,50,180)'},\n    'name': 'virginica',\n    'opacity': 0.7,\n    'showlegend': False,\n    'x': array([6.3, 5.8, 7.1, 6.3, 6.5, 7.6, 4.9, 7.3, 6.7, 7.2, 6.5, 6.4, 6.8, 5.7,\n                5.8, 6.4, 6.5, 7.7, 7.7, 6. , 6.9, 5.6, 7.7, 6.3, 6.7, 7.2, 6.2, 6.1,\n                6.4, 7.2, 7.4, 7.9, 6.4, 6.3, 6.1, 7.7, 6.3, 6.4, 6. , 6.9, 6.7, 6.9,\n                5.8, 6.8, 6.7, 6.7, 6.3, 6.5, 6.2, 5.9]),\n    'xaxis': 'x'\n}), Histogram({\n    'marker': {'color': 'rgba(255,127,20)'},\n    'name': 'setosa',\n    'opacity': 0.7,\n    'showlegend': False,\n    'x': array([3.5, 3. , 3.2, 3.1, 3.6, 3.9, 3.4, 3.4, 2.9, 3.1, 3.7, 3.4, 3. , 3. ,\n                4. , 4.4, 3.9, 3.5, 3.8, 3.8, 3.4, 3.7, 3.6, 3.3, 3.4, 3. , 3.4, 3.5,\n                3.4, 3.2, 3.1, 3.4, 4.1, 4.2, 3.1, 3.2, 3.5, 3.6, 3. , 3.4, 3.5, 2.3,\n                3.2, 3.5, 3.8, 3. , 3.8, 3.2, 3.7, 3.3]),\n    'xaxis': 'x2'\n}), Histogram({\n    'marker': {'color': 'rgba(31,22,120)'},\n    'name': 'versicolor',\n    'opacity': 0.7,\n    'showlegend': False,\n    'x': array([3.2, 3.2, 3.1, 2.3, 2.8, 2.8, 3.3, 2.4, 2.9, 2.7, 2. , 3. , 2.2, 2.9,\n                2.9, 3.1, 3. , 2.7, 2.2, 2.5, 3.2, 2.8, 2.5, 2.8, 2.9, 3. , 2.8, 3. ,\n                2.9, 2.6, 2.4, 2.4, 2.7, 2.7, 3. , 3.4, 3.1, 2.3, 3. , 2.5, 2.6, 3. ,\n                2.6, 2.3, 2.7, 3. , 2.9, 2.9, 2.5, 2.8]),\n    'xaxis': 'x2'\n}), Histogram({\n    'marker': {'color': 'rgba(44,50,180)'},\n    'name': 'virginica',\n    'opacity': 0.7,\n    'showlegend': False,\n    'x': array([3.3, 2.7, 3. , 2.9, 3. , 3. , 2.5, 2.9, 2.5, 3.6, 3.2, 2.7, 3. , 2.5,\n                2.8, 3.2, 3. , 3.8, 2.6, 2.2, 3.2, 2.8, 2.8, 2.7, 3.3, 3.2, 2.8, 3. ,\n                2.8, 3. , 2.8, 3.8, 2.8, 2.8, 2.6, 3. , 3.4, 3.1, 3. , 3.1, 3.1, 3.1,\n                2.7, 3.2, 3.3, 3. , 2.5, 3. , 3.4, 3. ]),\n    'xaxis': 'x2'\n}), Histogram({\n    'marker': {'color': 'rgba(255,127,20)'},\n    'name': 'setosa',\n    'opacity': 0.7,\n    'showlegend': False,\n    'x': array([1.4, 1.4, 1.3, 1.5, 1.4, 1.7, 1.4, 1.5, 1.4, 1.5, 1.5, 1.6, 1.4, 1.1,\n                1.2, 1.5, 1.3, 1.4, 1.7, 1.5, 1.7, 1.5, 1. , 1.7, 1.9, 1.6, 1.6, 1.5,\n                1.4, 1.6, 1.6, 1.5, 1.5, 1.4, 1.5, 1.2, 1.3, 1.4, 1.3, 1.5, 1.3, 1.3,\n                1.3, 1.6, 1.9, 1.4, 1.6, 1.4, 1.5, 1.4]),\n    'xaxis': 'x3'\n}), Histogram({\n    'marker': {'color': 'rgba(31,22,120)'},\n    'name': 'versicolor',\n    'opacity': 0.7,\n    'showlegend': False,\n    'x': array([4.7, 4.5, 4.9, 4. , 4.6, 4.5, 4.7, 3.3, 4.6, 3.9, 3.5, 4.2, 4. , 4.7,\n                3.6, 4.4, 4.5, 4.1, 4.5, 3.9, 4.8, 4. , 4.9, 4.7, 4.3, 4.4, 4.8, 5. ,\n                4.5, 3.5, 3.8, 3.7, 3.9, 5.1, 4.5, 4.5, 4.7, 4.4, 4.1, 4. , 4.4, 4.6,\n                4. , 3.3, 4.2, 4.2, 4.2, 4.3, 3. , 4.1]),\n    'xaxis': 'x3'\n}), Histogram({\n    'marker': {'color': 'rgba(44,50,180)'},\n    'name': 'virginica',\n    'opacity': 0.7,\n    'showlegend': False,\n    'x': array([6. , 5.1, 5.9, 5.6, 5.8, 6.6, 4.5, 6.3, 5.8, 6.1, 5.1, 5.3, 5.5, 5. ,\n                5.1, 5.3, 5.5, 6.7, 6.9, 5. , 5.7, 4.9, 6.7, 4.9, 5.7, 6. , 4.8, 4.9,\n                5.6, 5.8, 6.1, 6.4, 5.6, 5.1, 5.6, 6.1, 5.6, 5.5, 4.8, 5.4, 5.6, 5.1,\n                5.1, 5.9, 5.7, 5.2, 5. , 5.2, 5.4, 5.1]),\n    'xaxis': 'x3'\n}), Histogram({\n    'marker': {'color': 'rgba(255,127,20)'},\n    'name': 'setosa',\n    'opacity': 0.7,\n    'showlegend': False,\n    'x': array([0.2, 0.2, 0.2, 0.2, 0.2, 0.4, 0.3, 0.2, 0.2, 0.1, 0.2, 0.2, 0.1, 0.1,\n                0.2, 0.4, 0.4, 0.3, 0.3, 0.3, 0.2, 0.4, 0.2, 0.5, 0.2, 0.2, 0.4, 0.2,\n                0.2, 0.2, 0.2, 0.4, 0.1, 0.2, 0.2, 0.2, 0.2, 0.1, 0.2, 0.2, 0.3, 0.3,\n                0.2, 0.6, 0.4, 0.3, 0.2, 0.2, 0.2, 0.2]),\n    'xaxis': 'x4'\n}), Histogram({\n    'marker': {'color': 'rgba(31,22,120)'},\n    'name': 'versicolor',\n    'opacity': 0.7,\n    'showlegend': False,\n    'x': array([1.4, 1.5, 1.5, 1.3, 1.5, 1.3, 1.6, 1. , 1.3, 1.4, 1. , 1.5, 1. , 1.4,\n                1.3, 1.4, 1.5, 1. , 1.5, 1.1, 1.8, 1.3, 1.5, 1.2, 1.3, 1.4, 1.4, 1.7,\n                1.5, 1. , 1.1, 1. , 1.2, 1.6, 1.5, 1.6, 1.5, 1.3, 1.3, 1.3, 1.2, 1.4,\n                1.2, 1. , 1.3, 1.2, 1.3, 1.3, 1.1, 1.3]),\n    'xaxis': 'x4'\n}), Histogram({\n    'marker': {'color': 'rgba(44,50,180)'},\n    'name': 'virginica',\n    'opacity': 0.7,\n    'showlegend': False,\n    'x': array([2.5, 1.9, 2.1, 1.8, 2.2, 2.1, 1.7, 1.8, 1.8, 2.5, 2. , 1.9, 2.1, 2. ,\n                2.4, 2.3, 1.8, 2.2, 2.3, 1.5, 2.3, 2. , 2. , 1.8, 2.1, 1.8, 1.8, 1.8,\n                2.1, 1.6, 1.9, 2. , 2.2, 1.5, 1.4, 2.3, 2.4, 1.8, 1.8, 2.1, 2.4, 2.3,\n                1.9, 2.3, 2.5, 2.3, 1.9, 2. , 2.3, 1.8]),\n    'xaxis': 'x4'\n})]]\n\n    The 'data' property is a tuple of trace instances\n    that may be specified as:\n      - A list or tuple of trace instances\n        (e.g. [Scatter(...), Bar(...)])\n      - A single trace instance\n        (e.g. Scatter(...), Bar(...), etc.)\n      - A list or tuple of dicts of string/value properties where:\n        - The 'type' property specifies the trace type\n            One of: ['area', 'bar', 'barpolar', 'box',\n                     'candlestick', 'carpet', 'choropleth',\n                     'choroplethmapbox', 'cone', 'contour',\n                     'contourcarpet', 'densitymapbox', 'funnel',\n                     'funnelarea', 'heatmap', 'heatmapgl',\n                     'histogram', 'histogram2d',\n                     'histogram2dcontour', 'image', 'indicator',\n                     'isosurface', 'mesh3d', 'ohlc', 'parcats',\n                     'parcoords', 'pie', 'pointcloud', 'sankey',\n                     'scatter', 'scatter3d', 'scattercarpet',\n                     'scattergeo', 'scattergl', 'scattermapbox',\n                     'scatterpolar', 'scatterpolargl',\n                     'scatterternary', 'splom', 'streamtube',\n                     'sunburst', 'surface', 'table', 'treemap',\n                     'violin', 'volume', 'waterfall']\n\n        - All remaining properties are passed to the constructor of\n          the specified trace type\n\n        (e.g. [{'type': 'scatter', ...}, {'type': 'bar, ...}])"
     ]
    }
   ],
   "source": [
    "traces = []\n",
    "legend = {0:False, 1:False, 2:False, 3:False}\n",
    "\n",
    "colors = {'setosa': 'rgba(255,127,20)',\n",
    "          'versicolor': 'rgba(31,22,120)',\n",
    "          'virginica': 'rgba(44,50,180)'}\n",
    "\n",
    "for col in range(4):\n",
    "    for key in colors:\n",
    "        traces.append(go.Histogram(x=X[Y==key, col], opacity = 0.7, xaxis='x%s'%(col+1), marker=dict(color=colors[key]),name = key, showlegend=legend[col]))\n",
    "        \n",
    "    legend = {0:False, 1:False, 2:False, 3:False}\n",
    "        \n",
    "data = [traces]\n",
    "layout = go.Layout(barmode='overlay',\n",
    "                    xaxis=dict(domain=(0,0.25), title='Long, Sepalos (cm)'),\n",
    "                    xaxis2=dict(domain=(0.3,0.5), title='Anch, Sepalos (cm)'),\n",
    "                    xaxis3=dict(domain=(0.55, 0.75), title='Long, Petalos(cm)'),\n",
    "                    xaxis4=dict(domain=(0.8, 1.0), title='Anch, Petalos(cm)'),\n",
    "                    yaxis=dict(title = 'Numero de ejmplares'),\n",
    "                    title = 'Distribucion de los rasgos de las diferentes flores Iris')\n",
    "                                    \n",
    "fig = go.Figure(data=data, layout =layout)\n",
    "iplot(fig)"
   ]
  },
  {
   "cell_type": "markdown",
   "id": "metallic-expression",
   "metadata": {},
   "source": [
    "## 1.- Calculamos la descomposicion de valores y vectores propios\n",
    "\n",
    "### a) Usando la Matriz de Covarianzas"
   ]
  },
  {
   "cell_type": "code",
   "execution_count": 17,
   "id": "solved-arrangement",
   "metadata": {},
   "outputs": [],
   "source": [
    "from IPython.display import display, Math, Latex\n",
    "from sklearn.preprocessing import StandardScaler\n",
    "X_std = StandardScaler().fit_transform(X)"
   ]
  },
  {
   "cell_type": "markdown",
   "id": "pretty-prison",
   "metadata": {},
   "source": [
    "$ \\sigma_{jk} = \\frac{l}{n-1}\\sum_{i=1}^m (x_{ij} - \\overline{x_j})(x_{ik} - \\overline{x_k}) $"
   ]
  },
  {
   "cell_type": "markdown",
   "id": "rapid-momentum",
   "metadata": {},
   "source": [
    "$ \\Sigma = \\frac{1}{n-1}((X-\\overline{x})^T(X - \\overline{x})) $"
   ]
  },
  {
   "cell_type": "markdown",
   "id": "corresponding-visiting",
   "metadata": {},
   "source": [
    "$ \\overline{x} = \\sum_{i=1}^n x_i\\in \\mathbb R^m $"
   ]
  },
  {
   "cell_type": "code",
   "execution_count": 8,
   "id": "continuous-thriller",
   "metadata": {},
   "outputs": [],
   "source": [
    "import numpy as np"
   ]
  },
  {
   "cell_type": "code",
   "execution_count": 18,
   "id": "placed-gender",
   "metadata": {},
   "outputs": [
    {
     "data": {
      "text/plain": [
       "array([-4.73695157e-16, -7.81597009e-16, -4.26325641e-16, -4.73695157e-16])"
      ]
     },
     "execution_count": 18,
     "metadata": {},
     "output_type": "execute_result"
    }
   ],
   "source": [
    "mean_vect = np.mean(X_std, axis=0)\n",
    "mean_vect"
   ]
  },
  {
   "cell_type": "code",
   "execution_count": 19,
   "id": "personal-observation",
   "metadata": {},
   "outputs": [
    {
     "data": {
      "text/plain": [
       "array([[ 1.00671141, -0.11835884,  0.87760447,  0.82343066],\n",
       "       [-0.11835884,  1.00671141, -0.43131554, -0.36858315],\n",
       "       [ 0.87760447, -0.43131554,  1.00671141,  0.96932762],\n",
       "       [ 0.82343066, -0.36858315,  0.96932762,  1.00671141]])"
      ]
     },
     "execution_count": 19,
     "metadata": {},
     "output_type": "execute_result"
    }
   ],
   "source": [
    "cov_matrix = (X_std - mean_vect).T.dot((X_std - mean_vect))/(X_std.shape[0]-1)\n",
    "cov_matrix"
   ]
  },
  {
   "cell_type": "code",
   "execution_count": 20,
   "id": "accessory-couple",
   "metadata": {},
   "outputs": [
    {
     "data": {
      "text/plain": [
       "array([[ 1.00671141, -0.11835884,  0.87760447,  0.82343066],\n",
       "       [-0.11835884,  1.00671141, -0.43131554, -0.36858315],\n",
       "       [ 0.87760447, -0.43131554,  1.00671141,  0.96932762],\n",
       "       [ 0.82343066, -0.36858315,  0.96932762,  1.00671141]])"
      ]
     },
     "execution_count": 20,
     "metadata": {},
     "output_type": "execute_result"
    }
   ],
   "source": [
    "np.cov(X_std.T)"
   ]
  },
  {
   "cell_type": "code",
   "execution_count": 21,
   "id": "driving-tattoo",
   "metadata": {},
   "outputs": [],
   "source": [
    "eig_values, eig_vectors = np.linalg.eig(cov_matrix)"
   ]
  },
  {
   "cell_type": "code",
   "execution_count": 22,
   "id": "unlimited-cambodia",
   "metadata": {},
   "outputs": [
    {
     "name": "stdout",
     "output_type": "stream",
     "text": [
      "Valores propios \n",
      "[2.93808505 0.9201649  0.14774182 0.02085386]\n",
      "Valores propios \n",
      "[[ 0.52106591 -0.37741762 -0.71956635  0.26128628]\n",
      " [-0.26934744 -0.92329566  0.24438178 -0.12350962]\n",
      " [ 0.5804131  -0.02449161  0.14212637 -0.80144925]\n",
      " [ 0.56485654 -0.06694199  0.63427274  0.52359713]]\n"
     ]
    }
   ],
   "source": [
    "print(\"Valores propios \\n%s\"%eig_values)\n",
    "print(\"Valores propios \\n%s\"%eig_vectors)"
   ]
  },
  {
   "cell_type": "markdown",
   "id": "consolidated-motel",
   "metadata": {},
   "source": [
    "### b) Usando la Matriz de Correlaciones"
   ]
  },
  {
   "cell_type": "code",
   "execution_count": 24,
   "id": "still-channels",
   "metadata": {},
   "outputs": [
    {
     "data": {
      "text/plain": [
       "array([[ 1.        , -0.11756978,  0.87175378,  0.81794113],\n",
       "       [-0.11756978,  1.        , -0.4284401 , -0.36612593],\n",
       "       [ 0.87175378, -0.4284401 ,  1.        ,  0.96286543],\n",
       "       [ 0.81794113, -0.36612593,  0.96286543,  1.        ]])"
      ]
     },
     "execution_count": 24,
     "metadata": {},
     "output_type": "execute_result"
    }
   ],
   "source": [
    "corr_matrix = np.corrcoef(X_std.T)\n",
    "corr_matrix"
   ]
  },
  {
   "cell_type": "code",
   "execution_count": 25,
   "id": "increasing-collins",
   "metadata": {},
   "outputs": [
    {
     "name": "stdout",
     "output_type": "stream",
     "text": [
      "Valores propios \n",
      "[2.91849782 0.91403047 0.14675688 0.02071484]\n",
      "Valores propios \n",
      "[[ 0.52106591 -0.37741762 -0.71956635  0.26128628]\n",
      " [-0.26934744 -0.92329566  0.24438178 -0.12350962]\n",
      " [ 0.5804131  -0.02449161  0.14212637 -0.80144925]\n",
      " [ 0.56485654 -0.06694199  0.63427274  0.52359713]]\n"
     ]
    }
   ],
   "source": [
    "eig_values_corr, eig_vectors_corr = np.linalg.eig(corr_matrix)\n",
    "print('Valores propios \\n%s'%eig_values_corr)\n",
    "print('Valores propios \\n%s'%eig_vectors_corr)"
   ]
  },
  {
   "cell_type": "markdown",
   "id": "later-settlement",
   "metadata": {},
   "source": [
    "### c) Singular Value Deomposition"
   ]
  },
  {
   "cell_type": "code",
   "execution_count": 26,
   "id": "pacific-milton",
   "metadata": {},
   "outputs": [
    {
     "data": {
      "text/plain": [
       "array([[-0.52106591, -0.37741762,  0.71956635,  0.26128628],\n",
       "       [ 0.26934744, -0.92329566, -0.24438178, -0.12350962],\n",
       "       [-0.5804131 , -0.02449161, -0.14212637, -0.80144925],\n",
       "       [-0.56485654, -0.06694199, -0.63427274,  0.52359713]])"
      ]
     },
     "execution_count": 26,
     "metadata": {},
     "output_type": "execute_result"
    }
   ],
   "source": [
    "u,s,v = np.linalg.svd(X_std.T)\n",
    "u"
   ]
  },
  {
   "cell_type": "code",
   "execution_count": 27,
   "id": "built-manitoba",
   "metadata": {},
   "outputs": [
    {
     "data": {
      "text/plain": [
       "array([20.92306556, 11.7091661 ,  4.69185798,  1.76273239])"
      ]
     },
     "execution_count": 27,
     "metadata": {},
     "output_type": "execute_result"
    }
   ],
   "source": [
    "s"
   ]
  },
  {
   "cell_type": "code",
   "execution_count": 28,
   "id": "critical-processor",
   "metadata": {},
   "outputs": [
    {
     "data": {
      "text/plain": [
       "array([[ 1.08239531e-01,  9.94577561e-02,  1.12996303e-01, ...,\n",
       "        -7.27030413e-02, -6.56112167e-02, -4.59137323e-02],\n",
       "       [-4.09957970e-02,  5.75731483e-02,  2.92000319e-02, ...,\n",
       "        -2.29793601e-02, -8.63643414e-02,  2.07800179e-03],\n",
       "       [ 2.72186462e-02,  5.00034005e-02, -9.42089147e-03, ...,\n",
       "        -3.84023516e-02, -1.98939364e-01, -1.12588405e-01],\n",
       "       ...,\n",
       "       [ 5.43380310e-02,  5.12936114e-03,  2.75184277e-02, ...,\n",
       "         9.89532683e-01, -1.41206665e-02, -8.30595907e-04],\n",
       "       [ 1.96438400e-03,  8.48544595e-02,  1.78604309e-01, ...,\n",
       "        -1.25488246e-02,  9.52049996e-01, -2.19201906e-02],\n",
       "       [ 2.46978090e-03,  5.83496936e-03,  1.49419118e-01, ...,\n",
       "        -7.17729676e-04, -2.32048811e-02,  9.77300244e-01]])"
      ]
     },
     "execution_count": 28,
     "metadata": {},
     "output_type": "execute_result"
    }
   ],
   "source": [
    "v"
   ]
  },
  {
   "cell_type": "markdown",
   "id": "generous-providence",
   "metadata": {},
   "source": [
    " ## 2.- Las componentes principales"
   ]
  },
  {
   "cell_type": "code",
   "execution_count": null,
   "id": "pursuant-visit",
   "metadata": {},
   "outputs": [],
   "source": []
  }
 ],
 "metadata": {
  "kernelspec": {
   "display_name": "Python 3",
   "language": "python",
   "name": "python3"
  },
  "language_info": {
   "codemirror_mode": {
    "name": "ipython",
    "version": 3
   },
   "file_extension": ".py",
   "mimetype": "text/x-python",
   "name": "python",
   "nbconvert_exporter": "python",
   "pygments_lexer": "ipython3",
   "version": "3.7.9"
  }
 },
 "nbformat": 4,
 "nbformat_minor": 5
}
