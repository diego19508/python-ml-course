{
 "cells": [
  {
   "cell_type": "markdown",
   "id": "obvious-workshop",
   "metadata": {},
   "source": [
    "# Introduccion a TensorFlow"
   ]
  },
  {
   "cell_type": "code",
   "execution_count": 1,
   "id": "seventh-story",
   "metadata": {},
   "outputs": [],
   "source": [
    "import tensorflow as tf"
   ]
  },
  {
   "cell_type": "code",
   "execution_count": 2,
   "id": "embedded-trinidad",
   "metadata": {},
   "outputs": [],
   "source": [
    "x1 = tf.constant([1,2,3,4,5])\n",
    "x2 = tf.constant([6,7,8,9,10])"
   ]
  },
  {
   "cell_type": "code",
   "execution_count": 5,
   "id": "rocky-detail",
   "metadata": {},
   "outputs": [
    {
     "name": "stdout",
     "output_type": "stream",
     "text": [
      "Tensor(\"Mul_2:0\", shape=(5,), dtype=int32)\n"
     ]
    }
   ],
   "source": [
    "res = tf.multiply(x1,x2)\n",
    "print(res)"
   ]
  },
  {
   "cell_type": "code",
   "execution_count": 7,
   "id": "fabulous-above",
   "metadata": {},
   "outputs": [
    {
     "name": "stdout",
     "output_type": "stream",
     "text": [
      "[ 6 14 24 36 50]\n"
     ]
    }
   ],
   "source": [
    "sess = tf.Session()\n",
    "print(sess.run(res))\n",
    "sess.close()"
   ]
  },
  {
   "cell_type": "code",
   "execution_count": 8,
   "id": "quiet-purple",
   "metadata": {},
   "outputs": [
    {
     "name": "stdout",
     "output_type": "stream",
     "text": [
      "[ 6 14 24 36 50]\n"
     ]
    }
   ],
   "source": [
    "with tf.Session() as sess:\n",
    "    output = sess.run(res)\n",
    "    print(output)"
   ]
  },
  {
   "cell_type": "code",
   "execution_count": 10,
   "id": "prescription-wellington",
   "metadata": {},
   "outputs": [],
   "source": [
    "config = tf.ConfigProto(log_device_placement = True)\n",
    "config = tf.ConfigProto(allow_soft_placement = True)"
   ]
  },
  {
   "cell_type": "markdown",
   "id": "political-occupation",
   "metadata": {},
   "source": [
    "## Aprendizaje neuronal de las senales de trafico"
   ]
  },
  {
   "cell_type": "code",
   "execution_count": 40,
   "id": "dedicated-comfort",
   "metadata": {},
   "outputs": [],
   "source": [
    "import os\n",
    "import skimage \n",
    "from skimage import io"
   ]
  },
  {
   "cell_type": "code",
   "execution_count": 41,
   "id": "instructional-federation",
   "metadata": {},
   "outputs": [],
   "source": [
    "def load_ml_data(data_directory):\n",
    "    dirs = [d for d in os.listdir(data_directory)\n",
    "           if os.path.isdir(os.path.join(data_directory,d))]\n",
    "    \n",
    "    labels = []\n",
    "    images = []\n",
    "    for d in dirs:\n",
    "        label_dir = os.path.join(data_directory, d)\n",
    "        file_names = [os.path.join(label_dir, f)\n",
    "                     for f in os.listdir(label_dir)\n",
    "                     if f.endswith(\".ppm\")]\n",
    "        \n",
    "        for f in file_names:\n",
    "            images.append(skimage.io.imread(f))\n",
    "            labels.append(int(d))\n",
    "            \n",
    "    return images, labels"
   ]
  },
  {
   "cell_type": "code",
   "execution_count": 42,
   "id": "rural-practice",
   "metadata": {},
   "outputs": [],
   "source": [
    "main_dir = \"../datasets/belgian/\"\n",
    "train_data_dir = os.path.join(main_dir, \"Training\")\n",
    "tast_data_dir = os.path.join(main_dir, \"Testing\")"
   ]
  },
  {
   "cell_type": "code",
   "execution_count": 43,
   "id": "demographic-picking",
   "metadata": {},
   "outputs": [],
   "source": [
    "images, labels = load_ml_data(train_data_dir)"
   ]
  },
  {
   "cell_type": "code",
   "execution_count": 44,
   "id": "rolled-perception",
   "metadata": {},
   "outputs": [
    {
     "data": {
      "text/plain": [
       "4575"
      ]
     },
     "execution_count": 44,
     "metadata": {},
     "output_type": "execute_result"
    }
   ],
   "source": [
    "len(images)"
   ]
  },
  {
   "cell_type": "code",
   "execution_count": null,
   "id": "stopped-international",
   "metadata": {},
   "outputs": [],
   "source": []
  }
 ],
 "metadata": {
  "kernelspec": {
   "display_name": "Python 3",
   "language": "python",
   "name": "python3"
  },
  "language_info": {
   "codemirror_mode": {
    "name": "ipython",
    "version": 3
   },
   "file_extension": ".py",
   "mimetype": "text/x-python",
   "name": "python",
   "nbconvert_exporter": "python",
   "pygments_lexer": "ipython3",
   "version": "3.7.9"
  }
 },
 "nbformat": 4,
 "nbformat_minor": 5
}
