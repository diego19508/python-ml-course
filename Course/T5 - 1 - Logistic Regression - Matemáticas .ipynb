{
 "cells": [
  {
   "cell_type": "markdown",
   "id": "apparent-construction",
   "metadata": {},
   "source": [
    "# Las Matematicas tras la resgresion logistica\n",
    "\n",
    "## Las tablas de contingencia"
   ]
  },
  {
   "cell_type": "code",
   "execution_count": 1,
   "id": "featured-brazil",
   "metadata": {},
   "outputs": [],
   "source": [
    "import pandas as pd"
   ]
  },
  {
   "cell_type": "code",
   "execution_count": 3,
   "id": "external-capability",
   "metadata": {},
   "outputs": [],
   "source": [
    "df = pd.read_csv(\"../datasets/gender-purchase/Gender Purchase.csv\")"
   ]
  },
  {
   "cell_type": "code",
   "execution_count": 4,
   "id": "confused-commons",
   "metadata": {},
   "outputs": [
    {
     "data": {
      "text/html": [
       "<div>\n",
       "<style scoped>\n",
       "    .dataframe tbody tr th:only-of-type {\n",
       "        vertical-align: middle;\n",
       "    }\n",
       "\n",
       "    .dataframe tbody tr th {\n",
       "        vertical-align: top;\n",
       "    }\n",
       "\n",
       "    .dataframe thead th {\n",
       "        text-align: right;\n",
       "    }\n",
       "</style>\n",
       "<table border=\"1\" class=\"dataframe\">\n",
       "  <thead>\n",
       "    <tr style=\"text-align: right;\">\n",
       "      <th></th>\n",
       "      <th>Gender</th>\n",
       "      <th>Purchase</th>\n",
       "    </tr>\n",
       "  </thead>\n",
       "  <tbody>\n",
       "    <tr>\n",
       "      <th>0</th>\n",
       "      <td>Female</td>\n",
       "      <td>Yes</td>\n",
       "    </tr>\n",
       "    <tr>\n",
       "      <th>1</th>\n",
       "      <td>Female</td>\n",
       "      <td>Yes</td>\n",
       "    </tr>\n",
       "    <tr>\n",
       "      <th>2</th>\n",
       "      <td>Female</td>\n",
       "      <td>No</td>\n",
       "    </tr>\n",
       "    <tr>\n",
       "      <th>3</th>\n",
       "      <td>Male</td>\n",
       "      <td>No</td>\n",
       "    </tr>\n",
       "    <tr>\n",
       "      <th>4</th>\n",
       "      <td>Male</td>\n",
       "      <td>Yes</td>\n",
       "    </tr>\n",
       "  </tbody>\n",
       "</table>\n",
       "</div>"
      ],
      "text/plain": [
       "   Gender Purchase\n",
       "0  Female      Yes\n",
       "1  Female      Yes\n",
       "2  Female       No\n",
       "3    Male       No\n",
       "4    Male      Yes"
      ]
     },
     "execution_count": 4,
     "metadata": {},
     "output_type": "execute_result"
    }
   ],
   "source": [
    "df.head()"
   ]
  },
  {
   "cell_type": "code",
   "execution_count": 5,
   "id": "aboriginal-newspaper",
   "metadata": {},
   "outputs": [
    {
     "data": {
      "text/plain": [
       "(511, 2)"
      ]
     },
     "execution_count": 5,
     "metadata": {},
     "output_type": "execute_result"
    }
   ],
   "source": [
    "df.shape"
   ]
  },
  {
   "cell_type": "code",
   "execution_count": 6,
   "id": "monetary-invalid",
   "metadata": {},
   "outputs": [
    {
     "data": {
      "text/html": [
       "<div>\n",
       "<style scoped>\n",
       "    .dataframe tbody tr th:only-of-type {\n",
       "        vertical-align: middle;\n",
       "    }\n",
       "\n",
       "    .dataframe tbody tr th {\n",
       "        vertical-align: top;\n",
       "    }\n",
       "\n",
       "    .dataframe thead th {\n",
       "        text-align: right;\n",
       "    }\n",
       "</style>\n",
       "<table border=\"1\" class=\"dataframe\">\n",
       "  <thead>\n",
       "    <tr style=\"text-align: right;\">\n",
       "      <th>Purchase</th>\n",
       "      <th>No</th>\n",
       "      <th>Yes</th>\n",
       "    </tr>\n",
       "    <tr>\n",
       "      <th>Gender</th>\n",
       "      <th></th>\n",
       "      <th></th>\n",
       "    </tr>\n",
       "  </thead>\n",
       "  <tbody>\n",
       "    <tr>\n",
       "      <th>Female</th>\n",
       "      <td>106</td>\n",
       "      <td>159</td>\n",
       "    </tr>\n",
       "    <tr>\n",
       "      <th>Male</th>\n",
       "      <td>125</td>\n",
       "      <td>121</td>\n",
       "    </tr>\n",
       "  </tbody>\n",
       "</table>\n",
       "</div>"
      ],
      "text/plain": [
       "Purchase   No  Yes\n",
       "Gender            \n",
       "Female    106  159\n",
       "Male      125  121"
      ]
     },
     "execution_count": 6,
     "metadata": {},
     "output_type": "execute_result"
    }
   ],
   "source": [
    "contingency_table = pd.crosstab(df[\"Gender\"],df[\"Purchase\"])\n",
    "contingency_table"
   ]
  },
  {
   "cell_type": "code",
   "execution_count": 8,
   "id": "prescribed-veteran",
   "metadata": {},
   "outputs": [
    {
     "data": {
      "text/plain": [
       "Gender\n",
       "Female    265\n",
       "Male      246\n",
       "dtype: int64"
      ]
     },
     "execution_count": 8,
     "metadata": {},
     "output_type": "execute_result"
    }
   ],
   "source": [
    "contingency_table.sum(axis=1)"
   ]
  },
  {
   "cell_type": "code",
   "execution_count": 9,
   "id": "ceramic-poker",
   "metadata": {},
   "outputs": [
    {
     "data": {
      "text/plain": [
       "Purchase\n",
       "No     231\n",
       "Yes    280\n",
       "dtype: int64"
      ]
     },
     "execution_count": 9,
     "metadata": {},
     "output_type": "execute_result"
    }
   ],
   "source": [
    "contingency_table.sum(axis=0)"
   ]
  },
  {
   "cell_type": "code",
   "execution_count": 10,
   "id": "digital-reproduction",
   "metadata": {},
   "outputs": [
    {
     "data": {
      "text/html": [
       "<div>\n",
       "<style scoped>\n",
       "    .dataframe tbody tr th:only-of-type {\n",
       "        vertical-align: middle;\n",
       "    }\n",
       "\n",
       "    .dataframe tbody tr th {\n",
       "        vertical-align: top;\n",
       "    }\n",
       "\n",
       "    .dataframe thead th {\n",
       "        text-align: right;\n",
       "    }\n",
       "</style>\n",
       "<table border=\"1\" class=\"dataframe\">\n",
       "  <thead>\n",
       "    <tr style=\"text-align: right;\">\n",
       "      <th>Purchase</th>\n",
       "      <th>No</th>\n",
       "      <th>Yes</th>\n",
       "    </tr>\n",
       "    <tr>\n",
       "      <th>Gender</th>\n",
       "      <th></th>\n",
       "      <th></th>\n",
       "    </tr>\n",
       "  </thead>\n",
       "  <tbody>\n",
       "    <tr>\n",
       "      <th>Female</th>\n",
       "      <td>0.40000</td>\n",
       "      <td>0.60000</td>\n",
       "    </tr>\n",
       "    <tr>\n",
       "      <th>Male</th>\n",
       "      <td>0.50813</td>\n",
       "      <td>0.49187</td>\n",
       "    </tr>\n",
       "  </tbody>\n",
       "</table>\n",
       "</div>"
      ],
      "text/plain": [
       "Purchase       No      Yes\n",
       "Gender                    \n",
       "Female    0.40000  0.60000\n",
       "Male      0.50813  0.49187"
      ]
     },
     "execution_count": 10,
     "metadata": {},
     "output_type": "execute_result"
    }
   ],
   "source": [
    "contingency_table.astype(\"float\").div(contingency_table.sum(axis=1), axis = 0)"
   ]
  },
  {
   "cell_type": "markdown",
   "id": "legislative-creator",
   "metadata": {},
   "source": [
    "## La probabilidad condicional"
   ]
  },
  {
   "cell_type": "code",
   "execution_count": 14,
   "id": "confidential-subject",
   "metadata": {},
   "outputs": [],
   "source": [
    "from IPython.display import display, Math, Latex"
   ]
  },
  {
   "cell_type": "markdown",
   "id": "charming-experiment",
   "metadata": {},
   "source": [
    "* Cual es la probabilidad de que un cliente compre un producto si es un hombre?\n",
    "\n",
    "* Cual es la probabilidad de que sabiendo que un cliente compra un producto sea mujer?"
   ]
  },
  {
   "cell_type": "markdown",
   "id": "classified-visibility",
   "metadata": {},
   "source": [
    "\n",
    " \n",
    "$ P(Purchase|Male) = \\frac{Numero\\ total\\ de\\ compras\\ hechas\\ por\\ hombres}{Numero\\ total\\ de\\ hombres\\ del\\ grupo} = \\frac{Purchase\\cap Male}{Purchase} $\n",
    "\n"
   ]
  },
  {
   "cell_type": "code",
   "execution_count": 16,
   "id": "portuguese-services",
   "metadata": {},
   "outputs": [
    {
     "data": {
      "text/plain": [
       "0.491869918699187"
      ]
     },
     "execution_count": 16,
     "metadata": {},
     "output_type": "execute_result"
    }
   ],
   "source": [
    "121/246"
   ]
  },
  {
   "cell_type": "markdown",
   "id": "individual-phrase",
   "metadata": {},
   "source": [
    "$ P(No Purchase|Male) = 1-P(Purchase|Male)$"
   ]
  },
  {
   "cell_type": "code",
   "execution_count": 22,
   "id": "signed-financing",
   "metadata": {},
   "outputs": [
    {
     "data": {
      "text/plain": [
       "0.508130081300813"
      ]
     },
     "execution_count": 22,
     "metadata": {},
     "output_type": "execute_result"
    }
   ],
   "source": [
    "125/246"
   ]
  },
  {
   "cell_type": "markdown",
   "id": "billion-interval",
   "metadata": {},
   "source": [
    "\n",
    " \n",
    "$ P(Female|Purchase) = \\frac{Numero\\ total\\ de\\ compras\\ hechas\\ por\\ mujeres}{Numero\\ total\\ de\\ mujeres\\ del grupo} = \\frac{Female\\cap Purchase}{Purchase} $\n",
    "\n"
   ]
  },
  {
   "cell_type": "code",
   "execution_count": 18,
   "id": "regular-exclusion",
   "metadata": {},
   "outputs": [
    {
     "data": {
      "text/plain": [
       "0.5678571428571428"
      ]
     },
     "execution_count": 18,
     "metadata": {},
     "output_type": "execute_result"
    }
   ],
   "source": [
    "159/280"
   ]
  },
  {
   "cell_type": "markdown",
   "id": "young-cardiff",
   "metadata": {},
   "source": [
    "$ P(No Purchase|Female) = 1-P(Purchase|Female)$"
   ]
  },
  {
   "cell_type": "code",
   "execution_count": 23,
   "id": "cordless-austin",
   "metadata": {},
   "outputs": [
    {
     "data": {
      "text/plain": [
       "0.4"
      ]
     },
     "execution_count": 23,
     "metadata": {},
     "output_type": "execute_result"
    }
   ],
   "source": [
    "106/265"
   ]
  },
  {
   "cell_type": "markdown",
   "id": "incorporated-consideration",
   "metadata": {},
   "source": [
    "## Ratio de Probabilidades"
   ]
  },
  {
   "cell_type": "markdown",
   "id": "obvious-tragedy",
   "metadata": {},
   "source": [
    "Cociente entre los casos de exito sobre los de fracaso en el suceso estudiado y para cada grupo.\n"
   ]
  },
  {
   "cell_type": "markdown",
   "id": "atlantic-parameter",
   "metadata": {},
   "source": [
    "$ P_{m} = Probabilidad\\ de\\ hacer\\ compra\\ sabiendo\\ que\\ es\\ un\\ hombre $\n",
    "\n",
    "$ P_{f} = Probabilidad\\ de\\ hacer\\ compra\\ sabiendo\\ que\\ es\\ una\\ mujer $\n",
    "\n",
    "$ odds_{Purchase,male} = \\frac{P_m}{1-P_m} = \\frac {N_{p,m}}{N_{\\bar p,m}}$\n",
    "\n",
    "$ odds_{Purchase,female} = \\frac{P_f}{1-P_f} = \\frac {N_{p,f}}{N_{\\bar p,f}} $"
   ]
  },
  {
   "cell_type": "code",
   "execution_count": 24,
   "id": "timely-restaurant",
   "metadata": {},
   "outputs": [],
   "source": [
    "pm = 121/246\n",
    "pf = 159/265\n",
    "odds_m = pm/(1-pm)\n",
    "odds_f = pf/(1-pf)"
   ]
  },
  {
   "cell_type": "code",
   "execution_count": 25,
   "id": "checked-usage",
   "metadata": {},
   "outputs": [
    {
     "data": {
      "text/plain": [
       "0.9680000000000002"
      ]
     },
     "execution_count": 25,
     "metadata": {},
     "output_type": "execute_result"
    }
   ],
   "source": [
    "odds_m"
   ]
  },
  {
   "cell_type": "code",
   "execution_count": 26,
   "id": "animated-living",
   "metadata": {},
   "outputs": [
    {
     "data": {
      "text/plain": [
       "1.4999999999999998"
      ]
     },
     "execution_count": 26,
     "metadata": {},
     "output_type": "execute_result"
    }
   ],
   "source": [
    "odds_f"
   ]
  },
  {
   "cell_type": "markdown",
   "id": "daily-expansion",
   "metadata": {},
   "source": [
    "* Si el ratio es superior a 1, es mas probable el exito que el fracaso\n",
    "* Si el ratio es exactamente igual a 1, exito y fracaso son equiprobables (p=0.5)\n",
    "* Si el ratio es menor que 1, el fracaso es mas probable que el exito. Cuanto menor es el ratio, menor es la probabiidad de exito del suceso."
   ]
  },
  {
   "cell_type": "markdown",
   "id": "heated-shepherd",
   "metadata": {},
   "source": [
    "$ odds_{ratio} = \\frac{odds_{purchase,male}}{odds_{purchase,female}} $"
   ]
  },
  {
   "cell_type": "code",
   "execution_count": 27,
   "id": "fifteen-pantyhose",
   "metadata": {},
   "outputs": [],
   "source": [
    "odds_r = odds_m/odds_f"
   ]
  },
  {
   "cell_type": "code",
   "execution_count": 28,
   "id": "median-evolution",
   "metadata": {},
   "outputs": [
    {
     "data": {
      "text/plain": [
       "0.6453333333333335"
      ]
     },
     "execution_count": 28,
     "metadata": {},
     "output_type": "execute_result"
    }
   ],
   "source": [
    "odds_r"
   ]
  },
  {
   "cell_type": "code",
   "execution_count": 29,
   "id": "civilian-sleeping",
   "metadata": {},
   "outputs": [
    {
     "data": {
      "text/plain": [
       "1.5495867768595037"
      ]
     },
     "execution_count": 29,
     "metadata": {},
     "output_type": "execute_result"
    }
   ],
   "source": [
    "1/odds_r # odds_f/odds_m"
   ]
  },
  {
   "cell_type": "markdown",
   "id": "equal-valentine",
   "metadata": {},
   "source": [
    "## La regresion logistica desde la regresion lineal"
   ]
  },
  {
   "cell_type": "markdown",
   "id": "talented-wholesale",
   "metadata": {},
   "source": [
    "$ y = \\alpha + \\beta \\cdot x $"
   ]
  },
  {
   "cell_type": "markdown",
   "id": "standard-accreditation",
   "metadata": {},
   "source": [
    "$ (x,y)\\in[-\\infty, +\\infty]^2 $"
   ]
  },
  {
   "cell_type": "markdown",
   "id": "addressed-grounds",
   "metadata": {},
   "source": [
    "$ y\\in [0,1] $\n"
   ]
  },
  {
   "cell_type": "markdown",
   "id": "unsigned-paintball",
   "metadata": {},
   "source": [
    "$ x\\in [-\\infty,\\infty] $"
   ]
  },
  {
   "cell_type": "markdown",
   "id": "radical-viking",
   "metadata": {},
   "source": [
    "$ p\\in[0,1] $"
   ]
  },
  {
   "cell_type": "markdown",
   "id": "handed-hunter",
   "metadata": {},
   "source": [
    "$ p = \\alpha + \\beta\\cdot x $"
   ]
  },
  {
   "cell_type": "markdown",
   "id": "latest-diary",
   "metadata": {},
   "source": [
    "P es la probabilidad condicionada de exito o de fracaso condicionada a la presencia de la variable X"
   ]
  },
  {
   "cell_type": "markdown",
   "id": "through-logan",
   "metadata": {},
   "source": [
    "$ \\frac {P}{1-P} = \\alpha + \\beta\\cdot X\\in [0,+\\infty] $\n",
    "\n",
    "$ ln(\\frac {P}{1-P}) = \\alpha + \\beta\\cdot X\\in $\n",
    "\n",
    "$ \\begin{cases}\\frac{P}{1-P} \\in[0,1] \\Rightarrow ln(\\frac{P}{1-P})in[-\\infty,0]\\\\ \\frac{P}{1-P} \\in[1+\\infty] \\Rightarrow ln(\\frac{P}{1-P})in[0,\\infty]\\end{cases}$\n",
    "\n",
    "$ ln(\\frac {P}{1-P}) = \\alpha + \\beta\\cdot X\\in $\n",
    "\n",
    "$ \\frac {P}{1-P} = e^(\\alpha + \\beta\\cdot X $\n",
    "\n",
    "$ P = \\frac{e^{\\alpha+\\beta\\cdot X}}{1+e^{\\alpha+\\beta\\cdot X}} $\n",
    "\n",
    "$ P = \\frac{1}{1+e^{-(\\alpha+\\beta\\cdot X)}} $"
   ]
  },
  {
   "cell_type": "markdown",
   "id": "material-gender",
   "metadata": {},
   "source": [
    "* Si a+bx es muy pequeno (negativo), entonces P tiende a 1\n",
    "* Si a+bx = 0, P = 0.5\n",
    "* Si a+bx es muy grande(positivo), entonces P tiende a 1"
   ]
  },
  {
   "cell_type": "markdown",
   "id": "guilty-scanning",
   "metadata": {},
   "source": [
    "## Regresion logistica multiple"
   ]
  },
  {
   "cell_type": "markdown",
   "id": "amber-jumping",
   "metadata": {},
   "source": [
    "$ P = \\frac{1}{1+e^{-(\\alpha+\\sum_{i-1}^n\\beta_i\\cdot X_i)}} $"
   ]
  },
  {
   "cell_type": "markdown",
   "id": "proper-change",
   "metadata": {},
   "source": [
    "$ \\vec{\\beta} = (\\beta_1, \\beta_2, \\cdots, \\beta_n)$\n"
   ]
  },
  {
   "cell_type": "code",
   "execution_count": null,
   "id": "impressive-granny",
   "metadata": {},
   "outputs": [],
   "source": []
  }
 ],
 "metadata": {
  "kernelspec": {
   "display_name": "Python 3",
   "language": "python",
   "name": "python3"
  },
  "language_info": {
   "codemirror_mode": {
    "name": "ipython",
    "version": 3
   },
   "file_extension": ".py",
   "mimetype": "text/x-python",
   "name": "python",
   "nbconvert_exporter": "python",
   "pygments_lexer": "ipython3",
   "version": "3.7.9"
  }
 },
 "nbformat": 4,
 "nbformat_minor": 5
}
