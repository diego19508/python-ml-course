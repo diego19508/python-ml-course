{
 "cells": [
  {
   "cell_type": "markdown",
   "id": "constitutional-studio",
   "metadata": {},
   "source": [
    "# Clustering jerarquico y dendogramas"
   ]
  },
  {
   "cell_type": "markdown",
   "id": "transparent-respondent",
   "metadata": {},
   "source": [
    "Antes de empezar, pongamos un poco de notacion para hablar todos el mismo idioma\n",
    "\n",
    "* X datasets(array de n x m) de puntos a clusterizar\n",
    "* n numero de datos\n",
    "* m numero de rasgos\n",
    "* Z array de enlace del cluster con la informacion de las uniones\n",
    "* k numero de clusters"
   ]
  },
  {
   "cell_type": "code",
   "execution_count": 4,
   "id": "determined-vegetation",
   "metadata": {},
   "outputs": [],
   "source": [
    "import matplotlib.pyplot as plt\n",
    "from scipy.cluster.hierarchy import dendrogram, linkage\n",
    "import numpy as np"
   ]
  },
  {
   "cell_type": "code",
   "execution_count": 10,
   "id": "worse-contractor",
   "metadata": {},
   "outputs": [
    {
     "name": "stdout",
     "output_type": "stream",
     "text": [
      "(150, 2)\n"
     ]
    },
    {
     "data": {
      "image/png": "[encoded data removed]",
      "text/plain": [
       "<Figure size 432x288 with 1 Axes>"
      ]
     },
     "metadata": {
      "needs_background": "light"
     },
     "output_type": "display_data"
    }
   ],
   "source": [
    "np.random.seed(4711)\n",
    "a = np.random.multivariate_normal([10,0],[[3,1],[1,4]], size = [100,])\n",
    "b = np.random.multivariate_normal([0,20],[[3,1],[1,4]], size = [50,])\n",
    "x = np.concatenate((a,b))\n",
    "print(x.shape)\n",
    "plt.scatter(x[:,0],x[:,1])\n",
    "plt.show()"
   ]
  },
  {
   "cell_type": "code",
   "execution_count": 12,
   "id": "representative-printing",
   "metadata": {},
   "outputs": [],
   "source": [
    "z = linkage(x,'ward')\n"
   ]
  },
  {
   "cell_type": "code",
   "execution_count": 14,
   "id": "false-banana",
   "metadata": {},
   "outputs": [],
   "source": [
    "from scipy.cluster.hierarchy import cophenet\n",
    "from scipy.spatial.distance import pdist"
   ]
  },
  {
   "cell_type": "code",
   "execution_count": 15,
   "id": "corporate-shell",
   "metadata": {},
   "outputs": [
    {
     "data": {
      "text/plain": [
       "0.9800148387574268"
      ]
     },
     "execution_count": 15,
     "metadata": {},
     "output_type": "execute_result"
    }
   ],
   "source": [
    "c, coph_dist = cophenet(z, pdist(x))\n",
    "c"
   ]
  },
  {
   "cell_type": "code",
   "execution_count": 16,
   "id": "overhead-wyoming",
   "metadata": {},
   "outputs": [
    {
     "data": {
      "text/plain": [
       "array([5.20000000e+01, 5.30000000e+01, 4.15105485e-02, 2.00000000e+00])"
      ]
     },
     "execution_count": 16,
     "metadata": {},
     "output_type": "execute_result"
    }
   ],
   "source": [
    "z[0]"
   ]
  },
  {
   "cell_type": "code",
   "execution_count": 17,
   "id": "identified-rehabilitation",
   "metadata": {},
   "outputs": [
    {
     "data": {
      "text/plain": [
       "array([1.40000000e+01, 7.90000000e+01, 5.91375926e-02, 2.00000000e+00])"
      ]
     },
     "execution_count": 17,
     "metadata": {},
     "output_type": "execute_result"
    }
   ],
   "source": [
    "z[1]"
   ]
  },
  {
   "cell_type": "code",
   "execution_count": 18,
   "id": "absolute-anaheim",
   "metadata": {},
   "outputs": [
    {
     "data": {
      "text/plain": [
       "array([[5.20000000e+01, 5.30000000e+01, 4.15105485e-02, 2.00000000e+00],\n",
       "       [1.40000000e+01, 7.90000000e+01, 5.91375926e-02, 2.00000000e+00],\n",
       "       [3.30000000e+01, 6.80000000e+01, 7.10677929e-02, 2.00000000e+00],\n",
       "       [1.70000000e+01, 7.30000000e+01, 7.13712071e-02, 2.00000000e+00],\n",
       "       [1.00000000e+00, 8.00000000e+00, 7.54313099e-02, 2.00000000e+00],\n",
       "       [8.50000000e+01, 9.50000000e+01, 1.09277896e-01, 2.00000000e+00],\n",
       "       [1.08000000e+02, 1.31000000e+02, 1.10071548e-01, 2.00000000e+00],\n",
       "       [9.00000000e+00, 6.60000000e+01, 1.13022407e-01, 2.00000000e+00],\n",
       "       [1.50000000e+01, 6.90000000e+01, 1.14289714e-01, 2.00000000e+00],\n",
       "       [6.30000000e+01, 9.80000000e+01, 1.21200766e-01, 2.00000000e+00],\n",
       "       [1.07000000e+02, 1.15000000e+02, 1.21671017e-01, 2.00000000e+00],\n",
       "       [6.50000000e+01, 7.40000000e+01, 1.24900190e-01, 2.00000000e+00],\n",
       "       [5.80000000e+01, 6.10000000e+01, 1.40277358e-01, 2.00000000e+00],\n",
       "       [6.20000000e+01, 1.52000000e+02, 1.72599535e-01, 3.00000000e+00],\n",
       "       [4.10000000e+01, 1.58000000e+02, 1.77901377e-01, 3.00000000e+00],\n",
       "       [1.00000000e+01, 8.30000000e+01, 1.86354938e-01, 2.00000000e+00],\n",
       "       [1.14000000e+02, 1.39000000e+02, 2.04186147e-01, 2.00000000e+00],\n",
       "       [3.90000000e+01, 8.80000000e+01, 2.06282849e-01, 2.00000000e+00],\n",
       "       [7.00000000e+01, 9.60000000e+01, 2.19312547e-01, 2.00000000e+00],\n",
       "       [4.60000000e+01, 5.00000000e+01, 2.20492804e-01, 2.00000000e+00]])"
      ]
     },
     "execution_count": 18,
     "metadata": {},
     "output_type": "execute_result"
    }
   ],
   "source": [
    "z[:20]"
   ]
  },
  {
   "cell_type": "code",
   "execution_count": 30,
   "id": "ideal-marking",
   "metadata": {},
   "outputs": [
    {
     "name": "stdout",
     "output_type": "stream",
     "text": [
      "[33.         68.          0.07106779  2.        ]\n",
      "[15.         69.          0.11428971  2.        ]\n"
     ]
    }
   ],
   "source": [
    "print(z[152-len(x)]) # Cluster 152\n",
    "\n",
    "print(z[158-len(x)]) # Cluster 156"
   ]
  },
  {
   "cell_type": "code",
   "execution_count": 22,
   "id": "referenced-president",
   "metadata": {},
   "outputs": [
    {
     "data": {
      "text/plain": [
       "array([[ 9.83913054, -0.48729797],\n",
       "       [ 9.97792822, -0.56383202],\n",
       "       [ 9.8934927 , -0.44152257]])"
      ]
     },
     "execution_count": 22,
     "metadata": {},
     "output_type": "execute_result"
    }
   ],
   "source": [
    "x[[33,62,68]]"
   ]
  },
  {
   "cell_type": "code",
   "execution_count": 28,
   "id": "comparative-malaysia",
   "metadata": {},
   "outputs": [
    {
     "data": {
      "image/png": "[encoded data removed]",
      "text/plain": [
       "<Figure size 720x576 with 1 Axes>"
      ]
     },
     "metadata": {
      "needs_background": "light"
     },
     "output_type": "display_data"
    }
   ],
   "source": [
    "idx = [33,62,68]\n",
    "idx2 = [15,69,41]\n",
    "plt.figure(figsize=(10,8))\n",
    "plt.scatter(x[:,0], x[:,1]) # Pintar todos los puntos\n",
    "plt.scatter(x[idx,0], x[idx,1], c =\"r\") # Destacamos en rojo el primer cluster\n",
    "plt.scatter(x[idx2,0], x[idx2,1], c =\"y\") # Destacamos en amarillo el segundo cluster\n",
    "plt.show()"
   ]
  },
  {
   "cell_type": "code",
   "execution_count": null,
   "id": "removable-boston",
   "metadata": {},
   "outputs": [],
   "source": []
  }
 ],
 "metadata": {
  "kernelspec": {
   "display_name": "Python 3",
   "language": "python",
   "name": "python3"
  },
  "language_info": {
   "codemirror_mode": {
    "name": "ipython",
    "version": 3
   },
   "file_extension": ".py",
   "mimetype": "text/x-python",
   "name": "python",
   "nbconvert_exporter": "python",
   "pygments_lexer": "ipython3",
   "version": "3.7.9"
  }
 },
 "nbformat": 4,
 "nbformat_minor": 5
}
