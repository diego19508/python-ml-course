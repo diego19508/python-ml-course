{
 "cells": [
  {
   "cell_type": "markdown",
   "id": "gothic-hollow",
   "metadata": {},
   "source": [
    "# Modelos de Regresion Lineal"
   ]
  },
  {
   "cell_type": "markdown",
   "id": "dependent-dancing",
   "metadata": {},
   "source": [
    "## Modelo con datos simulados"
   ]
  },
  {
   "cell_type": "markdown",
   "id": "interested-community",
   "metadata": {},
   "source": [
    "**y = a + b * x**"
   ]
  },
  {
   "cell_type": "markdown",
   "id": "unnecessary-avenue",
   "metadata": {},
   "source": [
    "* x : 100 valores distribuidos segun una N(1.5, 2.5)\n",
    "\n",
    "* Ye = 8 + 1.8 + x + e\n",
    "\n",
    "* **e** estara distribuida segun una N(0, 0.8"
   ]
  },
  {
   "cell_type": "code",
   "execution_count": 1,
   "id": "compliant-detail",
   "metadata": {},
   "outputs": [],
   "source": [
    "import pandas as pd\n",
    "import numpy as np"
   ]
  },
  {
   "cell_type": "code",
   "execution_count": 2,
   "id": "affecting-semester",
   "metadata": {},
   "outputs": [],
   "source": [
    "x = 1.5 + 2.5 * np.random.randn(100)"
   ]
  },
  {
   "cell_type": "code",
   "execution_count": 3,
   "id": "vocal-monthly",
   "metadata": {},
   "outputs": [],
   "source": [
    "res = 0 + 0.8 * np.random.randn(100)"
   ]
  },
  {
   "cell_type": "code",
   "execution_count": 4,
   "id": "grave-civilian",
   "metadata": {},
   "outputs": [],
   "source": [
    "y_pred = 5 + 0.3 * x"
   ]
  },
  {
   "cell_type": "code",
   "execution_count": 5,
   "id": "surface-mathematics",
   "metadata": {},
   "outputs": [],
   "source": [
    "y_act = 5.3 + 0.8 *x + res"
   ]
  },
  {
   "cell_type": "code",
   "execution_count": 6,
   "id": "baking-potter",
   "metadata": {},
   "outputs": [],
   "source": [
    "x_list = x.tolist()\n",
    "y_pred_list = y_pred.tolist()\n",
    "y_act_list = y_act.tolist()"
   ]
  },
  {
   "cell_type": "code",
   "execution_count": 7,
   "id": "dominican-headquarters",
   "metadata": {},
   "outputs": [],
   "source": [
    "data = pd.DataFrame(\n",
    "    {\n",
    "        \"x\": x_list,\n",
    "        \"y_act\": y_act_list,\n",
    "        \"y_pred\": y_pred_list\n",
    "    \n",
    "    }\n",
    ")"
   ]
  },
  {
   "cell_type": "code",
   "execution_count": 8,
   "id": "collectible-reserve",
   "metadata": {},
   "outputs": [
    {
     "data": {
      "text/html": [
       "<div>\n",
       "<style scoped>\n",
       "    .dataframe tbody tr th:only-of-type {\n",
       "        vertical-align: middle;\n",
       "    }\n",
       "\n",
       "    .dataframe tbody tr th {\n",
       "        vertical-align: top;\n",
       "    }\n",
       "\n",
       "    .dataframe thead th {\n",
       "        text-align: right;\n",
       "    }\n",
       "</style>\n",
       "<table border=\"1\" class=\"dataframe\">\n",
       "  <thead>\n",
       "    <tr style=\"text-align: right;\">\n",
       "      <th></th>\n",
       "      <th>x</th>\n",
       "      <th>y_act</th>\n",
       "      <th>y_pred</th>\n",
       "    </tr>\n",
       "  </thead>\n",
       "  <tbody>\n",
       "    <tr>\n",
       "      <th>0</th>\n",
       "      <td>0.529023</td>\n",
       "      <td>6.976681</td>\n",
       "      <td>5.158707</td>\n",
       "    </tr>\n",
       "    <tr>\n",
       "      <th>1</th>\n",
       "      <td>-0.192016</td>\n",
       "      <td>4.576748</td>\n",
       "      <td>4.942395</td>\n",
       "    </tr>\n",
       "    <tr>\n",
       "      <th>2</th>\n",
       "      <td>1.377378</td>\n",
       "      <td>7.296643</td>\n",
       "      <td>5.413214</td>\n",
       "    </tr>\n",
       "    <tr>\n",
       "      <th>3</th>\n",
       "      <td>-0.759827</td>\n",
       "      <td>5.279310</td>\n",
       "      <td>4.772052</td>\n",
       "    </tr>\n",
       "    <tr>\n",
       "      <th>4</th>\n",
       "      <td>1.633144</td>\n",
       "      <td>5.931285</td>\n",
       "      <td>5.489943</td>\n",
       "    </tr>\n",
       "  </tbody>\n",
       "</table>\n",
       "</div>"
      ],
      "text/plain": [
       "          x     y_act    y_pred\n",
       "0  0.529023  6.976681  5.158707\n",
       "1 -0.192016  4.576748  4.942395\n",
       "2  1.377378  7.296643  5.413214\n",
       "3 -0.759827  5.279310  4.772052\n",
       "4  1.633144  5.931285  5.489943"
      ]
     },
     "execution_count": 8,
     "metadata": {},
     "output_type": "execute_result"
    }
   ],
   "source": [
    "data.head()"
   ]
  },
  {
   "cell_type": "code",
   "execution_count": 9,
   "id": "patent-banner",
   "metadata": {},
   "outputs": [],
   "source": [
    "import matplotlib.pyplot as plt"
   ]
  },
  {
   "cell_type": "code",
   "execution_count": 10,
   "id": "exciting-spice",
   "metadata": {},
   "outputs": [],
   "source": [
    "%matplotlib inline"
   ]
  },
  {
   "cell_type": "code",
   "execution_count": 11,
   "id": "confused-young",
   "metadata": {},
   "outputs": [],
   "source": [
    "y_mean = [np.mean(y_act) for i in range(1, len(x_list) + 1)]"
   ]
  },
  {
   "cell_type": "code",
   "execution_count": 12,
   "id": "caroline-imagination",
   "metadata": {},
   "outputs": [
    {
     "data": {
      "text/plain": [
       "Text(0.5, 1.0, 'Valor Actual vs Prediccion')"
      ]
     },
     "execution_count": 12,
     "metadata": {},
     "output_type": "execute_result"
    },
    {
     "data": {
      "image/png": "[encoded data removed]",
      "text/plain": [
       "<Figure size 432x288 with 1 Axes>"
      ]
     },
     "metadata": {
      "needs_background": "light"
     },
     "output_type": "display_data"
    }
   ],
   "source": [
    "plt.plot(x,y_pred)\n",
    "plt.plot(x,y_act, \"ro\")\n",
    "plt.plot(x,y_mean, \"g\")\n",
    "plt.title(\"Valor Actual vs Prediccion\")"
   ]
  },
  {
   "cell_type": "code",
   "execution_count": 13,
   "id": "headed-fancy",
   "metadata": {},
   "outputs": [],
   "source": [
    "data[\"SSR\"]=(data[\"y_pred\"]-np.mean(y_act))**2\n",
    "data[\"SSD\"]=(data[\"y_pred\"]-data[\"y_act\"])**2\n",
    "data[\"SST\"]=(data[\"y_act\"]-np.mean(y_act))**2"
   ]
  },
  {
   "cell_type": "code",
   "execution_count": 14,
   "id": "saving-playing",
   "metadata": {},
   "outputs": [
    {
     "data": {
      "text/html": [
       "<div>\n",
       "<style scoped>\n",
       "    .dataframe tbody tr th:only-of-type {\n",
       "        vertical-align: middle;\n",
       "    }\n",
       "\n",
       "    .dataframe tbody tr th {\n",
       "        vertical-align: top;\n",
       "    }\n",
       "\n",
       "    .dataframe thead th {\n",
       "        text-align: right;\n",
       "    }\n",
       "</style>\n",
       "<table border=\"1\" class=\"dataframe\">\n",
       "  <thead>\n",
       "    <tr style=\"text-align: right;\">\n",
       "      <th></th>\n",
       "      <th>x</th>\n",
       "      <th>y_act</th>\n",
       "      <th>y_pred</th>\n",
       "      <th>SSR</th>\n",
       "      <th>SSD</th>\n",
       "      <th>SST</th>\n",
       "    </tr>\n",
       "  </thead>\n",
       "  <tbody>\n",
       "    <tr>\n",
       "      <th>0</th>\n",
       "      <td>0.529023</td>\n",
       "      <td>6.976681</td>\n",
       "      <td>5.158707</td>\n",
       "      <td>1.495504</td>\n",
       "      <td>3.305029</td>\n",
       "      <td>0.354104</td>\n",
       "    </tr>\n",
       "    <tr>\n",
       "      <th>1</th>\n",
       "      <td>-0.192016</td>\n",
       "      <td>4.576748</td>\n",
       "      <td>4.942395</td>\n",
       "      <td>2.071354</td>\n",
       "      <td>0.133698</td>\n",
       "      <td>3.257544</td>\n",
       "    </tr>\n",
       "    <tr>\n",
       "      <th>2</th>\n",
       "      <td>1.377378</td>\n",
       "      <td>7.296643</td>\n",
       "      <td>5.413214</td>\n",
       "      <td>0.937801</td>\n",
       "      <td>3.547306</td>\n",
       "      <td>0.837276</td>\n",
       "    </tr>\n",
       "    <tr>\n",
       "      <th>3</th>\n",
       "      <td>-0.759827</td>\n",
       "      <td>5.279310</td>\n",
       "      <td>4.772052</td>\n",
       "      <td>2.590693</td>\n",
       "      <td>0.257311</td>\n",
       "      <td>1.215076</td>\n",
       "    </tr>\n",
       "    <tr>\n",
       "      <th>4</th>\n",
       "      <td>1.633144</td>\n",
       "      <td>5.931285</td>\n",
       "      <td>5.489943</td>\n",
       "      <td>0.795079</td>\n",
       "      <td>0.194783</td>\n",
       "      <td>0.202797</td>\n",
       "    </tr>\n",
       "  </tbody>\n",
       "</table>\n",
       "</div>"
      ],
      "text/plain": [
       "          x     y_act    y_pred       SSR       SSD       SST\n",
       "0  0.529023  6.976681  5.158707  1.495504  3.305029  0.354104\n",
       "1 -0.192016  4.576748  4.942395  2.071354  0.133698  3.257544\n",
       "2  1.377378  7.296643  5.413214  0.937801  3.547306  0.837276\n",
       "3 -0.759827  5.279310  4.772052  2.590693  0.257311  1.215076\n",
       "4  1.633144  5.931285  5.489943  0.795079  0.194783  0.202797"
      ]
     },
     "execution_count": 14,
     "metadata": {},
     "output_type": "execute_result"
    }
   ],
   "source": [
    "data.head()"
   ]
  },
  {
   "cell_type": "code",
   "execution_count": 15,
   "id": "pacific-adoption",
   "metadata": {},
   "outputs": [],
   "source": [
    "SSR =sum(data[\"SSR\"])\n",
    "SSD =sum(data[\"SSD\"])\n",
    "SST =sum(data[\"SST\"])"
   ]
  },
  {
   "cell_type": "code",
   "execution_count": 16,
   "id": "imported-alexander",
   "metadata": {},
   "outputs": [
    {
     "data": {
      "text/plain": [
       "144.80012995843512"
      ]
     },
     "execution_count": 16,
     "metadata": {},
     "output_type": "execute_result"
    }
   ],
   "source": [
    "SSR"
   ]
  },
  {
   "cell_type": "code",
   "execution_count": 17,
   "id": "appointed-robertson",
   "metadata": {},
   "outputs": [
    {
     "data": {
      "text/plain": [
       "321.5588379108383"
      ]
     },
     "execution_count": 17,
     "metadata": {},
     "output_type": "execute_result"
    }
   ],
   "source": [
    "SSD"
   ]
  },
  {
   "cell_type": "code",
   "execution_count": 18,
   "id": "coupled-clinic",
   "metadata": {},
   "outputs": [
    {
     "data": {
      "text/plain": [
       "501.41623780084734"
      ]
     },
     "execution_count": 18,
     "metadata": {},
     "output_type": "execute_result"
    }
   ],
   "source": [
    "SST"
   ]
  },
  {
   "cell_type": "code",
   "execution_count": 19,
   "id": "attempted-rwanda",
   "metadata": {},
   "outputs": [
    {
     "data": {
      "text/plain": [
       "466.35896786927344"
      ]
     },
     "execution_count": 19,
     "metadata": {},
     "output_type": "execute_result"
    }
   ],
   "source": [
    "SSR+SSD"
   ]
  },
  {
   "cell_type": "code",
   "execution_count": 20,
   "id": "southern-naples",
   "metadata": {},
   "outputs": [],
   "source": [
    "R2 = SSR/SST"
   ]
  },
  {
   "cell_type": "code",
   "execution_count": 21,
   "id": "funny-purchase",
   "metadata": {},
   "outputs": [
    {
     "data": {
      "text/plain": [
       "0.2887822911230627"
      ]
     },
     "execution_count": 21,
     "metadata": {},
     "output_type": "execute_result"
    }
   ],
   "source": [
    "R2"
   ]
  },
  {
   "cell_type": "code",
   "execution_count": 22,
   "id": "former-swiss",
   "metadata": {},
   "outputs": [
    {
     "data": {
      "text/plain": [
       "(array([ 2.,  5.,  4.,  5., 21., 21., 17., 11.,  7.,  7.]),\n",
       " array([-5.03768507, -4.30501606, -3.57234704, -2.83967802, -2.107009  ,\n",
       "        -1.37433999, -0.64167097,  0.09099805,  0.82366706,  1.55633608,\n",
       "         2.2890051 ]),\n",
       " <BarContainer object of 10 artists>)"
      ]
     },
     "execution_count": 22,
     "metadata": {},
     "output_type": "execute_result"
    },
    {
     "data": {
      "image/png": "[encoded data removed]",
      "text/plain": [
       "<Figure size 432x288 with 1 Axes>"
      ]
     },
     "metadata": {
      "needs_background": "light"
     },
     "output_type": "display_data"
    }
   ],
   "source": [
    "plt.hist(data['y_pred']-data[\"y_act\"])"
   ]
  },
  {
   "cell_type": "markdown",
   "id": "cutting-shooting",
   "metadata": {},
   "source": [
    "# Obteniendo la recta de regresion\n"
   ]
  },
  {
   "cell_type": "markdown",
   "id": "swedish-industry",
   "metadata": {},
   "source": [
    "* y = a + b ^ x\n",
    "* b = sum((xi-x_m)^(y_1-y_m))/sum((xi-x_m)^2)\n",
    "* a = y_m - b * x_m"
   ]
  },
  {
   "cell_type": "code",
   "execution_count": 23,
   "id": "fresh-lexington",
   "metadata": {},
   "outputs": [
    {
     "data": {
      "text/plain": [
       "(1.5384323511034446, 6.381615008366533)"
      ]
     },
     "execution_count": 23,
     "metadata": {},
     "output_type": "execute_result"
    }
   ],
   "source": [
    "x_mean = np.mean(data[\"x\"])\n",
    "y_mean = np.mean(data[\"y_act\"])\n",
    "x_mean,y_mean"
   ]
  },
  {
   "cell_type": "code",
   "execution_count": 24,
   "id": "peaceful-daniel",
   "metadata": {},
   "outputs": [],
   "source": [
    "data[\"beta_n\"] = (data[\"x\"]-x_mean)*(data[\"y_act\"]-y_mean)\n",
    "data[\"beta_d\"] = (data[\"x\"]-x_mean)**2"
   ]
  },
  {
   "cell_type": "code",
   "execution_count": 25,
   "id": "portuguese-adapter",
   "metadata": {},
   "outputs": [],
   "source": [
    "beta = sum(data[\"beta_n\"])/sum(data[\"beta_d\"])"
   ]
  },
  {
   "cell_type": "code",
   "execution_count": 26,
   "id": "sixth-sweet",
   "metadata": {},
   "outputs": [],
   "source": [
    "alpha= y_mean - beta * x_mean"
   ]
  },
  {
   "cell_type": "code",
   "execution_count": 27,
   "id": "thirty-location",
   "metadata": {},
   "outputs": [
    {
     "data": {
      "text/plain": [
       "(5.135954475595808, 0.8096947076530677)"
      ]
     },
     "execution_count": 27,
     "metadata": {},
     "output_type": "execute_result"
    }
   ],
   "source": [
    "alpha,beta\n"
   ]
  },
  {
   "cell_type": "markdown",
   "id": "gorgeous-sugar",
   "metadata": {},
   "source": [
    "El modelo lineal obtenido por regresion es: \n",
    "     **(7.903538645710322, 1.8442729997031548)**"
   ]
  },
  {
   "cell_type": "code",
   "execution_count": 28,
   "id": "featured-management",
   "metadata": {},
   "outputs": [],
   "source": [
    "data[\"y_model\"] = alpha + beta * data[\"x\"]"
   ]
  },
  {
   "cell_type": "code",
   "execution_count": 29,
   "id": "european-function",
   "metadata": {},
   "outputs": [
    {
     "data": {
      "text/html": [
       "<div>\n",
       "<style scoped>\n",
       "    .dataframe tbody tr th:only-of-type {\n",
       "        vertical-align: middle;\n",
       "    }\n",
       "\n",
       "    .dataframe tbody tr th {\n",
       "        vertical-align: top;\n",
       "    }\n",
       "\n",
       "    .dataframe thead th {\n",
       "        text-align: right;\n",
       "    }\n",
       "</style>\n",
       "<table border=\"1\" class=\"dataframe\">\n",
       "  <thead>\n",
       "    <tr style=\"text-align: right;\">\n",
       "      <th></th>\n",
       "      <th>x</th>\n",
       "      <th>y_act</th>\n",
       "      <th>y_pred</th>\n",
       "      <th>SSR</th>\n",
       "      <th>SSD</th>\n",
       "      <th>SST</th>\n",
       "      <th>beta_n</th>\n",
       "      <th>beta_d</th>\n",
       "      <th>y_model</th>\n",
       "    </tr>\n",
       "  </thead>\n",
       "  <tbody>\n",
       "    <tr>\n",
       "      <th>0</th>\n",
       "      <td>0.529023</td>\n",
       "      <td>6.976681</td>\n",
       "      <td>5.158707</td>\n",
       "      <td>1.495504</td>\n",
       "      <td>3.305029</td>\n",
       "      <td>0.354104</td>\n",
       "      <td>-0.600665</td>\n",
       "      <td>1.018907</td>\n",
       "      <td>5.564302</td>\n",
       "    </tr>\n",
       "    <tr>\n",
       "      <th>1</th>\n",
       "      <td>-0.192016</td>\n",
       "      <td>4.576748</td>\n",
       "      <td>4.942395</td>\n",
       "      <td>2.071354</td>\n",
       "      <td>0.133698</td>\n",
       "      <td>3.257544</td>\n",
       "      <td>3.123229</td>\n",
       "      <td>2.994453</td>\n",
       "      <td>4.980480</td>\n",
       "    </tr>\n",
       "    <tr>\n",
       "      <th>2</th>\n",
       "      <td>1.377378</td>\n",
       "      <td>7.296643</td>\n",
       "      <td>5.413214</td>\n",
       "      <td>0.937801</td>\n",
       "      <td>3.547306</td>\n",
       "      <td>0.837276</td>\n",
       "      <td>-0.147369</td>\n",
       "      <td>0.025938</td>\n",
       "      <td>6.251211</td>\n",
       "    </tr>\n",
       "    <tr>\n",
       "      <th>3</th>\n",
       "      <td>-0.759827</td>\n",
       "      <td>5.279310</td>\n",
       "      <td>4.772052</td>\n",
       "      <td>2.590693</td>\n",
       "      <td>0.257311</td>\n",
       "      <td>1.215076</td>\n",
       "      <td>2.533382</td>\n",
       "      <td>5.281994</td>\n",
       "      <td>4.520727</td>\n",
       "    </tr>\n",
       "    <tr>\n",
       "      <th>4</th>\n",
       "      <td>1.633144</td>\n",
       "      <td>5.931285</td>\n",
       "      <td>5.489943</td>\n",
       "      <td>0.795079</td>\n",
       "      <td>0.194783</td>\n",
       "      <td>0.202797</td>\n",
       "      <td>-0.042651</td>\n",
       "      <td>0.008970</td>\n",
       "      <td>6.458303</td>\n",
       "    </tr>\n",
       "  </tbody>\n",
       "</table>\n",
       "</div>"
      ],
      "text/plain": [
       "          x     y_act    y_pred       SSR       SSD       SST    beta_n  \\\n",
       "0  0.529023  6.976681  5.158707  1.495504  3.305029  0.354104 -0.600665   \n",
       "1 -0.192016  4.576748  4.942395  2.071354  0.133698  3.257544  3.123229   \n",
       "2  1.377378  7.296643  5.413214  0.937801  3.547306  0.837276 -0.147369   \n",
       "3 -0.759827  5.279310  4.772052  2.590693  0.257311  1.215076  2.533382   \n",
       "4  1.633144  5.931285  5.489943  0.795079  0.194783  0.202797 -0.042651   \n",
       "\n",
       "     beta_d   y_model  \n",
       "0  1.018907  5.564302  \n",
       "1  2.994453  4.980480  \n",
       "2  0.025938  6.251211  \n",
       "3  5.281994  4.520727  \n",
       "4  0.008970  6.458303  "
      ]
     },
     "execution_count": 29,
     "metadata": {},
     "output_type": "execute_result"
    }
   ],
   "source": [
    "data.head()"
   ]
  },
  {
   "cell_type": "code",
   "execution_count": 30,
   "id": "ignored-greensboro",
   "metadata": {},
   "outputs": [],
   "source": [
    "SSR = sum((data[\"y_model\"]-y_mean)**2)\n",
    "SSD = sum((data[\"y_model\"]-data[\"y_act\"])**2)\n",
    "SST = sum((data[\"y_act\"]-y_mean)**2)"
   ]
  },
  {
   "cell_type": "code",
   "execution_count": 31,
   "id": "alone-juice",
   "metadata": {},
   "outputs": [
    {
     "data": {
      "text/plain": [
       "(438.1224728633388, 63.29376493750854, 501.41623780084734)"
      ]
     },
     "execution_count": 31,
     "metadata": {},
     "output_type": "execute_result"
    }
   ],
   "source": [
    "SSR, SSD, SST"
   ]
  },
  {
   "cell_type": "code",
   "execution_count": 32,
   "id": "indirect-forty",
   "metadata": {},
   "outputs": [],
   "source": [
    "R2 = SSR / SST"
   ]
  },
  {
   "cell_type": "code",
   "execution_count": 33,
   "id": "acknowledged-revolution",
   "metadata": {},
   "outputs": [
    {
     "data": {
      "text/plain": [
       "0.8737700134819975"
      ]
     },
     "execution_count": 33,
     "metadata": {},
     "output_type": "execute_result"
    }
   ],
   "source": [
    "R2"
   ]
  },
  {
   "cell_type": "code",
   "execution_count": 34,
   "id": "documentary-intermediate",
   "metadata": {},
   "outputs": [
    {
     "data": {
      "text/plain": [
       "Text(0.5, 1.0, 'Valor Actual vs Prediccion')"
      ]
     },
     "execution_count": 34,
     "metadata": {},
     "output_type": "execute_result"
    },
    {
     "data": {
      "image/png": "[encoded data removed]",
      "text/plain": [
       "<Figure size 432x288 with 1 Axes>"
      ]
     },
     "metadata": {
      "needs_background": "light"
     },
     "output_type": "display_data"
    }
   ],
   "source": [
    "y_mean = [np.mean(y_act) for i in range(1, len(x_list) + 1)]\n",
    "\n",
    "%matplotlib inline\n",
    "plt.plot(data[\"x\"],data[\"y_pred\"])\n",
    "plt.plot(data[\"x\"],data[\"y_act\"],\"ro\")\n",
    "plt.plot(data[\"x\"],y_mean,\"g\")\n",
    "plt.plot(data[\"x\"],data[\"y_model\"])\n",
    "plt.title(\"Valor Actual vs Prediccion\")"
   ]
  },
  {
   "cell_type": "code",
   "execution_count": null,
   "id": "abstract-better",
   "metadata": {},
   "outputs": [],
   "source": []
  }
 ],
 "metadata": {
  "kernelspec": {
   "display_name": "Python 3",
   "language": "python",
   "name": "python3"
  },
  "language_info": {
   "codemirror_mode": {
    "name": "ipython",
    "version": 3
   },
   "file_extension": ".py",
   "mimetype": "text/x-python",
   "name": "python",
   "nbconvert_exporter": "python",
   "pygments_lexer": "ipython3",
   "version": "3.7.9"
  }
 },
 "nbformat": 4,
 "nbformat_minor": 5
}
