{
 "cells": [
  {
   "cell_type": "markdown",
   "id": "gothic-hollow",
   "metadata": {},
   "source": [
    "# Modelos de Regresion Lineal"
   ]
  },
  {
   "cell_type": "markdown",
   "id": "dependent-dancing",
   "metadata": {},
   "source": [
    "## Modelo con datos simulados"
   ]
  },
  {
   "cell_type": "markdown",
   "id": "interested-community",
   "metadata": {},
   "source": [
    "**y = a + b * x**"
   ]
  },
  {
   "cell_type": "markdown",
   "id": "unnecessary-avenue",
   "metadata": {},
   "source": [
    "* x : 100 valores distribuidos segun una N(1.5, 2.5)\n",
    "\n",
    "* Ye = 8 + 1.8 + x + e\n",
    "\n",
    "* **e** estara distribuida segun una N(0, 0.8"
   ]
  },
  {
   "cell_type": "code",
   "execution_count": 1,
   "id": "compliant-detail",
   "metadata": {},
   "outputs": [],
   "source": [
    "import pandas as pd\n",
    "import numpy as np"
   ]
  },
  {
   "cell_type": "code",
   "execution_count": 2,
   "id": "affecting-semester",
   "metadata": {},
   "outputs": [],
   "source": [
    "x = 1.5 + 2.5 * np.random.randn(100)"
   ]
  },
  {
   "cell_type": "code",
   "execution_count": 3,
   "id": "vocal-monthly",
   "metadata": {},
   "outputs": [],
   "source": [
    "res = 0 + 0.8 * np.random.randn(100)"
   ]
  },
  {
   "cell_type": "code",
   "execution_count": 4,
   "id": "grave-civilian",
   "metadata": {},
   "outputs": [],
   "source": [
    "y_pred = 5 + 0.3 * x"
   ]
  },
  {
   "cell_type": "code",
   "execution_count": 5,
   "id": "surface-mathematics",
   "metadata": {},
   "outputs": [],
   "source": [
    "y_act = 5 + 0.3 *x + res"
   ]
  },
  {
   "cell_type": "code",
   "execution_count": 6,
   "id": "baking-potter",
   "metadata": {},
   "outputs": [],
   "source": [
    "x_list = x.tolist()\n",
    "y_pred_list = y_pred.tolist()\n",
    "y_act_list = y_act.tolist()"
   ]
  },
  {
   "cell_type": "code",
   "execution_count": 7,
   "id": "dominican-headquarters",
   "metadata": {},
   "outputs": [],
   "source": [
    "data = pd.DataFrame(\n",
    "    {\n",
    "        \"x\": x_list,\n",
    "        \"y_act\": y_act_list,\n",
    "        \"y_pred\": y_pred_list\n",
    "    \n",
    "    }\n",
    ")"
   ]
  },
  {
   "cell_type": "code",
   "execution_count": 8,
   "id": "collectible-reserve",
   "metadata": {},
   "outputs": [
    {
     "data": {
      "text/html": [
       "<div>\n",
       "<style scoped>\n",
       "    .dataframe tbody tr th:only-of-type {\n",
       "        vertical-align: middle;\n",
       "    }\n",
       "\n",
       "    .dataframe tbody tr th {\n",
       "        vertical-align: top;\n",
       "    }\n",
       "\n",
       "    .dataframe thead th {\n",
       "        text-align: right;\n",
       "    }\n",
       "</style>\n",
       "<table border=\"1\" class=\"dataframe\">\n",
       "  <thead>\n",
       "    <tr style=\"text-align: right;\">\n",
       "      <th></th>\n",
       "      <th>x</th>\n",
       "      <th>y_act</th>\n",
       "      <th>y_pred</th>\n",
       "    </tr>\n",
       "  </thead>\n",
       "  <tbody>\n",
       "    <tr>\n",
       "      <th>0</th>\n",
       "      <td>3.667981</td>\n",
       "      <td>4.547827</td>\n",
       "      <td>6.100394</td>\n",
       "    </tr>\n",
       "    <tr>\n",
       "      <th>1</th>\n",
       "      <td>-1.013710</td>\n",
       "      <td>4.706513</td>\n",
       "      <td>4.695887</td>\n",
       "    </tr>\n",
       "    <tr>\n",
       "      <th>2</th>\n",
       "      <td>5.256617</td>\n",
       "      <td>7.344791</td>\n",
       "      <td>6.576985</td>\n",
       "    </tr>\n",
       "    <tr>\n",
       "      <th>3</th>\n",
       "      <td>3.021627</td>\n",
       "      <td>6.410736</td>\n",
       "      <td>5.906488</td>\n",
       "    </tr>\n",
       "    <tr>\n",
       "      <th>4</th>\n",
       "      <td>0.312726</td>\n",
       "      <td>5.900236</td>\n",
       "      <td>5.093818</td>\n",
       "    </tr>\n",
       "  </tbody>\n",
       "</table>\n",
       "</div>"
      ],
      "text/plain": [
       "          x     y_act    y_pred\n",
       "0  3.667981  4.547827  6.100394\n",
       "1 -1.013710  4.706513  4.695887\n",
       "2  5.256617  7.344791  6.576985\n",
       "3  3.021627  6.410736  5.906488\n",
       "4  0.312726  5.900236  5.093818"
      ]
     },
     "execution_count": 8,
     "metadata": {},
     "output_type": "execute_result"
    }
   ],
   "source": [
    "data.head()"
   ]
  },
  {
   "cell_type": "code",
   "execution_count": 9,
   "id": "patent-banner",
   "metadata": {},
   "outputs": [],
   "source": [
    "import matplotlib.pyplot as plt"
   ]
  },
  {
   "cell_type": "code",
   "execution_count": 10,
   "id": "exciting-spice",
   "metadata": {},
   "outputs": [],
   "source": [
    "%matplotlib inline"
   ]
  },
  {
   "cell_type": "code",
   "execution_count": 11,
   "id": "confused-young",
   "metadata": {},
   "outputs": [],
   "source": [
    "y_mean = [np.mean(y_act) for i in range(1, len(x_list) + 1)]"
   ]
  },
  {
   "cell_type": "code",
   "execution_count": 12,
   "id": "caroline-imagination",
   "metadata": {},
   "outputs": [
    {
     "data": {
      "text/plain": [
       "Text(0.5, 1.0, 'Valor Actual vs Prediccion')"
      ]
     },
     "execution_count": 12,
     "metadata": {},
     "output_type": "execute_result"
    },
    {
     "data": {
      "image/png": "[encoded data removed]",
      "text/plain": [
       "<Figure size 432x288 with 1 Axes>"
      ]
     },
     "metadata": {
      "needs_background": "light"
     },
     "output_type": "display_data"
    }
   ],
   "source": [
    "plt.plot(x,y_pred)\n",
    "plt.plot(x,y_act, \"ro\")\n",
    "plt.plot(x,y_mean, \"g\")\n",
    "plt.title(\"Valor Actual vs Prediccion\")"
   ]
  },
  {
   "cell_type": "code",
   "execution_count": 13,
   "id": "headed-fancy",
   "metadata": {},
   "outputs": [],
   "source": [
    "data[\"SSR\"]=(data[\"y_pred\"]-np.mean(y_act))**2\n",
    "data[\"SSD\"]=(data[\"y_pred\"]-data[\"y_act\"])**2\n",
    "data[\"SST\"]=(data[\"y_act\"]-np.mean(y_act))**2"
   ]
  },
  {
   "cell_type": "code",
   "execution_count": 14,
   "id": "saving-playing",
   "metadata": {},
   "outputs": [
    {
     "data": {
      "text/html": [
       "<div>\n",
       "<style scoped>\n",
       "    .dataframe tbody tr th:only-of-type {\n",
       "        vertical-align: middle;\n",
       "    }\n",
       "\n",
       "    .dataframe tbody tr th {\n",
       "        vertical-align: top;\n",
       "    }\n",
       "\n",
       "    .dataframe thead th {\n",
       "        text-align: right;\n",
       "    }\n",
       "</style>\n",
       "<table border=\"1\" class=\"dataframe\">\n",
       "  <thead>\n",
       "    <tr style=\"text-align: right;\">\n",
       "      <th></th>\n",
       "      <th>x</th>\n",
       "      <th>y_act</th>\n",
       "      <th>y_pred</th>\n",
       "      <th>SSR</th>\n",
       "      <th>SSD</th>\n",
       "      <th>SST</th>\n",
       "    </tr>\n",
       "  </thead>\n",
       "  <tbody>\n",
       "    <tr>\n",
       "      <th>0</th>\n",
       "      <td>3.667981</td>\n",
       "      <td>4.547827</td>\n",
       "      <td>6.100394</td>\n",
       "      <td>0.591897</td>\n",
       "      <td>2.410465</td>\n",
       "      <td>0.613432</td>\n",
       "    </tr>\n",
       "    <tr>\n",
       "      <th>1</th>\n",
       "      <td>-1.013710</td>\n",
       "      <td>4.706513</td>\n",
       "      <td>4.695887</td>\n",
       "      <td>0.403427</td>\n",
       "      <td>0.000113</td>\n",
       "      <td>0.390042</td>\n",
       "    </tr>\n",
       "    <tr>\n",
       "      <th>2</th>\n",
       "      <td>5.256617</td>\n",
       "      <td>7.344791</td>\n",
       "      <td>6.576985</td>\n",
       "      <td>1.552364</td>\n",
       "      <td>0.589525</td>\n",
       "      <td>4.055166</td>\n",
       "    </tr>\n",
       "    <tr>\n",
       "      <th>3</th>\n",
       "      <td>3.021627</td>\n",
       "      <td>6.410736</td>\n",
       "      <td>5.906488</td>\n",
       "      <td>0.331133</td>\n",
       "      <td>0.254267</td>\n",
       "      <td>1.165731</td>\n",
       "    </tr>\n",
       "    <tr>\n",
       "      <th>4</th>\n",
       "      <td>0.312726</td>\n",
       "      <td>5.900236</td>\n",
       "      <td>5.093818</td>\n",
       "      <td>0.056277</td>\n",
       "      <td>0.650309</td>\n",
       "      <td>0.323976</td>\n",
       "    </tr>\n",
       "  </tbody>\n",
       "</table>\n",
       "</div>"
      ],
      "text/plain": [
       "          x     y_act    y_pred       SSR       SSD       SST\n",
       "0  3.667981  4.547827  6.100394  0.591897  2.410465  0.613432\n",
       "1 -1.013710  4.706513  4.695887  0.403427  0.000113  0.390042\n",
       "2  5.256617  7.344791  6.576985  1.552364  0.589525  4.055166\n",
       "3  3.021627  6.410736  5.906488  0.331133  0.254267  1.165731\n",
       "4  0.312726  5.900236  5.093818  0.056277  0.650309  0.323976"
      ]
     },
     "execution_count": 14,
     "metadata": {},
     "output_type": "execute_result"
    }
   ],
   "source": [
    "data.head()"
   ]
  },
  {
   "cell_type": "code",
   "execution_count": 15,
   "id": "pacific-adoption",
   "metadata": {},
   "outputs": [],
   "source": [
    "SSR =sum(data[\"SSR\"])\n",
    "SSD =sum(data[\"SSD\"])\n",
    "SST =sum(data[\"SST\"])"
   ]
  },
  {
   "cell_type": "code",
   "execution_count": 16,
   "id": "imported-alexander",
   "metadata": {},
   "outputs": [
    {
     "data": {
      "text/plain": [
       "57.597647725281135"
      ]
     },
     "execution_count": 16,
     "metadata": {},
     "output_type": "execute_result"
    }
   ],
   "source": [
    "SSR"
   ]
  },
  {
   "cell_type": "code",
   "execution_count": 17,
   "id": "appointed-robertson",
   "metadata": {},
   "outputs": [
    {
     "data": {
      "text/plain": [
       "65.89291995949966"
      ]
     },
     "execution_count": 17,
     "metadata": {},
     "output_type": "execute_result"
    }
   ],
   "source": [
    "SSD"
   ]
  },
  {
   "cell_type": "code",
   "execution_count": 18,
   "id": "coupled-clinic",
   "metadata": {},
   "outputs": [
    {
     "data": {
      "text/plain": [
       "116.29712310198741"
      ]
     },
     "execution_count": 18,
     "metadata": {},
     "output_type": "execute_result"
    }
   ],
   "source": [
    "SST"
   ]
  },
  {
   "cell_type": "code",
   "execution_count": 19,
   "id": "attempted-rwanda",
   "metadata": {},
   "outputs": [
    {
     "data": {
      "text/plain": [
       "123.4905676847808"
      ]
     },
     "execution_count": 19,
     "metadata": {},
     "output_type": "execute_result"
    }
   ],
   "source": [
    "SSR+SSD"
   ]
  },
  {
   "cell_type": "code",
   "execution_count": 20,
   "id": "southern-naples",
   "metadata": {},
   "outputs": [],
   "source": [
    "R2 = SSR/SST"
   ]
  },
  {
   "cell_type": "code",
   "execution_count": 21,
   "id": "funny-purchase",
   "metadata": {},
   "outputs": [
    {
     "data": {
      "text/plain": [
       "0.4952628765783876"
      ]
     },
     "execution_count": 21,
     "metadata": {},
     "output_type": "execute_result"
    }
   ],
   "source": [
    "R2"
   ]
  },
  {
   "cell_type": "code",
   "execution_count": 22,
   "id": "former-swiss",
   "metadata": {},
   "outputs": [
    {
     "data": {
      "text/plain": [
       "(array([ 2.,  5.,  9., 23., 17., 12., 14.,  6.,  7.,  5.]),\n",
       " array([-1.63439011, -1.27800538, -0.92162066, -0.56523593, -0.20885121,\n",
       "         0.14753351,  0.50391824,  0.86030296,  1.21668769,  1.57307241,\n",
       "         1.92945714]),\n",
       " <BarContainer object of 10 artists>)"
      ]
     },
     "execution_count": 22,
     "metadata": {},
     "output_type": "execute_result"
    },
    {
     "data": {
      "image/png": "[encoded data removed]",
      "text/plain": [
       "<Figure size 432x288 with 1 Axes>"
      ]
     },
     "metadata": {
      "needs_background": "light"
     },
     "output_type": "display_data"
    }
   ],
   "source": [
    "plt.hist(data['y_pred']-data[\"y_act\"])"
   ]
  },
  {
   "cell_type": "markdown",
   "id": "above-edgar",
   "metadata": {},
   "source": [
    "## Obteniendo la recta de regresion\n"
   ]
  },
  {
   "cell_type": "markdown",
   "id": "accepted-momentum",
   "metadata": {},
   "source": [
    "* y = a + b ^ x\n",
    "* b = sum((xi-x_m)^(y_1-y_m))/sum((xi-x_m)^2)\n",
    "* a = y_m - b * x_m"
   ]
  },
  {
   "cell_type": "code",
   "execution_count": 23,
   "id": "bacterial-librarian",
   "metadata": {},
   "outputs": [
    {
     "data": {
      "text/plain": [
       "(1.5461178141472454, 5.331046268127413)"
      ]
     },
     "execution_count": 23,
     "metadata": {},
     "output_type": "execute_result"
    }
   ],
   "source": [
    "x_mean = np.mean(data[\"x\"])\n",
    "y_mean = np.mean(data[\"y_act\"])\n",
    "x_mean,y_mean"
   ]
  },
  {
   "cell_type": "code",
   "execution_count": 24,
   "id": "macro-plaintiff",
   "metadata": {},
   "outputs": [],
   "source": [
    "data[\"beta_n\"] = (data[\"x\"]-x_mean)*(data[\"y_act\"]-y_mean)\n",
    "data[\"beta_d\"] = (data[\"x\"]-x_mean)**2"
   ]
  },
  {
   "cell_type": "code",
   "execution_count": 25,
   "id": "hungarian-toddler",
   "metadata": {},
   "outputs": [],
   "source": [
    "beta = sum(data[\"beta_n\"])/sum(data[\"beta_d\"])"
   ]
  },
  {
   "cell_type": "code",
   "execution_count": 26,
   "id": "sustainable-preserve",
   "metadata": {},
   "outputs": [],
   "source": [
    "alpha= y_mean - beta * x_mean"
   ]
  },
  {
   "cell_type": "code",
   "execution_count": 27,
   "id": "architectural-bahrain",
   "metadata": {},
   "outputs": [
    {
     "data": {
      "text/plain": [
       "(4.882441849696, 0.29014892288712124)"
      ]
     },
     "execution_count": 27,
     "metadata": {},
     "output_type": "execute_result"
    }
   ],
   "source": [
    "alpha,beta\n"
   ]
  },
  {
   "cell_type": "markdown",
   "id": "rational-thirty",
   "metadata": {},
   "source": [
    "El modelo lineal obtenido por regresion es: \n",
    "     **(7.903538645710322, 1.8442729997031548)**"
   ]
  },
  {
   "cell_type": "code",
   "execution_count": 28,
   "id": "liberal-concept",
   "metadata": {},
   "outputs": [],
   "source": [
    "data[\"y_model\"] = alpha + beta * data[\"x\"]"
   ]
  },
  {
   "cell_type": "code",
   "execution_count": 29,
   "id": "several-schedule",
   "metadata": {},
   "outputs": [
    {
     "data": {
      "text/html": [
       "<div>\n",
       "<style scoped>\n",
       "    .dataframe tbody tr th:only-of-type {\n",
       "        vertical-align: middle;\n",
       "    }\n",
       "\n",
       "    .dataframe tbody tr th {\n",
       "        vertical-align: top;\n",
       "    }\n",
       "\n",
       "    .dataframe thead th {\n",
       "        text-align: right;\n",
       "    }\n",
       "</style>\n",
       "<table border=\"1\" class=\"dataframe\">\n",
       "  <thead>\n",
       "    <tr style=\"text-align: right;\">\n",
       "      <th></th>\n",
       "      <th>x</th>\n",
       "      <th>y_act</th>\n",
       "      <th>y_pred</th>\n",
       "      <th>SSR</th>\n",
       "      <th>SSD</th>\n",
       "      <th>SST</th>\n",
       "      <th>beta_n</th>\n",
       "      <th>beta_d</th>\n",
       "      <th>y_model</th>\n",
       "    </tr>\n",
       "  </thead>\n",
       "  <tbody>\n",
       "    <tr>\n",
       "      <th>0</th>\n",
       "      <td>3.667981</td>\n",
       "      <td>4.547827</td>\n",
       "      <td>6.100394</td>\n",
       "      <td>0.591897</td>\n",
       "      <td>2.410465</td>\n",
       "      <td>0.613432</td>\n",
       "      <td>-1.661884</td>\n",
       "      <td>4.502305</td>\n",
       "      <td>5.946703</td>\n",
       "    </tr>\n",
       "    <tr>\n",
       "      <th>1</th>\n",
       "      <td>-1.013710</td>\n",
       "      <td>4.706513</td>\n",
       "      <td>4.695887</td>\n",
       "      <td>0.403427</td>\n",
       "      <td>0.000113</td>\n",
       "      <td>0.390042</td>\n",
       "      <td>1.598699</td>\n",
       "      <td>6.552716</td>\n",
       "      <td>4.588315</td>\n",
       "    </tr>\n",
       "    <tr>\n",
       "      <th>2</th>\n",
       "      <td>5.256617</td>\n",
       "      <td>7.344791</td>\n",
       "      <td>6.576985</td>\n",
       "      <td>1.552364</td>\n",
       "      <td>0.589525</td>\n",
       "      <td>4.055166</td>\n",
       "      <td>7.471997</td>\n",
       "      <td>13.767805</td>\n",
       "      <td>6.407644</td>\n",
       "    </tr>\n",
       "    <tr>\n",
       "      <th>3</th>\n",
       "      <td>3.021627</td>\n",
       "      <td>6.410736</td>\n",
       "      <td>5.906488</td>\n",
       "      <td>0.331133</td>\n",
       "      <td>0.254267</td>\n",
       "      <td>1.165731</td>\n",
       "      <td>1.593092</td>\n",
       "      <td>2.177126</td>\n",
       "      <td>5.759164</td>\n",
       "    </tr>\n",
       "    <tr>\n",
       "      <th>4</th>\n",
       "      <td>0.312726</td>\n",
       "      <td>5.900236</td>\n",
       "      <td>5.093818</td>\n",
       "      <td>0.056277</td>\n",
       "      <td>0.650309</td>\n",
       "      <td>0.323976</td>\n",
       "      <td>-0.702033</td>\n",
       "      <td>1.521255</td>\n",
       "      <td>4.973179</td>\n",
       "    </tr>\n",
       "  </tbody>\n",
       "</table>\n",
       "</div>"
      ],
      "text/plain": [
       "          x     y_act    y_pred       SSR       SSD       SST    beta_n  \\\n",
       "0  3.667981  4.547827  6.100394  0.591897  2.410465  0.613432 -1.661884   \n",
       "1 -1.013710  4.706513  4.695887  0.403427  0.000113  0.390042  1.598699   \n",
       "2  5.256617  7.344791  6.576985  1.552364  0.589525  4.055166  7.471997   \n",
       "3  3.021627  6.410736  5.906488  0.331133  0.254267  1.165731  1.593092   \n",
       "4  0.312726  5.900236  5.093818  0.056277  0.650309  0.323976 -0.702033   \n",
       "\n",
       "      beta_d   y_model  \n",
       "0   4.502305  5.946703  \n",
       "1   6.552716  4.588315  \n",
       "2  13.767805  6.407644  \n",
       "3   2.177126  5.759164  \n",
       "4   1.521255  4.973179  "
      ]
     },
     "execution_count": 29,
     "metadata": {},
     "output_type": "execute_result"
    }
   ],
   "source": [
    "data.head()"
   ]
  },
  {
   "cell_type": "code",
   "execution_count": 30,
   "id": "enhanced-section",
   "metadata": {},
   "outputs": [],
   "source": [
    "SSR = sum((data[\"y_model\"]-y_mean)**2)\n",
    "SSD = sum((data[\"y_model\"]-data[\"y_act\"])**2)\n",
    "SST = sum((data[\"y_act\"]-y_mean)**2)"
   ]
  },
  {
   "cell_type": "code",
   "execution_count": 31,
   "id": "municipal-oxford",
   "metadata": {},
   "outputs": [
    {
     "data": {
      "text/plain": [
       "(52.22770116516439, 64.06942193682302, 116.29712310198741)"
      ]
     },
     "execution_count": 31,
     "metadata": {},
     "output_type": "execute_result"
    }
   ],
   "source": [
    "SSR, SSD, SST"
   ]
  },
  {
   "cell_type": "code",
   "execution_count": 32,
   "id": "vocational-sessions",
   "metadata": {},
   "outputs": [],
   "source": [
    "R2 = SSR / SST"
   ]
  },
  {
   "cell_type": "code",
   "execution_count": 33,
   "id": "czech-typing",
   "metadata": {},
   "outputs": [
    {
     "data": {
      "text/plain": [
       "0.4490885051332097"
      ]
     },
     "execution_count": 33,
     "metadata": {},
     "output_type": "execute_result"
    }
   ],
   "source": [
    "R2"
   ]
  },
  {
   "cell_type": "code",
   "execution_count": 34,
   "id": "united-broad",
   "metadata": {},
   "outputs": [
    {
     "data": {
      "text/plain": [
       "Text(0.5, 1.0, 'Valor Actual vs Prediccion')"
      ]
     },
     "execution_count": 34,
     "metadata": {},
     "output_type": "execute_result"
    },
    {
     "data": {
      "image/png": "[encoded data removed]",
      "text/plain": [
       "<Figure size 432x288 with 1 Axes>"
      ]
     },
     "metadata": {
      "needs_background": "light"
     },
     "output_type": "display_data"
    }
   ],
   "source": [
    "y_mean = [np.mean(y_act) for i in range(1, len(x_list) + 1)]\n",
    "\n",
    "%matplotlib inline\n",
    "plt.plot(data[\"x\"],data[\"y_pred\"])\n",
    "plt.plot(data[\"x\"],data[\"y_act\"],\"ro\")\n",
    "plt.plot(data[\"x\"],y_mean,\"g\")\n",
    "plt.plot(data[\"x\"],data[\"y_model\"])\n",
    "plt.title(\"Valor Actual vs Prediccion\")"
   ]
  },
  {
   "cell_type": "markdown",
   "id": "impressive-infrared",
   "metadata": {},
   "source": [
    "## Error estandar de los residuos (RSE)"
   ]
  },
  {
   "cell_type": "code",
   "execution_count": 35,
   "id": "according-appliance",
   "metadata": {},
   "outputs": [
    {
     "data": {
      "text/plain": [
       "0.8085602090136732"
      ]
     },
     "execution_count": 35,
     "metadata": {},
     "output_type": "execute_result"
    }
   ],
   "source": [
    "RSE = np.sqrt(SSD/(len(data)-2))\n",
    "RSE"
   ]
  },
  {
   "cell_type": "code",
   "execution_count": 36,
   "id": "authentic-reviewer",
   "metadata": {},
   "outputs": [
    {
     "data": {
      "text/plain": [
       "5.331046268127413"
      ]
     },
     "execution_count": 36,
     "metadata": {},
     "output_type": "execute_result"
    }
   ],
   "source": [
    "np.mean(data[\"y_act\"])"
   ]
  },
  {
   "cell_type": "code",
   "execution_count": 37,
   "id": "exterior-pearl",
   "metadata": {},
   "outputs": [
    {
     "data": {
      "text/plain": [
       "0.15167007907018007"
      ]
     },
     "execution_count": 37,
     "metadata": {},
     "output_type": "execute_result"
    }
   ],
   "source": [
    "RSE / np.mean(data[\"y_act\"])"
   ]
  },
  {
   "cell_type": "code",
   "execution_count": null,
   "id": "korean-merchant",
   "metadata": {},
   "outputs": [],
   "source": [
    "# Incrementos del 15% de error"
   ]
  }
 ],
 "metadata": {
  "kernelspec": {
   "display_name": "Python 3",
   "language": "python",
   "name": "python3"
  },
  "language_info": {
   "codemirror_mode": {
    "name": "ipython",
    "version": 3
   },
   "file_extension": ".py",
   "mimetype": "text/x-python",
   "name": "python",
   "nbconvert_exporter": "python",
   "pygments_lexer": "ipython3",
   "version": "3.7.9"
  }
 },
 "nbformat": 4,
 "nbformat_minor": 5
}
