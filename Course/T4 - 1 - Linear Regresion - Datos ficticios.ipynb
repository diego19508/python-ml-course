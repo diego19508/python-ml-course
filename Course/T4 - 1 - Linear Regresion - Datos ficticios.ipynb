{
 "cells": [
  {
   "cell_type": "markdown",
   "id": "terminal-norman",
   "metadata": {},
   "source": [
    "# Modelos de Regresion Lineal"
   ]
  },
  {
   "cell_type": "markdown",
   "id": "standing-dallas",
   "metadata": {},
   "source": [
    "## Modelo con datos simulados"
   ]
  },
  {
   "cell_type": "markdown",
   "id": "proper-conversation",
   "metadata": {},
   "source": [
    "**y = a + b * x**"
   ]
  },
  {
   "cell_type": "markdown",
   "id": "cubic-brand",
   "metadata": {},
   "source": [
    "* x : 100 valores distribuidos segun una N(1.5, 2.5)\n",
    "\n",
    "* Ye = 8 + 1.8 + x + e\n",
    "\n",
    "* **e** estara distribuida segun una N(0, 0.8"
   ]
  },
  {
   "cell_type": "code",
   "execution_count": 1,
   "id": "graduate-bleeding",
   "metadata": {},
   "outputs": [],
   "source": [
    "import pandas as pd\n",
    "import numpy as np"
   ]
  },
  {
   "cell_type": "code",
   "execution_count": 2,
   "id": "generous-seating",
   "metadata": {},
   "outputs": [],
   "source": [
    "x = 1.5 + 2.5 * np.random.randn(100)"
   ]
  },
  {
   "cell_type": "code",
   "execution_count": 3,
   "id": "attempted-multimedia",
   "metadata": {},
   "outputs": [],
   "source": [
    "res = 0 + 0.8 * np.random.randn(100)"
   ]
  },
  {
   "cell_type": "code",
   "execution_count": 4,
   "id": "speaking-telephone",
   "metadata": {},
   "outputs": [],
   "source": [
    "y_pred = 8 + 1.8 * x"
   ]
  },
  {
   "cell_type": "code",
   "execution_count": 5,
   "id": "appreciated-louis",
   "metadata": {},
   "outputs": [],
   "source": [
    "y_act = 8 + 1.8 *x + res"
   ]
  },
  {
   "cell_type": "code",
   "execution_count": 6,
   "id": "careful-candle",
   "metadata": {},
   "outputs": [],
   "source": [
    "x_list = x.tolist()\n",
    "y_pred_list = y_pred.tolist()\n",
    "y_act_list = y_act.tolist()"
   ]
  },
  {
   "cell_type": "code",
   "execution_count": 17,
   "id": "hungry-manor",
   "metadata": {},
   "outputs": [],
   "source": [
    "data = pd.DataFrame(\n",
    "    {\n",
    "        \"x\": x_list,\n",
    "        \"y_act\": y_act_list,\n",
    "        \"y_pred\": y_pred_list\n",
    "    \n",
    "    }\n",
    ")"
   ]
  },
  {
   "cell_type": "code",
   "execution_count": 10,
   "id": "thermal-rhythm",
   "metadata": {},
   "outputs": [
    {
     "data": {
      "text/html": [
       "<div>\n",
       "<style scoped>\n",
       "    .dataframe tbody tr th:only-of-type {\n",
       "        vertical-align: middle;\n",
       "    }\n",
       "\n",
       "    .dataframe tbody tr th {\n",
       "        vertical-align: top;\n",
       "    }\n",
       "\n",
       "    .dataframe thead th {\n",
       "        text-align: right;\n",
       "    }\n",
       "</style>\n",
       "<table border=\"1\" class=\"dataframe\">\n",
       "  <thead>\n",
       "    <tr style=\"text-align: right;\">\n",
       "      <th></th>\n",
       "      <th>x</th>\n",
       "      <th>y</th>\n",
       "      <th>y_pred</th>\n",
       "    </tr>\n",
       "  </thead>\n",
       "  <tbody>\n",
       "    <tr>\n",
       "      <th>0</th>\n",
       "      <td>2.709309</td>\n",
       "      <td>11.385923</td>\n",
       "      <td>12.876756</td>\n",
       "    </tr>\n",
       "    <tr>\n",
       "      <th>1</th>\n",
       "      <td>1.772821</td>\n",
       "      <td>10.761247</td>\n",
       "      <td>11.191077</td>\n",
       "    </tr>\n",
       "    <tr>\n",
       "      <th>2</th>\n",
       "      <td>5.465905</td>\n",
       "      <td>17.738633</td>\n",
       "      <td>17.838629</td>\n",
       "    </tr>\n",
       "    <tr>\n",
       "      <th>3</th>\n",
       "      <td>2.795349</td>\n",
       "      <td>13.059581</td>\n",
       "      <td>13.031628</td>\n",
       "    </tr>\n",
       "    <tr>\n",
       "      <th>4</th>\n",
       "      <td>4.692409</td>\n",
       "      <td>17.135718</td>\n",
       "      <td>16.446337</td>\n",
       "    </tr>\n",
       "  </tbody>\n",
       "</table>\n",
       "</div>"
      ],
      "text/plain": [
       "          x          y     y_pred\n",
       "0  2.709309  11.385923  12.876756\n",
       "1  1.772821  10.761247  11.191077\n",
       "2  5.465905  17.738633  17.838629\n",
       "3  2.795349  13.059581  13.031628\n",
       "4  4.692409  17.135718  16.446337"
      ]
     },
     "execution_count": 10,
     "metadata": {},
     "output_type": "execute_result"
    }
   ],
   "source": [
    "data.head()"
   ]
  },
  {
   "cell_type": "code",
   "execution_count": 11,
   "id": "false-intent",
   "metadata": {},
   "outputs": [],
   "source": [
    "import matplotlib.pyplot as plt"
   ]
  },
  {
   "cell_type": "code",
   "execution_count": 12,
   "id": "refined-henry",
   "metadata": {},
   "outputs": [],
   "source": [
    "%matplotlib inline"
   ]
  },
  {
   "cell_type": "code",
   "execution_count": 20,
   "id": "vulnerable-charleston",
   "metadata": {},
   "outputs": [],
   "source": [
    "y_mean = [np.mean(y_act) for i in range(1, len(x_list) + 1)]"
   ]
  },
  {
   "cell_type": "code",
   "execution_count": 23,
   "id": "satisfactory-survivor",
   "metadata": {},
   "outputs": [
    {
     "data": {
      "text/plain": [
       "Text(0.5, 1.0, 'Valor Actual vs Prediccion')"
      ]
     },
     "execution_count": 23,
     "metadata": {},
     "output_type": "execute_result"
    },
    {
     "data": {
      "image/png": "[encoded data removed]",
      "text/plain": [
       "<Figure size 432x288 with 1 Axes>"
      ]
     },
     "metadata": {
      "needs_background": "light"
     },
     "output_type": "display_data"
    }
   ],
   "source": [
    "plt.plot(x,y_pred)\n",
    "plt.plot(x,y_act, \"ro\")\n",
    "plt.plot(x,y_mean, \"g\")\n",
    "plt.title(\"Valor Actual vs Prediccion\")"
   ]
  },
  {
   "cell_type": "code",
   "execution_count": 27,
   "id": "scenic-coast",
   "metadata": {},
   "outputs": [],
   "source": [
    "data[\"SSR\"]=(data[\"y_pred\"]-np.mean(y_act))**2\n",
    "data[\"SSD\"]=(data[\"y_pred\"]-data[\"y_act\"])**2\n",
    "data[\"SST\"]=(data[\"y_act\"]-np.mean(y_act))**2"
   ]
  },
  {
   "cell_type": "code",
   "execution_count": 28,
   "id": "complex-concentrate",
   "metadata": {},
   "outputs": [
    {
     "data": {
      "text/html": [
       "<div>\n",
       "<style scoped>\n",
       "    .dataframe tbody tr th:only-of-type {\n",
       "        vertical-align: middle;\n",
       "    }\n",
       "\n",
       "    .dataframe tbody tr th {\n",
       "        vertical-align: top;\n",
       "    }\n",
       "\n",
       "    .dataframe thead th {\n",
       "        text-align: right;\n",
       "    }\n",
       "</style>\n",
       "<table border=\"1\" class=\"dataframe\">\n",
       "  <thead>\n",
       "    <tr style=\"text-align: right;\">\n",
       "      <th></th>\n",
       "      <th>x</th>\n",
       "      <th>y_act</th>\n",
       "      <th>y_pred</th>\n",
       "      <th>SSR</th>\n",
       "      <th>SSD</th>\n",
       "      <th>SST</th>\n",
       "    </tr>\n",
       "  </thead>\n",
       "  <tbody>\n",
       "    <tr>\n",
       "      <th>0</th>\n",
       "      <td>2.709309</td>\n",
       "      <td>11.385923</td>\n",
       "      <td>12.876756</td>\n",
       "      <td>4.153245</td>\n",
       "      <td>2.222581</td>\n",
       "      <td>0.299339</td>\n",
       "    </tr>\n",
       "    <tr>\n",
       "      <th>1</th>\n",
       "      <td>1.772821</td>\n",
       "      <td>10.761247</td>\n",
       "      <td>11.191077</td>\n",
       "      <td>0.124096</td>\n",
       "      <td>0.184754</td>\n",
       "      <td>0.006015</td>\n",
       "    </tr>\n",
       "    <tr>\n",
       "      <th>2</th>\n",
       "      <td>5.465905</td>\n",
       "      <td>17.738633</td>\n",
       "      <td>17.838629</td>\n",
       "      <td>48.997542</td>\n",
       "      <td>0.009999</td>\n",
       "      <td>47.607629</td>\n",
       "    </tr>\n",
       "    <tr>\n",
       "      <th>3</th>\n",
       "      <td>2.795349</td>\n",
       "      <td>13.059581</td>\n",
       "      <td>13.031628</td>\n",
       "      <td>4.808474</td>\n",
       "      <td>0.000781</td>\n",
       "      <td>4.931846</td>\n",
       "    </tr>\n",
       "    <tr>\n",
       "      <th>4</th>\n",
       "      <td>4.692409</td>\n",
       "      <td>17.135718</td>\n",
       "      <td>16.446337</td>\n",
       "      <td>31.444416</td>\n",
       "      <td>0.475247</td>\n",
       "      <td>39.651125</td>\n",
       "    </tr>\n",
       "  </tbody>\n",
       "</table>\n",
       "</div>"
      ],
      "text/plain": [
       "          x      y_act     y_pred        SSR       SSD        SST\n",
       "0  2.709309  11.385923  12.876756   4.153245  2.222581   0.299339\n",
       "1  1.772821  10.761247  11.191077   0.124096  0.184754   0.006015\n",
       "2  5.465905  17.738633  17.838629  48.997542  0.009999  47.607629\n",
       "3  2.795349  13.059581  13.031628   4.808474  0.000781   4.931846\n",
       "4  4.692409  17.135718  16.446337  31.444416  0.475247  39.651125"
      ]
     },
     "execution_count": 28,
     "metadata": {},
     "output_type": "execute_result"
    }
   ],
   "source": [
    "data.head()"
   ]
  },
  {
   "cell_type": "code",
   "execution_count": 29,
   "id": "strategic-moldova",
   "metadata": {},
   "outputs": [],
   "source": [
    "SSR =sum(data[\"SSR\"])\n",
    "SSD =sum(data[\"SSD\"])\n",
    "SST =sum(data[\"SST\"])"
   ]
  },
  {
   "cell_type": "code",
   "execution_count": 30,
   "id": "satisfactory-charter",
   "metadata": {},
   "outputs": [
    {
     "data": {
      "text/plain": [
       "1661.4911051745653"
      ]
     },
     "execution_count": 30,
     "metadata": {},
     "output_type": "execute_result"
    }
   ],
   "source": [
    "SSR"
   ]
  },
  {
   "cell_type": "code",
   "execution_count": 31,
   "id": "pleasant-yacht",
   "metadata": {},
   "outputs": [
    {
     "data": {
      "text/plain": [
       "64.25737783977357"
      ]
     },
     "execution_count": 31,
     "metadata": {},
     "output_type": "execute_result"
    }
   ],
   "source": [
    "SSD"
   ]
  },
  {
   "cell_type": "code",
   "execution_count": 32,
   "id": "competitive-carroll",
   "metadata": {},
   "outputs": [
    {
     "data": {
      "text/plain": [
       "1716.4984198613581"
      ]
     },
     "execution_count": 32,
     "metadata": {},
     "output_type": "execute_result"
    }
   ],
   "source": [
    "SST"
   ]
  },
  {
   "cell_type": "code",
   "execution_count": 33,
   "id": "solid-pocket",
   "metadata": {},
   "outputs": [
    {
     "data": {
      "text/plain": [
       "1725.748483014339"
      ]
     },
     "execution_count": 33,
     "metadata": {},
     "output_type": "execute_result"
    }
   ],
   "source": [
    "SSR+SSD"
   ]
  },
  {
   "cell_type": "code",
   "execution_count": 34,
   "id": "liable-treasury",
   "metadata": {},
   "outputs": [],
   "source": [
    "R2 = SSR/SST"
   ]
  },
  {
   "cell_type": "code",
   "execution_count": 35,
   "id": "christian-saturday",
   "metadata": {},
   "outputs": [
    {
     "data": {
      "text/plain": [
       "0.9679537632832568"
      ]
     },
     "execution_count": 35,
     "metadata": {},
     "output_type": "execute_result"
    }
   ],
   "source": [
    "R2"
   ]
  },
  {
   "cell_type": "code",
   "execution_count": 37,
   "id": "civilian-jaguar",
   "metadata": {},
   "outputs": [
    {
     "data": {
      "text/plain": [
       "(array([ 3.,  6., 13., 11., 15., 23., 15.,  7.,  5.,  2.]),\n",
       " array([-1.83787273, -1.45032871, -1.06278469, -0.67524067, -0.28769664,\n",
       "         0.09984738,  0.4873914 ,  0.87493542,  1.26247944,  1.65002346,\n",
       "         2.03756749]),\n",
       " <BarContainer object of 10 artists>)"
      ]
     },
     "execution_count": 37,
     "metadata": {},
     "output_type": "execute_result"
    },
    {
     "data": {
      "image/png": "[encoded data removed]",
      "text/plain": [
       "<Figure size 432x288 with 1 Axes>"
      ]
     },
     "metadata": {
      "needs_background": "light"
     },
     "output_type": "display_data"
    }
   ],
   "source": [
    "plt.hist(data['y_pred']-data[\"y_act\"])"
   ]
  },
  {
   "cell_type": "code",
   "execution_count": null,
   "id": "danish-hindu",
   "metadata": {},
   "outputs": [],
   "source": []
  }
 ],
 "metadata": {
  "kernelspec": {
   "display_name": "Python 3",
   "language": "python",
   "name": "python3"
  },
  "language_info": {
   "codemirror_mode": {
    "name": "ipython",
    "version": 3
   },
   "file_extension": ".py",
   "mimetype": "text/x-python",
   "name": "python",
   "nbconvert_exporter": "python",
   "pygments_lexer": "ipython3",
   "version": "3.7.9"
  }
 },
 "nbformat": 4,
 "nbformat_minor": 5
}
