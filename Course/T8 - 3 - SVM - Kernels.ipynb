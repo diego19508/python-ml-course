{
 "cells": [
  {
   "cell_type": "markdown",
   "id": "constitutional-stake",
   "metadata": {},
   "source": [
    "# Identificar fronteras no lineales"
   ]
  },
  {
   "cell_type": "code",
   "execution_count": 17,
   "id": "fitted-artwork",
   "metadata": {},
   "outputs": [],
   "source": [
    "from sklearn.datasets import make_circles\n",
    "import matplotlib.pyplot as plt\n",
    "import numpy as np\n",
    "from sklearn.svm import SVC\n",
    "\n",
    "from mpl_toolkits import mplot3d\n",
    "\n",
    "from ipywidgets import interact, fixed"
   ]
  },
  {
   "cell_type": "code",
   "execution_count": 3,
   "id": "worth-consensus",
   "metadata": {},
   "outputs": [],
   "source": [
    "X , Y = make_circles(100, factor= .1, noise = .1)"
   ]
  },
  {
   "cell_type": "code",
   "execution_count": 5,
   "id": "flexible-sydney",
   "metadata": {},
   "outputs": [],
   "source": [
    "def plt_svc(model, ax=None, plot_support=True):\n",
    "    \"\"\"Plot de la funcion de decision para una clasificacion en 2D con SVC\"\"\"\n",
    "    if ax is None:\n",
    "        ax = plt.gca()\n",
    "    xlim = ax.get_xlim()\n",
    "    ylim = ax.get_ylim()\n",
    "    \n",
    "    ## Generamos la parrilla de puntos para evaluar el modelo\n",
    "    \n",
    "    xx = np.linspace(xlim[0], xlim[1], 30)\n",
    "    yy = np.linspace(ylim[0], ylim[1], 30)\n",
    "    Y,X =np.meshgrid(yy,xx)\n",
    "    \n",
    "    xy = np.vstack([X.ravel(), Y.ravel()]).T\n",
    "    P = model.decision_function(xy).reshape(X.shape)\n",
    "    \n",
    "    ## Representamos las fronteras y los margenes del SVC\n",
    "    \n",
    "    ax.contour(X,Y,P, colors=\"k\", levels=[-1,0,1], alpha=0.5, linestyles=[\"--\", \"-\", \"--\"])\n",
    "    \n",
    "    print(model.support_vectors_)\n",
    "    \n",
    "    if plot_support:\n",
    "        ax.scatter(model.support_vectors_[:,0],\n",
    "                   model.support_vectors_[:,1],\n",
    "                   s=300, linewidth=1, facecolors=\"black\")\n",
    "        \n",
    "    ax.set_xlim(xlim)\n",
    "    ax.set_ylim(ylim)"
   ]
  },
  {
   "cell_type": "code",
   "execution_count": 6,
   "id": "fourth-image",
   "metadata": {},
   "outputs": [],
   "source": [
    "def plot_svm(N=10, ax=None):\n",
    "    X, Y = make_blobs(n_samples=200, centers=2, random_state=0, cluster_std=0.6)\n",
    "    \n",
    "    X = X[:N]\n",
    "    Y = Y[:N]\n",
    "    model = SVC(kernel='linear', C=10000000000)\n",
    "    model.fit(X,Y)\n",
    "    \n",
    "    ax = ax or plt.gca()\n",
    "    ax.scatter(X[:,0], X[:,1], c=Y, s=50, cmap=\"autumn\")\n",
    "    ax.set_xlim(-1,4)\n",
    "    ax.set_ylim(-1,6)\n",
    "    plt_svc(model, ax)\n"
   ]
  },
  {
   "cell_type": "code",
   "execution_count": 7,
   "id": "laughing-pathology",
   "metadata": {},
   "outputs": [
    {
     "data": {
      "text/plain": [
       "<matplotlib.collections.PathCollection at 0x7fddd9c76250>"
      ]
     },
     "execution_count": 7,
     "metadata": {},
     "output_type": "execute_result"
    },
    {
     "data": {
      "image/png": "[encoded data removed]",
      "text/plain": [
       "<Figure size 432x288 with 1 Axes>"
      ]
     },
     "metadata": {
      "needs_background": "light"
     },
     "output_type": "display_data"
    }
   ],
   "source": [
    "plt.scatter(X[:,0], X[:,1], c=Y, s=50, cmap=\"autumn\")"
   ]
  },
  {
   "cell_type": "code",
   "execution_count": 13,
   "id": "further-portsmouth",
   "metadata": {},
   "outputs": [
    {
     "name": "stdout",
     "output_type": "stream",
     "text": [
      "[[ 8.80609082e-02  1.06048981e+00]\n",
      " [-5.68415706e-01 -8.49454485e-01]\n",
      " [ 9.33599343e-01  3.36272891e-01]\n",
      " [ 3.53294633e-01 -8.47137978e-01]\n",
      " [ 1.03946884e+00 -7.70866620e-02]\n",
      " [ 9.85467269e-01 -2.60538258e-01]\n",
      " [-5.84280526e-01 -7.98626562e-01]\n",
      " [-8.21279882e-02  9.65365336e-01]\n",
      " [-5.30373568e-02 -9.63120505e-01]\n",
      " [-9.42697210e-01 -2.99564679e-01]\n",
      " [-3.35410027e-01  8.32828626e-01]\n",
      " [-8.48116938e-01  7.12314084e-01]\n",
      " [ 8.18000715e-01  5.89777187e-01]\n",
      " [ 6.91329168e-01  6.78350161e-01]\n",
      " [ 7.70927979e-01 -4.41126139e-01]\n",
      " [-8.54295529e-01  1.19147747e-01]\n",
      " [-9.55080080e-01 -2.85333375e-01]\n",
      " [-8.46893816e-01 -7.58749136e-02]\n",
      " [ 1.13827773e+00  4.42690846e-02]\n",
      " [ 7.54113920e-02 -1.02468654e+00]\n",
      " [-6.15938597e-01  2.81369152e-01]\n",
      " [ 7.12147751e-01 -8.13706711e-01]\n",
      " [-7.73432803e-01 -6.24982997e-01]\n",
      " [ 6.04076143e-01  8.98607658e-01]\n",
      " [-3.59922353e-02  1.15437176e+00]\n",
      " [-5.68780196e-01  7.66778590e-01]\n",
      " [ 5.58483799e-01  1.06762075e+00]\n",
      " [-6.73229374e-01 -8.24316827e-01]\n",
      " [ 2.93393739e-01 -7.93994353e-01]\n",
      " [-6.06529186e-01  8.29509348e-01]\n",
      " [-7.80453482e-01 -4.43105598e-01]\n",
      " [ 1.86910969e-01  9.18598874e-01]\n",
      " [ 2.83408053e-01  8.29127539e-01]\n",
      " [ 4.68542496e-01  8.07054827e-01]\n",
      " [ 8.92720894e-01 -5.55671521e-01]\n",
      " [-1.98708630e-01 -7.91794082e-01]\n",
      " [-9.88725325e-01  1.06397513e-02]\n",
      " [ 9.51393662e-01 -6.34437897e-01]\n",
      " [ 9.04913716e-01  3.50733309e-01]\n",
      " [ 9.93452340e-01 -6.25356019e-01]\n",
      " [ 1.80755076e-01 -1.06593374e+00]\n",
      " [ 7.13740120e-01  5.94021524e-01]\n",
      " [-4.77200540e-01  6.50376153e-01]\n",
      " [-8.46640635e-02 -9.35269575e-01]\n",
      " [-8.07777003e-02 -1.03004983e+00]\n",
      " [-3.61112149e-01 -8.19063300e-01]\n",
      " [-5.68481012e-01  5.75956520e-01]\n",
      " [-9.50321520e-01  4.68004136e-01]\n",
      " [-9.62779414e-01  1.62063158e-01]\n",
      " [ 9.54735529e-01  7.37079398e-02]\n",
      " [ 1.10469749e-01  1.22388750e-01]\n",
      " [ 5.84900733e-02 -2.06534762e-01]\n",
      " [-7.97041051e-02 -1.12678404e-01]\n",
      " [ 7.24427057e-02  2.48932950e-01]\n",
      " [ 3.00841473e-02  4.78335826e-02]\n",
      " [ 4.08106789e-02  1.09589794e-01]\n",
      " [-9.77864885e-04 -3.55456193e-02]\n",
      " [-9.96848471e-02  1.72102718e-01]\n",
      " [ 1.91119489e-01 -1.62809117e-01]\n",
      " [ 2.64288200e-02  1.09979848e-02]\n",
      " [-9.15171115e-02  1.91524238e-01]\n",
      " [ 1.94410234e-02 -9.52198495e-02]\n",
      " [-5.69142196e-02  1.19447138e-01]\n",
      " [-1.96388092e-01 -1.73932616e-01]\n",
      " [ 3.57764899e-03 -8.66962259e-02]\n",
      " [ 4.20737241e-02  5.87652776e-02]\n",
      " [ 1.58153491e-01  4.85410549e-02]\n",
      " [ 3.39519432e-02 -3.23667607e-01]\n",
      " [-1.67858343e-01  7.83536270e-02]\n",
      " [-1.37684644e-01  1.61027364e-01]\n",
      " [-1.33228538e-01 -9.80133195e-02]\n",
      " [ 2.52296868e-01  1.22329204e-01]\n",
      " [ 2.48857397e-02  1.16052738e-01]\n",
      " [-9.39036458e-02 -1.90750043e-01]\n",
      " [-1.33050406e-02  8.35768331e-02]\n",
      " [ 7.74607510e-02 -8.85173302e-02]\n",
      " [ 4.41647389e-02 -1.84004571e-02]\n",
      " [ 8.54030779e-02 -5.50978746e-03]\n",
      " [ 2.03661257e-03 -8.99532581e-02]\n",
      " [-1.85594962e-02 -2.36332532e-02]\n",
      " [-7.68084660e-02 -1.79108511e-01]\n",
      " [ 7.62537447e-02  2.14031579e-02]\n",
      " [-6.50151949e-02 -1.82453809e-02]\n",
      " [-2.21686664e-01 -9.90771086e-02]\n",
      " [ 1.46529167e-02  1.99094506e-01]\n",
      " [ 2.52754023e-02  7.92159103e-02]\n",
      " [ 9.94982219e-02  2.32543593e-01]\n",
      " [ 2.70050679e-01 -7.31431241e-02]\n",
      " [-4.58778543e-02 -1.71241273e-01]\n",
      " [ 2.04064855e-02  4.24496646e-02]\n",
      " [-6.01815613e-02  6.66304042e-02]\n",
      " [ 4.13360112e-02 -5.92741475e-02]\n",
      " [-5.26788225e-02 -4.95925384e-03]\n",
      " [-8.78481833e-02  3.31718000e-01]\n",
      " [-8.93307118e-02 -4.46068180e-02]\n",
      " [ 9.58492590e-03  2.39471534e-01]\n",
      " [ 8.06440961e-02 -4.22792740e-02]\n",
      " [ 1.22061469e-01 -1.50293430e-01]\n",
      " [ 1.98086226e-02  6.36322481e-02]\n",
      " [-8.25412917e-02 -1.14343062e-01]]\n"
     ]
    },
    {
     "ename": "AttributeError",
     "evalue": "'NoneType' object has no attribute 'head'",
     "output_type": "error",
     "traceback": [
      "\u001b[0;31m---------------------------------------------------------------------------\u001b[0m",
      "\u001b[0;31mAttributeError\u001b[0m                            Traceback (most recent call last)",
      "\u001b[0;32m<ipython-input-13-82eff4d93deb>\u001b[0m in \u001b[0;36m<module>\u001b[0;34m\u001b[0m\n\u001b[1;32m      1\u001b[0m \u001b[0mplt\u001b[0m\u001b[0;34m.\u001b[0m\u001b[0mscatter\u001b[0m\u001b[0;34m(\u001b[0m\u001b[0mX\u001b[0m\u001b[0;34m[\u001b[0m\u001b[0;34m:\u001b[0m\u001b[0;34m,\u001b[0m\u001b[0;36m0\u001b[0m\u001b[0;34m]\u001b[0m\u001b[0;34m,\u001b[0m \u001b[0mX\u001b[0m\u001b[0;34m[\u001b[0m\u001b[0;34m:\u001b[0m\u001b[0;34m,\u001b[0m\u001b[0;36m1\u001b[0m\u001b[0;34m]\u001b[0m\u001b[0;34m,\u001b[0m \u001b[0mc\u001b[0m\u001b[0;34m=\u001b[0m\u001b[0mY\u001b[0m\u001b[0;34m,\u001b[0m \u001b[0ms\u001b[0m\u001b[0;34m=\u001b[0m\u001b[0;36m50\u001b[0m\u001b[0;34m,\u001b[0m \u001b[0mcmap\u001b[0m\u001b[0;34m=\u001b[0m\u001b[0;34m\"autumn\"\u001b[0m\u001b[0;34m)\u001b[0m\u001b[0;34m\u001b[0m\u001b[0;34m\u001b[0m\u001b[0m\n\u001b[0;32m----> 2\u001b[0;31m \u001b[0mplt_svc\u001b[0m\u001b[0;34m(\u001b[0m\u001b[0mSVC\u001b[0m\u001b[0;34m(\u001b[0m\u001b[0mkernel\u001b[0m\u001b[0;34m=\u001b[0m\u001b[0;34m\"linear\"\u001b[0m\u001b[0;34m)\u001b[0m\u001b[0;34m.\u001b[0m\u001b[0mfit\u001b[0m\u001b[0;34m(\u001b[0m\u001b[0mX\u001b[0m\u001b[0;34m,\u001b[0m\u001b[0mY\u001b[0m\u001b[0;34m)\u001b[0m\u001b[0;34m,\u001b[0m \u001b[0mplot_support\u001b[0m\u001b[0;34m=\u001b[0m\u001b[0;32mFalse\u001b[0m\u001b[0;34m)\u001b[0m\u001b[0;34m.\u001b[0m\u001b[0mhead\u001b[0m\u001b[0;34m(\u001b[0m\u001b[0;34m)\u001b[0m\u001b[0;34m\u001b[0m\u001b[0;34m\u001b[0m\u001b[0m\n\u001b[0m",
      "\u001b[0;31mAttributeError\u001b[0m: 'NoneType' object has no attribute 'head'"
     ]
    },
    {
     "data": {
      "image/png": "[encoded data removed]",
      "text/plain": [
       "<Figure size 432x288 with 1 Axes>"
      ]
     },
     "metadata": {
      "needs_background": "light"
     },
     "output_type": "display_data"
    }
   ],
   "source": [
    "plt.scatter(X[:,0], X[:,1], c=Y, s=50, cmap=\"autumn\")\n",
    "plt_svc(SVC(kernel=\"linear\").fit(X,Y), plot_support=False)\n"
   ]
  },
  {
   "cell_type": "code",
   "execution_count": 11,
   "id": "excess-result",
   "metadata": {},
   "outputs": [],
   "source": [
    "r = np.exp(-(X**2).sum(1))"
   ]
  },
  {
   "cell_type": "code",
   "execution_count": 12,
   "id": "annoying-playback",
   "metadata": {},
   "outputs": [
    {
     "data": {
      "text/plain": [
       "array([0.97318355, 0.32226105, 0.35180813, 0.95496776, 0.37355606,\n",
       "       0.43064989, 0.98113112, 0.33741629, 0.35379914, 0.37561593,\n",
       "       0.39114567, 0.93499363, 0.99681198, 0.98641765, 0.39439037,\n",
       "       0.99873635, 0.96121573, 0.37590568, 0.93891205, 0.44659488,\n",
       "       0.29326059, 0.9991809 , 0.36169199, 0.95594307, 0.99059969,\n",
       "       0.98264551, 0.39137271, 0.93349391, 0.4543342 , 0.47520118,\n",
       "       0.99249924, 0.99479006, 0.97300237, 0.37024398, 0.89950249,\n",
       "       0.48530091, 0.96626639, 0.27317684, 0.95610564, 0.97301434,\n",
       "       0.92439284, 0.98601123, 0.34795943, 0.95580298, 0.99286348,\n",
       "       0.98625978, 0.99771352, 0.63220033, 0.99270271, 0.31059265,\n",
       "       0.99193695, 0.37202209, 0.3096218 , 0.99909742, 0.26345582,\n",
       "       0.40193684, 0.96273277, 0.9937469 , 0.23416759, 0.99545051,\n",
       "       0.32215064, 0.48845549, 0.9427433 , 0.96093037, 0.34785714,\n",
       "       0.99310984, 0.93802712, 0.44688669, 0.41529773, 0.46404553,\n",
       "       0.92470798, 0.96906039, 0.99778406, 0.99197098, 0.99479152,\n",
       "       0.99720426, 0.4185874 , 0.33097202, 0.51354224, 0.3761787 ,\n",
       "       0.27045181, 0.88891458, 0.3898931 , 0.25207775, 0.31071253,\n",
       "       0.42219561, 0.52167552, 0.41399674, 0.99007979, 0.94417997,\n",
       "       0.99174327, 0.96320683, 0.34385759, 0.44876017, 0.9955684 ,\n",
       "       0.98030905, 0.51949579, 0.32558267, 0.38550209, 0.39973526])"
      ]
     },
     "execution_count": 12,
     "metadata": {},
     "output_type": "execute_result"
    }
   ],
   "source": [
    "r"
   ]
  },
  {
   "cell_type": "code",
   "execution_count": 20,
   "id": "utility-healthcare",
   "metadata": {},
   "outputs": [],
   "source": [
    "def plot_3D(elev=30, azim=30, X=X, Y=Y, r=r):\n",
    "    ax = plt.subplot(projection=\"3d\")\n",
    "    ax.scatter3D(X[:,0], X[:,1], r , c=Y, s=50, cmap='autumn')\n",
    "    ax.view_init(elev=elev, azim=azim)\n",
    "    \n",
    "    ax.set_xlabel('x[0]')\n",
    "    ax.set_ylabel('y[1]')\n",
    "    ax.set_zlabel('r')"
   ]
  },
  {
   "cell_type": "code",
   "execution_count": 23,
   "id": "swedish-title",
   "metadata": {},
   "outputs": [
    {
     "data": {
      "application/vnd.jupyter.widget-view+json": {
       "model_id": "0199d29de0804a3db30efa48b9b115fc",
       "version_major": 2,
       "version_minor": 0
      },
      "text/plain": [
       "interactive(children=(Dropdown(description='elev', index=4, options=(-90, -60, -30, 0, 30, 60, 90), value=30),…"
      ]
     },
     "metadata": {},
     "output_type": "display_data"
    },
    {
     "data": {
      "text/plain": [
       "<function __main__.plot_3D(elev=30, azim=30, X=array([[ 1.10469749e-01,  1.22388750e-01],\n",
       "       [ 8.80609082e-02,  1.06048981e+00],\n",
       "       [-5.68415706e-01, -8.49454485e-01],\n",
       "       [ 5.84900733e-02, -2.06534762e-01],\n",
       "       [ 9.33599343e-01,  3.36272891e-01],\n",
       "       [ 3.53294633e-01, -8.47137978e-01],\n",
       "       [-7.97041051e-02, -1.12678404e-01],\n",
       "       [ 1.03946884e+00, -7.70866620e-02],\n",
       "       [ 9.85467269e-01, -2.60538258e-01],\n",
       "       [-5.84280526e-01, -7.98626562e-01],\n",
       "       [-8.21279882e-02,  9.65365336e-01],\n",
       "       [ 7.24427057e-02,  2.48932950e-01],\n",
       "       [ 3.00841473e-02,  4.78335826e-02],\n",
       "       [ 4.08106789e-02,  1.09589794e-01],\n",
       "       [-5.30373568e-02, -9.63120505e-01],\n",
       "       [-9.77864885e-04, -3.55456193e-02],\n",
       "       [-9.96848471e-02,  1.72102718e-01],\n",
       "       [-9.42697210e-01, -2.99564679e-01],\n",
       "       [ 1.91119489e-01, -1.62809117e-01],\n",
       "       [-3.35410027e-01,  8.32828626e-01],\n",
       "       [-8.48116938e-01,  7.12314084e-01],\n",
       "       [ 2.64288200e-02,  1.09979848e-02],\n",
       "       [ 8.18000715e-01,  5.89777187e-01],\n",
       "       [-9.15171115e-02,  1.91524238e-01],\n",
       "       [ 1.94410234e-02, -9.52198495e-02],\n",
       "       [-5.69142196e-02,  1.19447138e-01],\n",
       "       [ 6.91329168e-01,  6.78350161e-01],\n",
       "       [-1.96388092e-01, -1.73932616e-01],\n",
       "       [ 7.70927979e-01, -4.41126139e-01],\n",
       "       [-8.54295529e-01,  1.19147747e-01],\n",
       "       [ 3.57764899e-03, -8.66962259e-02],\n",
       "       [ 4.20737241e-02,  5.87652776e-02],\n",
       "       [ 1.58153491e-01,  4.85410549e-02],\n",
       "       [-9.55080080e-01, -2.85333375e-01],\n",
       "       [ 3.39519432e-02, -3.23667607e-01],\n",
       "       [-8.46893816e-01, -7.58749136e-02],\n",
       "       [-1.67858343e-01,  7.83536270e-02],\n",
       "       [ 1.13827773e+00,  4.42690846e-02],\n",
       "       [-1.37684644e-01,  1.61027364e-01],\n",
       "       [-1.33228538e-01, -9.80133195e-02],\n",
       "       [ 2.52296868e-01,  1.22329204e-01],\n",
       "       [ 2.48857397e-02,  1.16052738e-01],\n",
       "       [ 7.54113920e-02, -1.02468654e+00],\n",
       "       [-9.39036458e-02, -1.90750043e-01],\n",
       "       [-1.33050406e-02,  8.35768331e-02],\n",
       "       [ 7.74607510e-02, -8.85173302e-02],\n",
       "       [ 4.41647389e-02, -1.84004571e-02],\n",
       "       [-6.15938597e-01,  2.81369152e-01],\n",
       "       [ 8.54030779e-02, -5.50978746e-03],\n",
       "       [ 7.12147751e-01, -8.13706711e-01],\n",
       "       [ 2.03661257e-03, -8.99532581e-02],\n",
       "       [-7.73432803e-01, -6.24982997e-01],\n",
       "       [ 6.04076143e-01,  8.98607658e-01],\n",
       "       [-1.85594962e-02, -2.36332532e-02],\n",
       "       [-3.59922353e-02,  1.15437176e+00],\n",
       "       [-5.68780196e-01,  7.66778590e-01],\n",
       "       [-7.68084660e-02, -1.79108511e-01],\n",
       "       [ 7.62537447e-02,  2.14031579e-02],\n",
       "       [ 5.58483799e-01,  1.06762075e+00],\n",
       "       [-6.50151949e-02, -1.82453809e-02],\n",
       "       [-6.73229374e-01, -8.24316827e-01],\n",
       "       [ 2.93393739e-01, -7.93994353e-01],\n",
       "       [-2.21686664e-01, -9.90771086e-02],\n",
       "       [ 1.46529167e-02,  1.99094506e-01],\n",
       "       [-6.06529186e-01,  8.29509348e-01],\n",
       "       [ 2.52754023e-02,  7.92159103e-02],\n",
       "       [ 9.94982219e-02,  2.32543593e-01],\n",
       "       [-7.80453482e-01, -4.43105598e-01],\n",
       "       [ 1.86910969e-01,  9.18598874e-01],\n",
       "       [ 2.83408053e-01,  8.29127539e-01],\n",
       "       [ 2.70050679e-01, -7.31431241e-02],\n",
       "       [-4.58778543e-02, -1.71241273e-01],\n",
       "       [ 2.04064855e-02,  4.24496646e-02],\n",
       "       [-6.01815613e-02,  6.66304042e-02],\n",
       "       [ 4.13360112e-02, -5.92741475e-02],\n",
       "       [-5.26788225e-02, -4.95925384e-03],\n",
       "       [ 4.68542496e-01,  8.07054827e-01],\n",
       "       [ 8.92720894e-01, -5.55671521e-01],\n",
       "       [-1.98708630e-01, -7.91794082e-01],\n",
       "       [-9.88725325e-01,  1.06397513e-02],\n",
       "       [ 9.51393662e-01, -6.34437897e-01],\n",
       "       [-8.78481833e-02,  3.31718000e-01],\n",
       "       [ 9.04913716e-01,  3.50733309e-01],\n",
       "       [ 9.93452340e-01, -6.25356019e-01],\n",
       "       [ 1.80755076e-01, -1.06593374e+00],\n",
       "       [ 7.13740120e-01,  5.94021524e-01],\n",
       "       [-4.77200540e-01,  6.50376153e-01],\n",
       "       [-8.46640635e-02, -9.35269575e-01],\n",
       "       [-8.93307118e-02, -4.46068180e-02],\n",
       "       [ 9.58492590e-03,  2.39471534e-01],\n",
       "       [ 8.06440961e-02, -4.22792740e-02],\n",
       "       [ 1.22061469e-01, -1.50293430e-01],\n",
       "       [-8.07777003e-02, -1.03004983e+00],\n",
       "       [-3.61112149e-01, -8.19063300e-01],\n",
       "       [ 1.98086226e-02,  6.36322481e-02],\n",
       "       [-8.25412917e-02, -1.14343062e-01],\n",
       "       [-5.68481012e-01,  5.75956520e-01],\n",
       "       [-9.50321520e-01,  4.68004136e-01],\n",
       "       [-9.62779414e-01,  1.62063158e-01],\n",
       "       [ 9.54735529e-01,  7.37079398e-02]]), Y=array([1, 0, 0, 1, 0, 0, 1, 0, 0, 0, 0, 1, 1, 1, 0, 1, 1, 0, 1, 0, 0, 1,\n",
       "       0, 1, 1, 1, 0, 1, 0, 0, 1, 1, 1, 0, 1, 0, 1, 0, 1, 1, 1, 1, 0, 1,\n",
       "       1, 1, 1, 0, 1, 0, 1, 0, 0, 1, 0, 0, 1, 1, 0, 1, 0, 0, 1, 1, 0, 1,\n",
       "       1, 0, 0, 0, 1, 1, 1, 1, 1, 1, 0, 0, 0, 0, 0, 1, 0, 0, 0, 0, 0, 0,\n",
       "       1, 1, 1, 1, 0, 0, 1, 1, 0, 0, 0, 0]), r=array([0.97318355, 0.32226105, 0.35180813, 0.95496776, 0.37355606,\n",
       "       0.43064989, 0.98113112, 0.33741629, 0.35379914, 0.37561593,\n",
       "       0.39114567, 0.93499363, 0.99681198, 0.98641765, 0.39439037,\n",
       "       0.99873635, 0.96121573, 0.37590568, 0.93891205, 0.44659488,\n",
       "       0.29326059, 0.9991809 , 0.36169199, 0.95594307, 0.99059969,\n",
       "       0.98264551, 0.39137271, 0.93349391, 0.4543342 , 0.47520118,\n",
       "       0.99249924, 0.99479006, 0.97300237, 0.37024398, 0.89950249,\n",
       "       0.48530091, 0.96626639, 0.27317684, 0.95610564, 0.97301434,\n",
       "       0.92439284, 0.98601123, 0.34795943, 0.95580298, 0.99286348,\n",
       "       0.98625978, 0.99771352, 0.63220033, 0.99270271, 0.31059265,\n",
       "       0.99193695, 0.37202209, 0.3096218 , 0.99909742, 0.26345582,\n",
       "       0.40193684, 0.96273277, 0.9937469 , 0.23416759, 0.99545051,\n",
       "       0.32215064, 0.48845549, 0.9427433 , 0.96093037, 0.34785714,\n",
       "       0.99310984, 0.93802712, 0.44688669, 0.41529773, 0.46404553,\n",
       "       0.92470798, 0.96906039, 0.99778406, 0.99197098, 0.99479152,\n",
       "       0.99720426, 0.4185874 , 0.33097202, 0.51354224, 0.3761787 ,\n",
       "       0.27045181, 0.88891458, 0.3898931 , 0.25207775, 0.31071253,\n",
       "       0.42219561, 0.52167552, 0.41399674, 0.99007979, 0.94417997,\n",
       "       0.99174327, 0.96320683, 0.34385759, 0.44876017, 0.9955684 ,\n",
       "       0.98030905, 0.51949579, 0.32558267, 0.38550209, 0.39973526]))>"
      ]
     },
     "execution_count": 23,
     "metadata": {},
     "output_type": "execute_result"
    }
   ],
   "source": [
    "\n",
    "\n",
    "\n",
    "interact(plot_3D, elev=[-90,-60,-30,0,30,60,90], azim=[-180,-150,-120,-90,-60,-30,0,30,60,90,120,150,180], \n",
    "         X=fixed(X), Y=fixed(Y), r=fixed(r))\n",
    "\n",
    "\n"
   ]
  },
  {
   "cell_type": "code",
   "execution_count": null,
   "id": "labeled-bahrain",
   "metadata": {},
   "outputs": [],
   "source": []
  }
 ],
 "metadata": {
  "kernelspec": {
   "display_name": "Python 3",
   "language": "python",
   "name": "python3"
  },
  "language_info": {
   "codemirror_mode": {
    "name": "ipython",
    "version": 3
   },
   "file_extension": ".py",
   "mimetype": "text/x-python",
   "name": "python",
   "nbconvert_exporter": "python",
   "pygments_lexer": "ipython3",
   "version": "3.7.9"
  }
 },
 "nbformat": 4,
 "nbformat_minor": 5
}
