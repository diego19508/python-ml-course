{
 "cells": [
  {
   "cell_type": "markdown",
   "id": "black-authentication",
   "metadata": {},
   "source": [
    "# El metodo de k-means"
   ]
  },
  {
   "cell_type": "code",
   "execution_count": 1,
   "id": "color-dependence",
   "metadata": {},
   "outputs": [],
   "source": [
    "import numpy as np"
   ]
  },
  {
   "cell_type": "code",
   "execution_count": 3,
   "id": "built-increase",
   "metadata": {},
   "outputs": [
    {
     "data": {
      "text/plain": [
       "array([[0.43184697, 0.67135373, 0.61863909],\n",
       "       [0.85330732, 0.65414638, 0.17258375],\n",
       "       [0.10625859, 0.20688706, 0.23907313],\n",
       "       [0.41656022, 0.61162343, 0.33398659],\n",
       "       [0.54653759, 0.59166796, 0.06400591],\n",
       "       [0.36393022, 0.88341186, 0.55902453],\n",
       "       [0.86783637, 0.35210965, 0.30272066],\n",
       "       [0.57565103, 0.625349  , 0.12409192],\n",
       "       [0.8792865 , 0.49920564, 0.05996951],\n",
       "       [0.5491354 , 0.48141584, 0.76745156],\n",
       "       [0.67664054, 0.27658806, 0.32167578],\n",
       "       [0.8850517 , 0.017758  , 0.62467837],\n",
       "       [0.17521885, 0.92609973, 0.21866673],\n",
       "       [0.80664946, 0.80450406, 0.75058329],\n",
       "       [0.32780947, 0.02256362, 0.14359945],\n",
       "       [0.91231253, 0.20592898, 0.60684061],\n",
       "       [0.66411878, 0.03886924, 0.95413273],\n",
       "       [0.83368769, 0.38690526, 0.80822964],\n",
       "       [0.92608171, 0.17233456, 0.11077138],\n",
       "       [0.9913911 , 0.34972046, 0.20417225],\n",
       "       [0.68891141, 0.94929244, 0.53015965],\n",
       "       [0.47013815, 0.3625569 , 0.70680838],\n",
       "       [0.66918785, 0.93000371, 0.80363895],\n",
       "       [0.71711992, 0.25651974, 0.87862095],\n",
       "       [0.6022246 , 0.41573361, 0.51327113],\n",
       "       [0.84376879, 0.53642817, 0.8101631 ],\n",
       "       [0.43815632, 0.27150301, 0.95854768],\n",
       "       [0.5501988 , 0.46924296, 0.59387632],\n",
       "       [0.4104118 , 0.25158254, 0.91143525],\n",
       "       [0.89727188, 0.7801249 , 0.06555002]])"
      ]
     },
     "execution_count": 3,
     "metadata": {},
     "output_type": "execute_result"
    }
   ],
   "source": [
    "data = np.random.random(90).reshape(30,3)\n",
    "data"
   ]
  },
  {
   "cell_type": "code",
   "execution_count": 4,
   "id": "outdoor-mirror",
   "metadata": {},
   "outputs": [
    {
     "data": {
      "text/plain": [
       "array([[0.5491354 , 0.48141584, 0.76745156],\n",
       "       [0.32780947, 0.02256362, 0.14359945]])"
      ]
     },
     "execution_count": 4,
     "metadata": {},
     "output_type": "execute_result"
    }
   ],
   "source": [
    "c1 = np.random.choice(range(len(data)))\n",
    "c2= np.random.choice(range(len(data)))\n",
    "clust_centers = np.vstack([data[c1], data[c2]])\n",
    "clust_centers"
   ]
  },
  {
   "cell_type": "code",
   "execution_count": 7,
   "id": "enormous-desperate",
   "metadata": {},
   "outputs": [],
   "source": [
    "from scipy.cluster.vq import vq"
   ]
  },
  {
   "cell_type": "code",
   "execution_count": 9,
   "id": "adolescent-option",
   "metadata": {},
   "outputs": [
    {
     "data": {
      "text/plain": [
       "(array([0, 0, 1, 0, 1, 0, 0, 1, 1, 0, 1, 0, 0, 0, 1, 0, 0, 0, 1, 0, 0, 0,\n",
       "        0, 0, 0, 0, 0, 0, 0, 0], dtype=int32),\n",
       " array([0.2682874 , 0.69008993, 0.3036036 , 0.47161644, 0.6148633 ,\n",
       "        0.48922753, 0.57815674, 0.65204003, 0.7336951 , 0.        ,\n",
       "        0.46682192, 0.59008689, 0.79920093, 0.41350215, 0.        ,\n",
       "        0.48330789, 0.49388109, 0.30259728, 0.61760723, 0.72816026,\n",
       "        0.54291186, 0.15506646, 0.46578235, 0.30192001, 0.26784381,\n",
       "        0.30275315, 0.30479088, 0.17400481, 0.30462909, 0.83850574]))"
      ]
     },
     "execution_count": 9,
     "metadata": {},
     "output_type": "execute_result"
    }
   ],
   "source": [
    "vq(data, clust_centers)"
   ]
  },
  {
   "cell_type": "code",
   "execution_count": 10,
   "id": "designing-richardson",
   "metadata": {},
   "outputs": [],
   "source": [
    "from scipy.cluster.vq import kmeans"
   ]
  },
  {
   "cell_type": "code",
   "execution_count": 12,
   "id": "metropolitan-second",
   "metadata": {},
   "outputs": [
    {
     "data": {
      "text/plain": [
       "(array([[0.63746179, 0.46664765, 0.72918243],\n",
       "        [0.63383471, 0.46680157, 0.18160516]]),\n",
       " 0.35063492967368115)"
      ]
     },
     "execution_count": 12,
     "metadata": {},
     "output_type": "execute_result"
    }
   ],
   "source": [
    "kmeans(data, clust_centers)"
   ]
  },
  {
   "cell_type": "code",
   "execution_count": 13,
   "id": "public-commonwealth",
   "metadata": {},
   "outputs": [
    {
     "data": {
      "text/plain": [
       "(array([[0.63746179, 0.46664765, 0.72918243],\n",
       "        [0.63383471, 0.46680157, 0.18160516]]),\n",
       " 0.35063492967368115)"
      ]
     },
     "execution_count": 13,
     "metadata": {},
     "output_type": "execute_result"
    }
   ],
   "source": [
    "kmeans(data, 2)"
   ]
  },
  {
   "cell_type": "code",
   "execution_count": null,
   "id": "official-shaft",
   "metadata": {},
   "outputs": [],
   "source": []
  }
 ],
 "metadata": {
  "kernelspec": {
   "display_name": "Python 3",
   "language": "python",
   "name": "python3"
  },
  "language_info": {
   "codemirror_mode": {
    "name": "ipython",
    "version": 3
   },
   "file_extension": ".py",
   "mimetype": "text/x-python",
   "name": "python",
   "nbconvert_exporter": "python",
   "pygments_lexer": "ipython3",
   "version": "3.7.9"
  }
 },
 "nbformat": 4,
 "nbformat_minor": 5
}
