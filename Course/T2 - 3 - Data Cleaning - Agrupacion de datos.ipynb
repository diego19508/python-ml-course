{
 "cells": [
  {
   "cell_type": "markdown",
   "id": "sized-spotlight",
   "metadata": {},
   "source": [
    "# Agregacion de datos por categoria"
   ]
  },
  {
   "cell_type": "code",
   "execution_count": 16,
   "id": "wanted-framework",
   "metadata": {},
   "outputs": [],
   "source": [
    "import numpy as np\n",
    "import pandas as pd\n",
    "import math\n"
   ]
  },
  {
   "cell_type": "code",
   "execution_count": 2,
   "id": "experimental-scene",
   "metadata": {},
   "outputs": [],
   "source": [
    "gender = [\"Male\",\"Female\"]\n",
    "income = [\"Poor\",\"Middle Class\",\"Rich\"]"
   ]
  },
  {
   "cell_type": "code",
   "execution_count": 7,
   "id": "dominican-hostel",
   "metadata": {},
   "outputs": [],
   "source": [
    "n = 500\n",
    "\n",
    "gender_data = []\n",
    "income_data = []\n",
    "\n",
    "for i in range(0,500):\n",
    "    gender_data.append(np.random.choice(gender))\n",
    "    income_data.append(np.random.choice(income))"
   ]
  },
  {
   "cell_type": "code",
   "execution_count": 10,
   "id": "particular-wellington",
   "metadata": {},
   "outputs": [
    {
     "data": {
      "text/plain": [
       "['Male', 'Male', 'Female', 'Male', 'Male', 'Male', 'Male', 'Male', 'Female']"
      ]
     },
     "execution_count": 10,
     "metadata": {},
     "output_type": "execute_result"
    }
   ],
   "source": [
    "gender_data[1:10]"
   ]
  },
  {
   "cell_type": "code",
   "execution_count": 9,
   "id": "ecological-singing",
   "metadata": {},
   "outputs": [
    {
     "data": {
      "text/plain": [
       "['Rich',\n",
       " 'Poor',\n",
       " 'Rich',\n",
       " 'Middle Class',\n",
       " 'Middle Class',\n",
       " 'Middle Class',\n",
       " 'Rich',\n",
       " 'Rich',\n",
       " 'Rich']"
      ]
     },
     "execution_count": 9,
     "metadata": {},
     "output_type": "execute_result"
    }
   ],
   "source": [
    "income_data[1:10]"
   ]
  },
  {
   "cell_type": "markdown",
   "id": "abstract-oracle",
   "metadata": {},
   "source": [
    "z -> N(0,1)\n",
    "\n",
    "N(m.s) -> m + s * z"
   ]
  },
  {
   "cell_type": "code",
   "execution_count": 19,
   "id": "macro-jimmy",
   "metadata": {},
   "outputs": [],
   "source": [
    "#z -> N(0,1)\n",
    "\n",
    "#N(m.s) -> m + s * z\n",
    "\n",
    "height = 160 + 30 * np.random.randn(n)\n",
    "weight = 65 + 25 * np.random.randn(n)\n",
    "age = 30 + 12 * np.random.randn(n)\n",
    "income = 18000 + 3500 * np.random.randn(n)"
   ]
  },
  {
   "cell_type": "code",
   "execution_count": 22,
   "id": "therapeutic-panel",
   "metadata": {},
   "outputs": [],
   "source": [
    "data = pd.DataFrame(\n",
    "    {\n",
    "        \"Gender\": gender_data,\n",
    "        \"Economic Status\": income_data,\n",
    "        \"Height\": height.astype(int),\n",
    "        \"Weight\": weight.astype(int),\n",
    "        \"Age\": age.astype(int),\n",
    "        \"Income\": income\n",
    "    }\n",
    ")"
   ]
  },
  {
   "cell_type": "code",
   "execution_count": 23,
   "id": "reserved-dealing",
   "metadata": {},
   "outputs": [
    {
     "data": {
      "text/html": [
       "<div>\n",
       "<style scoped>\n",
       "    .dataframe tbody tr th:only-of-type {\n",
       "        vertical-align: middle;\n",
       "    }\n",
       "\n",
       "    .dataframe tbody tr th {\n",
       "        vertical-align: top;\n",
       "    }\n",
       "\n",
       "    .dataframe thead th {\n",
       "        text-align: right;\n",
       "    }\n",
       "</style>\n",
       "<table border=\"1\" class=\"dataframe\">\n",
       "  <thead>\n",
       "    <tr style=\"text-align: right;\">\n",
       "      <th></th>\n",
       "      <th>Gender</th>\n",
       "      <th>Economic Status</th>\n",
       "      <th>Height</th>\n",
       "      <th>Weight</th>\n",
       "      <th>Age</th>\n",
       "      <th>Income</th>\n",
       "    </tr>\n",
       "  </thead>\n",
       "  <tbody>\n",
       "    <tr>\n",
       "      <th>0</th>\n",
       "      <td>Female</td>\n",
       "      <td>Middle Class</td>\n",
       "      <td>209</td>\n",
       "      <td>80</td>\n",
       "      <td>33</td>\n",
       "      <td>19736.906669</td>\n",
       "    </tr>\n",
       "    <tr>\n",
       "      <th>1</th>\n",
       "      <td>Male</td>\n",
       "      <td>Rich</td>\n",
       "      <td>169</td>\n",
       "      <td>74</td>\n",
       "      <td>28</td>\n",
       "      <td>19422.953467</td>\n",
       "    </tr>\n",
       "    <tr>\n",
       "      <th>2</th>\n",
       "      <td>Male</td>\n",
       "      <td>Poor</td>\n",
       "      <td>173</td>\n",
       "      <td>74</td>\n",
       "      <td>34</td>\n",
       "      <td>16153.546696</td>\n",
       "    </tr>\n",
       "    <tr>\n",
       "      <th>3</th>\n",
       "      <td>Female</td>\n",
       "      <td>Rich</td>\n",
       "      <td>144</td>\n",
       "      <td>41</td>\n",
       "      <td>23</td>\n",
       "      <td>15872.800361</td>\n",
       "    </tr>\n",
       "    <tr>\n",
       "      <th>4</th>\n",
       "      <td>Male</td>\n",
       "      <td>Middle Class</td>\n",
       "      <td>183</td>\n",
       "      <td>74</td>\n",
       "      <td>35</td>\n",
       "      <td>21716.649709</td>\n",
       "    </tr>\n",
       "  </tbody>\n",
       "</table>\n",
       "</div>"
      ],
      "text/plain": [
       "   Gender Economic Status  Height  Weight  Age        Income\n",
       "0  Female    Middle Class     209      80   33  19736.906669\n",
       "1    Male            Rich     169      74   28  19422.953467\n",
       "2    Male            Poor     173      74   34  16153.546696\n",
       "3  Female            Rich     144      41   23  15872.800361\n",
       "4    Male    Middle Class     183      74   35  21716.649709"
      ]
     },
     "execution_count": 23,
     "metadata": {},
     "output_type": "execute_result"
    }
   ],
   "source": [
    "data.head()"
   ]
  },
  {
   "cell_type": "markdown",
   "id": "varying-midwest",
   "metadata": {},
   "source": [
    "## Agrupacion de datos"
   ]
  },
  {
   "cell_type": "code",
   "execution_count": 25,
   "id": "better-zoning",
   "metadata": {},
   "outputs": [],
   "source": [
    "grouped_gender = data.groupby(\"Gender\")"
   ]
  },
  {
   "cell_type": "code",
   "execution_count": 31,
   "id": "italic-jesus",
   "metadata": {},
   "outputs": [
    {
     "data": {
      "text/plain": [
       "{'Female': [0, 3, 9, 11, 13, 15, 16, 18, 19, 20, 26, 28, 30, 31, 32, 33, 34, 35, 39, 43, 45, 46, 47, 48, 49, 50, 51, 52, 53, 54, 55, 57, 60, 63, 65, 71, 72, 73, 76, 79, 80, 81, 91, 92, 94, 100, 101, 106, 107, 108, 109, 110, 111, 112, 115, 116, 117, 121, 122, 124, 126, 127, 131, 133, 137, 138, 139, 141, 142, 144, 148, 149, 150, 152, 153, 154, 155, 157, 159, 160, 163, 165, 166, 172, 173, 177, 181, 184, 186, 187, 188, 189, 191, 194, 196, 199, 200, 203, 204, 205, ...], 'Male': [1, 2, 4, 5, 6, 7, 8, 10, 12, 14, 17, 21, 22, 23, 24, 25, 27, 29, 36, 37, 38, 40, 41, 42, 44, 56, 58, 59, 61, 62, 64, 66, 67, 68, 69, 70, 74, 75, 77, 78, 82, 83, 84, 85, 86, 87, 88, 89, 90, 93, 95, 96, 97, 98, 99, 102, 103, 104, 105, 113, 114, 118, 119, 120, 123, 125, 128, 129, 130, 132, 134, 135, 136, 140, 143, 145, 146, 147, 151, 156, 158, 161, 162, 164, 167, 168, 169, 170, 171, 174, 175, 176, 178, 179, 180, 182, 183, 185, 190, 192, ...]}"
      ]
     },
     "execution_count": 31,
     "metadata": {},
     "output_type": "execute_result"
    }
   ],
   "source": [
    "grouped_gender.groups\n"
   ]
  },
  {
   "cell_type": "code",
   "execution_count": 32,
   "id": "neither-movie",
   "metadata": {},
   "outputs": [
    {
     "name": "stdout",
     "output_type": "stream",
     "text": [
      "Female\n",
      "     Gender Economic Status  Height  Weight  Age        Income\n",
      "0    Female    Middle Class     209      80   33  19736.906669\n",
      "3    Female            Rich     144      41   23  15872.800361\n",
      "9    Female            Rich     106      77   13  21585.943600\n",
      "11   Female            Poor     224       0    5  15683.309168\n",
      "13   Female            Rich     174      86   57  19211.823641\n",
      "..      ...             ...     ...     ...  ...           ...\n",
      "489  Female    Middle Class     160     104   16  13823.415219\n",
      "491  Female            Rich     110      65   52  22589.702187\n",
      "492  Female            Poor     142      96   20  18981.963244\n",
      "495  Female            Poor     169      59   41  19624.296511\n",
      "497  Female            Poor     176      76   41  22903.989250\n",
      "\n",
      "[240 rows x 6 columns]\n",
      "Male\n",
      "    Gender Economic Status  Height  Weight  Age        Income\n",
      "1     Male            Rich     169      74   28  19422.953467\n",
      "2     Male            Poor     173      74   34  16153.546696\n",
      "4     Male    Middle Class     183      74   35  21716.649709\n",
      "5     Male    Middle Class     138      89   16  12654.501905\n",
      "6     Male    Middle Class     148      65   40  18067.814873\n",
      "..     ...             ...     ...     ...  ...           ...\n",
      "493   Male    Middle Class     112      57   27  15917.317667\n",
      "494   Male    Middle Class     179      93   36  12962.962584\n",
      "496   Male            Poor     171      29   21  17185.745862\n",
      "498   Male            Rich     131      83   31  20117.058994\n",
      "499   Male            Rich     209      63   46  25717.981985\n",
      "\n",
      "[260 rows x 6 columns]\n"
     ]
    }
   ],
   "source": [
    "for names, groups in grouped_gender:\n",
    "    print(names)\n",
    "    print(groups)"
   ]
  },
  {
   "cell_type": "code",
   "execution_count": 34,
   "id": "instructional-syndicate",
   "metadata": {},
   "outputs": [
    {
     "data": {
      "text/html": [
       "<div>\n",
       "<style scoped>\n",
       "    .dataframe tbody tr th:only-of-type {\n",
       "        vertical-align: middle;\n",
       "    }\n",
       "\n",
       "    .dataframe tbody tr th {\n",
       "        vertical-align: top;\n",
       "    }\n",
       "\n",
       "    .dataframe thead th {\n",
       "        text-align: right;\n",
       "    }\n",
       "</style>\n",
       "<table border=\"1\" class=\"dataframe\">\n",
       "  <thead>\n",
       "    <tr style=\"text-align: right;\">\n",
       "      <th></th>\n",
       "      <th>Gender</th>\n",
       "      <th>Economic Status</th>\n",
       "      <th>Height</th>\n",
       "      <th>Weight</th>\n",
       "      <th>Age</th>\n",
       "      <th>Income</th>\n",
       "    </tr>\n",
       "  </thead>\n",
       "  <tbody>\n",
       "    <tr>\n",
       "      <th>0</th>\n",
       "      <td>Female</td>\n",
       "      <td>Middle Class</td>\n",
       "      <td>209</td>\n",
       "      <td>80</td>\n",
       "      <td>33</td>\n",
       "      <td>19736.906669</td>\n",
       "    </tr>\n",
       "    <tr>\n",
       "      <th>3</th>\n",
       "      <td>Female</td>\n",
       "      <td>Rich</td>\n",
       "      <td>144</td>\n",
       "      <td>41</td>\n",
       "      <td>23</td>\n",
       "      <td>15872.800361</td>\n",
       "    </tr>\n",
       "    <tr>\n",
       "      <th>9</th>\n",
       "      <td>Female</td>\n",
       "      <td>Rich</td>\n",
       "      <td>106</td>\n",
       "      <td>77</td>\n",
       "      <td>13</td>\n",
       "      <td>21585.943600</td>\n",
       "    </tr>\n",
       "    <tr>\n",
       "      <th>11</th>\n",
       "      <td>Female</td>\n",
       "      <td>Poor</td>\n",
       "      <td>224</td>\n",
       "      <td>0</td>\n",
       "      <td>5</td>\n",
       "      <td>15683.309168</td>\n",
       "    </tr>\n",
       "    <tr>\n",
       "      <th>13</th>\n",
       "      <td>Female</td>\n",
       "      <td>Rich</td>\n",
       "      <td>174</td>\n",
       "      <td>86</td>\n",
       "      <td>57</td>\n",
       "      <td>19211.823641</td>\n",
       "    </tr>\n",
       "    <tr>\n",
       "      <th>15</th>\n",
       "      <td>Female</td>\n",
       "      <td>Middle Class</td>\n",
       "      <td>116</td>\n",
       "      <td>94</td>\n",
       "      <td>43</td>\n",
       "      <td>19261.490097</td>\n",
       "    </tr>\n",
       "    <tr>\n",
       "      <th>16</th>\n",
       "      <td>Female</td>\n",
       "      <td>Middle Class</td>\n",
       "      <td>152</td>\n",
       "      <td>89</td>\n",
       "      <td>40</td>\n",
       "      <td>12658.834097</td>\n",
       "    </tr>\n",
       "    <tr>\n",
       "      <th>18</th>\n",
       "      <td>Female</td>\n",
       "      <td>Poor</td>\n",
       "      <td>131</td>\n",
       "      <td>65</td>\n",
       "      <td>24</td>\n",
       "      <td>12504.813917</td>\n",
       "    </tr>\n",
       "    <tr>\n",
       "      <th>19</th>\n",
       "      <td>Female</td>\n",
       "      <td>Poor</td>\n",
       "      <td>157</td>\n",
       "      <td>31</td>\n",
       "      <td>38</td>\n",
       "      <td>18127.252513</td>\n",
       "    </tr>\n",
       "    <tr>\n",
       "      <th>20</th>\n",
       "      <td>Female</td>\n",
       "      <td>Middle Class</td>\n",
       "      <td>139</td>\n",
       "      <td>97</td>\n",
       "      <td>39</td>\n",
       "      <td>14954.185817</td>\n",
       "    </tr>\n",
       "  </tbody>\n",
       "</table>\n",
       "</div>"
      ],
      "text/plain": [
       "    Gender Economic Status  Height  Weight  Age        Income\n",
       "0   Female    Middle Class     209      80   33  19736.906669\n",
       "3   Female            Rich     144      41   23  15872.800361\n",
       "9   Female            Rich     106      77   13  21585.943600\n",
       "11  Female            Poor     224       0    5  15683.309168\n",
       "13  Female            Rich     174      86   57  19211.823641\n",
       "15  Female    Middle Class     116      94   43  19261.490097\n",
       "16  Female    Middle Class     152      89   40  12658.834097\n",
       "18  Female            Poor     131      65   24  12504.813917\n",
       "19  Female            Poor     157      31   38  18127.252513\n",
       "20  Female    Middle Class     139      97   39  14954.185817"
      ]
     },
     "execution_count": 34,
     "metadata": {},
     "output_type": "execute_result"
    }
   ],
   "source": [
    "grouped_gender.get_group(\"Female\").head(10)"
   ]
  },
  {
   "cell_type": "code",
   "execution_count": 35,
   "id": "fifth-shipping",
   "metadata": {},
   "outputs": [],
   "source": [
    "double_group = data.groupby([\"Gender\",\"Economic Status\"])"
   ]
  },
  {
   "cell_type": "code",
   "execution_count": 36,
   "id": "bottom-strain",
   "metadata": {},
   "outputs": [
    {
     "data": {
      "text/plain": [
       "6"
      ]
     },
     "execution_count": 36,
     "metadata": {},
     "output_type": "execute_result"
    }
   ],
   "source": [
    "len(double_group)"
   ]
  },
  {
   "cell_type": "code",
   "execution_count": 37,
   "id": "medical-particle",
   "metadata": {},
   "outputs": [
    {
     "name": "stdout",
     "output_type": "stream",
     "text": [
      "('Female', 'Middle Class')\n",
      "     Gender Economic Status  Height  Weight  Age        Income\n",
      "0    Female    Middle Class     209      80   33  19736.906669\n",
      "15   Female    Middle Class     116      94   43  19261.490097\n",
      "16   Female    Middle Class     152      89   40  12658.834097\n",
      "20   Female    Middle Class     139      97   39  14954.185817\n",
      "28   Female    Middle Class     154      75   15  13321.775720\n",
      "..      ...             ...     ...     ...  ...           ...\n",
      "466  Female    Middle Class     176      80   35  23655.420941\n",
      "468  Female    Middle Class     202      53   48  17756.927093\n",
      "472  Female    Middle Class     185      66   44  11341.464383\n",
      "477  Female    Middle Class     210      11   30  18303.342465\n",
      "489  Female    Middle Class     160     104   16  13823.415219\n",
      "\n",
      "[87 rows x 6 columns]\n",
      "('Female', 'Poor')\n",
      "     Gender Economic Status  Height  Weight  Age        Income\n",
      "11   Female            Poor     224       0    5  15683.309168\n",
      "18   Female            Poor     131      65   24  12504.813917\n",
      "19   Female            Poor     157      31   38  18127.252513\n",
      "26   Female            Poor     138      15   30  14054.228770\n",
      "30   Female            Poor     127     138   45  12575.548928\n",
      "..      ...             ...     ...     ...  ...           ...\n",
      "483  Female            Poor     163      84   40  16498.273664\n",
      "487  Female            Poor     198      74   13  13452.647891\n",
      "492  Female            Poor     142      96   20  18981.963244\n",
      "495  Female            Poor     169      59   41  19624.296511\n",
      "497  Female            Poor     176      76   41  22903.989250\n",
      "\n",
      "[73 rows x 6 columns]\n",
      "('Female', 'Rich')\n",
      "     Gender Economic Status  Height  Weight  Age        Income\n",
      "3    Female            Rich     144      41   23  15872.800361\n",
      "9    Female            Rich     106      77   13  21585.943600\n",
      "13   Female            Rich     174      86   57  19211.823641\n",
      "32   Female            Rich     187      31   53  14468.672069\n",
      "39   Female            Rich     122      81   33  16425.197793\n",
      "..      ...             ...     ...     ...  ...           ...\n",
      "462  Female            Rich     174      93   40  20145.881973\n",
      "465  Female            Rich     208      74   28  19272.810313\n",
      "476  Female            Rich     161     110   26  20436.117026\n",
      "479  Female            Rich     209      88    1  22558.769883\n",
      "491  Female            Rich     110      65   52  22589.702187\n",
      "\n",
      "[80 rows x 6 columns]\n",
      "('Male', 'Middle Class')\n",
      "    Gender Economic Status  Height  Weight  Age        Income\n",
      "4     Male    Middle Class     183      74   35  21716.649709\n",
      "5     Male    Middle Class     138      89   16  12654.501905\n",
      "6     Male    Middle Class     148      65   40  18067.814873\n",
      "10    Male    Middle Class     133      28   26  16605.146565\n",
      "12    Male    Middle Class     159      67   41  18303.133600\n",
      "..     ...             ...     ...     ...  ...           ...\n",
      "475   Male    Middle Class     172      83   24  14423.673770\n",
      "482   Male    Middle Class     149      38   31  17082.282219\n",
      "490   Male    Middle Class     154      66   24  19282.784512\n",
      "493   Male    Middle Class     112      57   27  15917.317667\n",
      "494   Male    Middle Class     179      93   36  12962.962584\n",
      "\n",
      "[88 rows x 6 columns]\n",
      "('Male', 'Poor')\n",
      "    Gender Economic Status  Height  Weight  Age        Income\n",
      "2     Male            Poor     173      74   34  16153.546696\n",
      "14    Male            Poor     149      33   25  16990.703566\n",
      "22    Male            Poor     155     111   32  17263.588053\n",
      "37    Male            Poor     163      74   20  14618.615693\n",
      "38    Male            Poor     131      87    3  18795.890100\n",
      "..     ...             ...     ...     ...  ...           ...\n",
      "481   Male            Poor      92      40    0  17660.598552\n",
      "484   Male            Poor     182      70    9  22427.792298\n",
      "485   Male            Poor     140     125   25  18131.729759\n",
      "486   Male            Poor     232      57   28  23935.703345\n",
      "496   Male            Poor     171      29   21  17185.745862\n",
      "\n",
      "[80 rows x 6 columns]\n",
      "('Male', 'Rich')\n",
      "    Gender Economic Status  Height  Weight  Age        Income\n",
      "1     Male            Rich     169      74   28  19422.953467\n",
      "7     Male            Rich     136      88   28  20476.754120\n",
      "8     Male            Rich     104      40   44  18444.713117\n",
      "17    Male            Rich     148      52   12  23905.961599\n",
      "21    Male            Rich     126      64   23  16953.920844\n",
      "..     ...             ...     ...     ...  ...           ...\n",
      "471   Male            Rich     171      27   39  21377.101762\n",
      "478   Male            Rich     157      82   35  19284.625920\n",
      "488   Male            Rich     201      72   51  11869.091007\n",
      "498   Male            Rich     131      83   31  20117.058994\n",
      "499   Male            Rich     209      63   46  25717.981985\n",
      "\n",
      "[92 rows x 6 columns]\n"
     ]
    }
   ],
   "source": [
    "for names, groups in double_group:\n",
    "    print(names)\n",
    "    print(groups)"
   ]
  },
  {
   "cell_type": "code",
   "execution_count": null,
   "id": "still-seventh",
   "metadata": {},
   "outputs": [],
   "source": []
  }
 ],
 "metadata": {
  "kernelspec": {
   "display_name": "Python 3",
   "language": "python",
   "name": "python3"
  },
  "language_info": {
   "codemirror_mode": {
    "name": "ipython",
    "version": 3
   },
   "file_extension": ".py",
   "mimetype": "text/x-python",
   "name": "python",
   "nbconvert_exporter": "python",
   "pygments_lexer": "ipython3",
   "version": "3.7.9"
  }
 },
 "nbformat": 4,
 "nbformat_minor": 5
}
