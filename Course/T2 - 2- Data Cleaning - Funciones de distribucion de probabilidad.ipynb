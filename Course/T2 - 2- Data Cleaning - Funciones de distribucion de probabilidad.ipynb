{
 "cells": [
  {
   "cell_type": "markdown",
   "id": "strong-henry",
   "metadata": {},
   "source": [
    "# Funciones de distribucion de probabilidades"
   ]
  },
  {
   "cell_type": "markdown",
   "id": "controlling-ethernet",
   "metadata": {},
   "source": [
    "### Distribucion Uniforme\n"
   ]
  },
  {
   "cell_type": "code",
   "execution_count": 3,
   "id": "reserved-guyana",
   "metadata": {},
   "outputs": [],
   "source": [
    "import numpy as np\n",
    "import matplotlib.pyplot as plt"
   ]
  },
  {
   "cell_type": "code",
   "execution_count": 22,
   "id": "opened-willow",
   "metadata": {},
   "outputs": [],
   "source": [
    "a = 1\n",
    "\n",
    "b = 100\n",
    "\n",
    "n = 1000000\n",
    "\n",
    "data = np.random.uniform(a,b,n)"
   ]
  },
  {
   "cell_type": "code",
   "execution_count": 23,
   "id": "destroyed-exchange",
   "metadata": {},
   "outputs": [
    {
     "data": {
      "text/plain": [
       "(array([ 99695.,  99975., 100061.,  99882., 100451.,  99350., 100299.,\n",
       "         99988.,  99767., 100532.]),\n",
       " array([ 1.00016063, 10.90014214, 20.80012365, 30.70010516, 40.60008667,\n",
       "        50.50006819, 60.4000497 , 70.30003121, 80.20001272, 90.09999423,\n",
       "        99.99997574]),\n",
       " <BarContainer object of 10 artists>)"
      ]
     },
     "execution_count": 23,
     "metadata": {},
     "output_type": "execute_result"
    },
    {
     "data": {
      "image/png": "[encoded data removed]",
      "text/plain": [
       "<Figure size 432x288 with 1 Axes>"
      ]
     },
     "metadata": {
      "needs_background": "light"
     },
     "output_type": "display_data"
    }
   ],
   "source": [
    "%matplotlib inline\n",
    "plt.hist(data)"
   ]
  },
  {
   "cell_type": "markdown",
   "id": "combined-specific",
   "metadata": {},
   "source": [
    "### Distribucion Normal"
   ]
  },
  {
   "cell_type": "code",
   "execution_count": null,
   "id": "active-indicator",
   "metadata": {},
   "outputs": [],
   "source": []
  }
 ],
 "metadata": {
  "kernelspec": {
   "display_name": "Python 3",
   "language": "python",
   "name": "python3"
  },
  "language_info": {
   "codemirror_mode": {
    "name": "ipython",
    "version": 3
   },
   "file_extension": ".py",
   "mimetype": "text/x-python",
   "name": "python",
   "nbconvert_exporter": "python",
   "pygments_lexer": "ipython3",
   "version": "3.7.9"
  }
 },
 "nbformat": 4,
 "nbformat_minor": 5
}
