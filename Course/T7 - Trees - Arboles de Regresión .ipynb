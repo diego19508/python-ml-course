{
 "cells": [
  {
   "cell_type": "markdown",
   "id": "careful-avatar",
   "metadata": {},
   "source": [
    "# Arboles de Regresion"
   ]
  },
  {
   "cell_type": "code",
   "execution_count": 1,
   "id": "ancient-ballet",
   "metadata": {},
   "outputs": [],
   "source": [
    "import pandas as pd"
   ]
  },
  {
   "cell_type": "code",
   "execution_count": 2,
   "id": "occupational-hughes",
   "metadata": {},
   "outputs": [],
   "source": [
    "data = pd.read_csv(\"../datasets/boston/Boston.csv\")"
   ]
  },
  {
   "cell_type": "code",
   "execution_count": 3,
   "id": "improved-angel",
   "metadata": {},
   "outputs": [
    {
     "data": {
      "text/html": [
       "<div>\n",
       "<style scoped>\n",
       "    .dataframe tbody tr th:only-of-type {\n",
       "        vertical-align: middle;\n",
       "    }\n",
       "\n",
       "    .dataframe tbody tr th {\n",
       "        vertical-align: top;\n",
       "    }\n",
       "\n",
       "    .dataframe thead th {\n",
       "        text-align: right;\n",
       "    }\n",
       "</style>\n",
       "<table border=\"1\" class=\"dataframe\">\n",
       "  <thead>\n",
       "    <tr style=\"text-align: right;\">\n",
       "      <th></th>\n",
       "      <th>crim</th>\n",
       "      <th>zn</th>\n",
       "      <th>indus</th>\n",
       "      <th>chas</th>\n",
       "      <th>nox</th>\n",
       "      <th>rm</th>\n",
       "      <th>age</th>\n",
       "      <th>dis</th>\n",
       "      <th>rad</th>\n",
       "      <th>tax</th>\n",
       "      <th>ptratio</th>\n",
       "      <th>black</th>\n",
       "      <th>lstat</th>\n",
       "      <th>medv</th>\n",
       "    </tr>\n",
       "  </thead>\n",
       "  <tbody>\n",
       "    <tr>\n",
       "      <th>0</th>\n",
       "      <td>0.00632</td>\n",
       "      <td>18.0</td>\n",
       "      <td>2.31</td>\n",
       "      <td>0</td>\n",
       "      <td>0.538</td>\n",
       "      <td>6.575</td>\n",
       "      <td>65.2</td>\n",
       "      <td>4.0900</td>\n",
       "      <td>1</td>\n",
       "      <td>296</td>\n",
       "      <td>15.3</td>\n",
       "      <td>396.90</td>\n",
       "      <td>4.98</td>\n",
       "      <td>24.0</td>\n",
       "    </tr>\n",
       "    <tr>\n",
       "      <th>1</th>\n",
       "      <td>0.02731</td>\n",
       "      <td>0.0</td>\n",
       "      <td>7.07</td>\n",
       "      <td>0</td>\n",
       "      <td>0.469</td>\n",
       "      <td>6.421</td>\n",
       "      <td>78.9</td>\n",
       "      <td>4.9671</td>\n",
       "      <td>2</td>\n",
       "      <td>242</td>\n",
       "      <td>17.8</td>\n",
       "      <td>396.90</td>\n",
       "      <td>9.14</td>\n",
       "      <td>21.6</td>\n",
       "    </tr>\n",
       "    <tr>\n",
       "      <th>2</th>\n",
       "      <td>0.02729</td>\n",
       "      <td>0.0</td>\n",
       "      <td>7.07</td>\n",
       "      <td>0</td>\n",
       "      <td>0.469</td>\n",
       "      <td>7.185</td>\n",
       "      <td>61.1</td>\n",
       "      <td>4.9671</td>\n",
       "      <td>2</td>\n",
       "      <td>242</td>\n",
       "      <td>17.8</td>\n",
       "      <td>392.83</td>\n",
       "      <td>4.03</td>\n",
       "      <td>34.7</td>\n",
       "    </tr>\n",
       "    <tr>\n",
       "      <th>3</th>\n",
       "      <td>0.03237</td>\n",
       "      <td>0.0</td>\n",
       "      <td>2.18</td>\n",
       "      <td>0</td>\n",
       "      <td>0.458</td>\n",
       "      <td>6.998</td>\n",
       "      <td>45.8</td>\n",
       "      <td>6.0622</td>\n",
       "      <td>3</td>\n",
       "      <td>222</td>\n",
       "      <td>18.7</td>\n",
       "      <td>394.63</td>\n",
       "      <td>2.94</td>\n",
       "      <td>33.4</td>\n",
       "    </tr>\n",
       "    <tr>\n",
       "      <th>4</th>\n",
       "      <td>0.06905</td>\n",
       "      <td>0.0</td>\n",
       "      <td>2.18</td>\n",
       "      <td>0</td>\n",
       "      <td>0.458</td>\n",
       "      <td>7.147</td>\n",
       "      <td>54.2</td>\n",
       "      <td>6.0622</td>\n",
       "      <td>3</td>\n",
       "      <td>222</td>\n",
       "      <td>18.7</td>\n",
       "      <td>396.90</td>\n",
       "      <td>5.33</td>\n",
       "      <td>36.2</td>\n",
       "    </tr>\n",
       "  </tbody>\n",
       "</table>\n",
       "</div>"
      ],
      "text/plain": [
       "      crim    zn  indus  chas    nox     rm   age     dis  rad  tax  ptratio  \\\n",
       "0  0.00632  18.0   2.31     0  0.538  6.575  65.2  4.0900    1  296     15.3   \n",
       "1  0.02731   0.0   7.07     0  0.469  6.421  78.9  4.9671    2  242     17.8   \n",
       "2  0.02729   0.0   7.07     0  0.469  7.185  61.1  4.9671    2  242     17.8   \n",
       "3  0.03237   0.0   2.18     0  0.458  6.998  45.8  6.0622    3  222     18.7   \n",
       "4  0.06905   0.0   2.18     0  0.458  7.147  54.2  6.0622    3  222     18.7   \n",
       "\n",
       "    black  lstat  medv  \n",
       "0  396.90   4.98  24.0  \n",
       "1  396.90   9.14  21.6  \n",
       "2  392.83   4.03  34.7  \n",
       "3  394.63   2.94  33.4  \n",
       "4  396.90   5.33  36.2  "
      ]
     },
     "execution_count": 3,
     "metadata": {},
     "output_type": "execute_result"
    }
   ],
   "source": [
    "data.head()"
   ]
  },
  {
   "cell_type": "code",
   "execution_count": 4,
   "id": "developmental-nebraska",
   "metadata": {},
   "outputs": [
    {
     "data": {
      "text/plain": [
       "(506, 14)"
      ]
     },
     "execution_count": 4,
     "metadata": {},
     "output_type": "execute_result"
    }
   ],
   "source": [
    "data.shape"
   ]
  },
  {
   "cell_type": "code",
   "execution_count": 5,
   "id": "fancy-street",
   "metadata": {},
   "outputs": [],
   "source": [
    "colnames = data.columns.values.tolist()\n",
    "predictors = colnames[:13]\n",
    "target = colnames [13]\n",
    "X = data[predictors]\n",
    "Y = data[target]"
   ]
  },
  {
   "cell_type": "code",
   "execution_count": 6,
   "id": "close-crown",
   "metadata": {},
   "outputs": [],
   "source": [
    "from sklearn.tree import DecisionTreeRegressor"
   ]
  },
  {
   "cell_type": "code",
   "execution_count": 7,
   "id": "plastic-zoning",
   "metadata": {},
   "outputs": [],
   "source": [
    "regtree = DecisionTreeRegressor(min_samples_split=30, min_samples_leaf=10, random_state=0)"
   ]
  },
  {
   "cell_type": "code",
   "execution_count": 8,
   "id": "timely-victor",
   "metadata": {},
   "outputs": [
    {
     "data": {
      "text/plain": [
       "DecisionTreeRegressor(min_samples_leaf=10, min_samples_split=30, random_state=0)"
      ]
     },
     "execution_count": 8,
     "metadata": {},
     "output_type": "execute_result"
    }
   ],
   "source": [
    "regtree.fit(X,Y)"
   ]
  },
  {
   "cell_type": "code",
   "execution_count": 9,
   "id": "aquatic-architecture",
   "metadata": {},
   "outputs": [],
   "source": [
    "preds = regtree.predict(data[predictors])"
   ]
  },
  {
   "cell_type": "code",
   "execution_count": 10,
   "id": "defensive-battlefield",
   "metadata": {},
   "outputs": [],
   "source": [
    "data[\"preds\"] = preds"
   ]
  },
  {
   "cell_type": "code",
   "execution_count": 11,
   "id": "existing-absorption",
   "metadata": {},
   "outputs": [
    {
     "data": {
      "text/html": [
       "<div>\n",
       "<style scoped>\n",
       "    .dataframe tbody tr th:only-of-type {\n",
       "        vertical-align: middle;\n",
       "    }\n",
       "\n",
       "    .dataframe tbody tr th {\n",
       "        vertical-align: top;\n",
       "    }\n",
       "\n",
       "    .dataframe thead th {\n",
       "        text-align: right;\n",
       "    }\n",
       "</style>\n",
       "<table border=\"1\" class=\"dataframe\">\n",
       "  <thead>\n",
       "    <tr style=\"text-align: right;\">\n",
       "      <th></th>\n",
       "      <th>preds</th>\n",
       "      <th>medv</th>\n",
       "    </tr>\n",
       "  </thead>\n",
       "  <tbody>\n",
       "    <tr>\n",
       "      <th>0</th>\n",
       "      <td>22.840000</td>\n",
       "      <td>24.0</td>\n",
       "    </tr>\n",
       "    <tr>\n",
       "      <th>1</th>\n",
       "      <td>22.840000</td>\n",
       "      <td>21.6</td>\n",
       "    </tr>\n",
       "    <tr>\n",
       "      <th>2</th>\n",
       "      <td>35.247826</td>\n",
       "      <td>34.7</td>\n",
       "    </tr>\n",
       "    <tr>\n",
       "      <th>3</th>\n",
       "      <td>35.247826</td>\n",
       "      <td>33.4</td>\n",
       "    </tr>\n",
       "    <tr>\n",
       "      <th>4</th>\n",
       "      <td>35.247826</td>\n",
       "      <td>36.2</td>\n",
       "    </tr>\n",
       "    <tr>\n",
       "      <th>...</th>\n",
       "      <td>...</td>\n",
       "      <td>...</td>\n",
       "    </tr>\n",
       "    <tr>\n",
       "      <th>501</th>\n",
       "      <td>22.840000</td>\n",
       "      <td>22.4</td>\n",
       "    </tr>\n",
       "    <tr>\n",
       "      <th>502</th>\n",
       "      <td>20.624138</td>\n",
       "      <td>20.6</td>\n",
       "    </tr>\n",
       "    <tr>\n",
       "      <th>503</th>\n",
       "      <td>28.978261</td>\n",
       "      <td>23.9</td>\n",
       "    </tr>\n",
       "    <tr>\n",
       "      <th>504</th>\n",
       "      <td>31.170000</td>\n",
       "      <td>22.0</td>\n",
       "    </tr>\n",
       "    <tr>\n",
       "      <th>505</th>\n",
       "      <td>20.624138</td>\n",
       "      <td>11.9</td>\n",
       "    </tr>\n",
       "  </tbody>\n",
       "</table>\n",
       "<p>506 rows × 2 columns</p>\n",
       "</div>"
      ],
      "text/plain": [
       "         preds  medv\n",
       "0    22.840000  24.0\n",
       "1    22.840000  21.6\n",
       "2    35.247826  34.7\n",
       "3    35.247826  33.4\n",
       "4    35.247826  36.2\n",
       "..         ...   ...\n",
       "501  22.840000  22.4\n",
       "502  20.624138  20.6\n",
       "503  28.978261  23.9\n",
       "504  31.170000  22.0\n",
       "505  20.624138  11.9\n",
       "\n",
       "[506 rows x 2 columns]"
      ]
     },
     "execution_count": 11,
     "metadata": {},
     "output_type": "execute_result"
    }
   ],
   "source": [
    "data[['preds', 'medv']]"
   ]
  },
  {
   "cell_type": "code",
   "execution_count": 12,
   "id": "anticipated-configuration",
   "metadata": {},
   "outputs": [],
   "source": [
    "from sklearn.model_selection import KFold\n",
    "from sklearn.model_selection import cross_val_score\n",
    "import numpy as np"
   ]
  },
  {
   "cell_type": "code",
   "execution_count": 13,
   "id": "corresponding-webmaster",
   "metadata": {},
   "outputs": [
    {
     "name": "stdout",
     "output_type": "stream",
     "text": [
      "[-9.65519849e-01 -1.22500000e+01 -1.27417958e+01 -2.03062500e+00\n",
      " -1.19008264e+00 -1.68100000e+01 -1.48833518e+01 -3.04073469e+01\n",
      " -1.30561778e+01 -7.70878893e+00 -1.37573554e+01 -1.47617729e-01\n",
      " -2.56000000e+00 -2.23238754e+00 -7.96213018e-01 -4.49605540e+01\n",
      " -2.33841327e+01 -2.57293817e+01 -1.58040816e+00 -3.39432892e-01\n",
      " -1.40892985e+01 -9.16438017e+00 -5.10575207e+01 -9.50625000e-01\n",
      " -7.20711634e+01 -6.81790123e-02 -3.19470699e-01 -8.43321600e+00\n",
      " -4.26636147e+00 -1.24163265e+00 -2.90260631e-02 -2.51843100e+00\n",
      " -2.57293817e+01 -1.96000000e+00 -1.23201000e+01 -8.70250000e+00\n",
      " -5.75069444e-01 -9.90929752e-01 -1.45852071e+00 -1.13140496e-01\n",
      " -1.91873800e+00 -2.83798347e+01 -8.79251418e+00 -5.98941399e-01\n",
      " -5.15017301e-01 -2.11834793e+02 -2.57293817e+01 -1.67474048e+00\n",
      " -1.93181179e+01 -2.90309172e+00 -7.38037190e-01 -1.35424000e+01\n",
      " -3.69200907e+01 -5.70958449e+00 -3.84400000e+01 -3.24000000e+00\n",
      " -4.67758291e+01 -2.33653061e+00 -4.33396694e+00 -1.09812247e+01\n",
      " -8.65051903e+00 -4.71909263e-01 -4.41000000e+00 -5.41619835e+00\n",
      " -2.04907111e+01 -3.70104308e+00 -1.23467420e+01 -4.02647934e+01\n",
      " -7.52667297e+00 -1.51678670e+00 -1.58040816e+00 -6.67361111e+00\n",
      " -1.51689751e-01 -2.05627367e+01 -3.05221453e+00 -1.61983471e-02\n",
      " -5.83705600e+02 -4.54603316e+00 -5.91500826e+01 -4.11510204e+00\n",
      " -2.30589849e+00 -1.52100000e+01 -1.32231405e-01 -2.66794707e+01\n",
      " -1.15363512e+00 -7.56900000e+01 -9.53494810e-01 -1.75600907e-01\n",
      " -4.13965976e+00 -2.63160494e+00 -6.22885207e+01 -2.57293817e+01\n",
      " -3.48100000e+01 -1.14244000e+01 -1.02400000e+01 -1.77451563e+01\n",
      " -9.49113905e+00 -6.04581315e+00 -9.41854935e-02 -5.16528926e-04\n",
      " -3.54875510e+01 -2.44830450e+00 -1.65306122e+00 -8.88979592e-01\n",
      " -1.02800391e+01 -1.89035917e-01 -1.93914413e+01 -1.57609000e+01\n",
      " -4.54276000e+01 -6.26162571e-01 -2.72819263e+00 -8.89123967e+00\n",
      " -9.84994083e+00 -2.13696074e+01 -5.38889463e+01 -1.17877551e+00\n",
      " -3.41775148e-01 -2.50035156e+00 -1.32231405e-01 -2.57293817e+01\n",
      " -2.56000000e+00 -1.07183391e+00 -2.73143767e+01 -4.29619835e+00\n",
      " -3.96199546e+00 -8.91136000e-01 -1.07312723e+01 -6.25000000e-04\n",
      " -1.51580444e+01 -5.98941399e-01 -9.24160000e-02 -1.76765406e+01\n",
      " -4.84000000e+00 -6.63061224e-01 -1.22500000e+01 -5.54347934e+01\n",
      " -4.48317580e-01 -8.57318400e+00 -3.00228419e+01 -3.77242335e+02\n",
      " -6.25000000e-04 -1.71901235e+00 -2.95368620e-01 -8.25256198e+00\n",
      " -1.04091136e+01 -1.44943367e+01 -1.75600907e-01 -2.78600378e+01\n",
      " -1.41920605e+00 -6.48551111e+00 -2.54107645e+01 -2.28733459e-01\n",
      " -5.38903061e-02 -1.76034972e+01 -7.08378698e+00 -6.48448753e-01\n",
      " -1.16964000e+01 -4.39002268e-02 -2.08809263e+01 -5.07228733e+00\n",
      " -1.79929845e+00 -5.75834495e+02 -1.21958412e+00 -8.65051903e-02\n",
      " -3.02457467e-04 -2.17562500e+00 -4.39002268e-02 -2.97025000e+01\n",
      " -4.16160000e+00 -3.96199546e+00 -3.04661157e+00 -6.69234405e+00\n",
      " -7.43906250e-01 -7.41514793e+00 -1.43021488e+01 -7.02403628e-01\n",
      " -2.44809830e+01 -3.28249135e+00 -2.57293817e+01 -8.16326531e-02\n",
      " -5.52544444e+01 -1.16401384e+01 -3.82148760e-01 -1.90942149e+00\n",
      " -3.88653061e+00 -1.22967111e+01 -3.43339100e+00 -1.04815232e+02\n",
      " -1.12511480e+00 -2.50000000e-03 -3.07011342e+00 -2.53340278e+00\n",
      " -6.43890625e+00 -2.13558368e+02 -8.16441327e+01 -3.68228306e+01\n",
      " -8.16558678e+01 -3.97147959e+00 -2.57293817e+01 -4.04412100e+02\n",
      " -1.73056000e+01 -2.03250694e+01 -2.18946007e+01 -2.41736111e-01\n",
      " -1.03426560e+01 -1.96000000e+00 -6.74925444e+01 -5.38903061e-02\n",
      " -1.52468809e+00 -5.37777778e-01 -4.18786990e+00 -1.45783265e+00\n",
      " -1.25675900e+00 -4.49113905e+00 -3.65973535e-02 -4.39002268e-02\n",
      " -1.15600000e+01 -5.98941399e-01 -7.10427515e+00 -1.65306122e-02\n",
      " -1.89035917e-01 -5.37777778e-01 -1.36788280e+00 -4.73497600e+00\n",
      " -6.57556122e+00 -1.38513422e+01 -4.73667820e-01 -3.60000000e-01\n",
      " -2.95368620e-01 -3.44566406e+00 -5.38626736e+00 -9.65137778e+00\n",
      " -3.93905669e+01 -2.33868960e+01 -1.05795918e+00 -1.10803324e-02\n",
      " -3.50828402e-01 -1.28705113e+00 -2.57293817e+01 -9.55840278e+00\n",
      " -9.97229917e-04 -1.34444444e-01 -1.61983471e-02 -2.57293817e+01\n",
      " -5.70958449e+00 -7.72548476e-01 -2.32723068e+01 -1.48266436e+00\n",
      " -3.45177285e+00 -2.09440830e+01 -1.24694444e+00 -6.35916824e-02\n",
      " -2.09667590e-01 -3.90625000e+01 -6.81790123e-02 -5.65612476e+00\n",
      " -1.91361111e+00 -4.92628516e+01 -1.41920605e+00 -1.13446488e+01\n",
      " -4.16946939e+01 -2.70800148e+01 -6.13938272e+00 -1.49043403e+00\n",
      " -4.68144044e-03 -1.84377602e+02 -2.75102259e+00 -6.35916824e-02\n",
      " -3.82148760e-01 -8.26562500e+00 -7.51258264e+00 -9.55371901e+00\n",
      " -1.22230917e+01 -2.04251736e+00 -5.07093906e+01 -4.35600000e+01\n",
      " -2.25000000e+00 -3.55727041e-01 -3.65973535e-02 -3.92711111e-01\n",
      " -6.70234568e+00 -5.65765595e-01 -1.23602076e+00 -6.56952909e-01\n",
      " -1.12704082e-01 -1.81232653e+01 -2.69897959e-02 -1.34976371e+01\n",
      " -4.90000000e+01 -1.94801860e+01 -6.67361111e+00 -3.13200128e+01\n",
      " -1.30321000e+01 -3.65397929e+00 -7.90829082e-01 -3.04566016e+01\n",
      " -2.53099174e-02 -1.90942149e+00 -4.49931361e+01 -8.10000000e-01\n",
      " -3.44007750e+01 -6.22345679e-01 -1.51678670e+00 -6.93444444e+00\n",
      " -3.18877551e+00 -5.55319471e+00 -2.22993827e-01 -2.84317474e+01\n",
      " -3.30291115e+00 -1.62189256e+01 -1.06502400e+00 -5.04206612e+00\n",
      " -3.57553719e+00 -1.00000000e+00 -1.98767361e-01 -1.67493141e+01\n",
      " -8.10000000e-01 -9.87755102e-02 -2.69346021e+00 -1.32231405e-01\n",
      " -1.16640000e+00 -8.50694444e-04 -4.73547874e+01 -3.36400000e-01\n",
      " -8.50694444e-04 -4.26646488e+01 -1.69550173e-01 -6.16334594e+00\n",
      " -1.99861592e-01 -5.53633218e+00 -1.13212457e+01 -1.37573554e+01\n",
      " -3.14300391e+01 -3.55591837e+00 -3.51325620e+01 -9.75643599e+00\n",
      " -3.04566016e+01 -6.28576531e+00 -2.18448400e+02 -4.37878835e+01\n",
      " -2.72294215e+01 -2.05829363e+01 -2.18556250e+01 -8.10000000e-01\n",
      " -3.40710069e+00 -4.66944444e-01 -1.36788280e+00 -2.53099174e+00\n",
      " -2.97520661e-01 -6.73265928e+00 -3.45423347e+01 -3.80689000e+01\n",
      " -1.75516898e+01 -7.06040816e+00 -1.23456790e+00 -6.30368622e+00\n",
      " -9.92322485e-01 -5.67305785e+00 -6.39367347e+00 -2.37808864e+00\n",
      " -6.25000000e-04 -4.04412100e+02 -2.74233600e+00 -3.65973535e-02\n",
      " -1.60696408e+01 -1.89035917e-03 -3.08818367e+01 -8.37004756e+00\n",
      " -5.71398554e+01 -3.47449600e+00 -1.87257618e-02 -2.74484877e+01\n",
      " -1.79776000e-01 -4.62400000e-01 -1.62247840e+01 -9.12040000e+00\n",
      " -1.35734072e-03 -1.22230917e+01 -5.13777778e+00 -1.26858726e+00\n",
      " -1.87347656e+00 -1.36571095e+02 -2.12400756e-01 -2.06127551e+00\n",
      " -1.60746173e+00 -6.91495199e+00 -6.02479339e+00 -3.02457467e-04\n",
      " -4.46745868e+00 -4.33396694e+00 -2.00899811e+00 -7.45290000e+00\n",
      " -3.28016529e-01 -9.50625000e-01 -1.46768252e+01 -5.64472057e+00\n",
      " -6.29553719e+00 -3.13600000e-01 -1.36228099e+01 -2.74896400e+02\n",
      " -1.32798186e+00 -4.32640000e+00 -1.64442907e+00 -1.07183391e+00\n",
      " -1.26995041e+01 -9.51048960e+01 -2.90260631e-02 -8.25256198e+00\n",
      " -8.25256198e+00 -5.39905482e+01 -2.66389031e+00 -1.55853308e+01\n",
      " -2.64415879e+00 -7.64735207e+00 -3.24000000e+00 -3.31760204e+00\n",
      " -5.77600000e-01 -2.57293817e+01 -1.44000000e+00 -3.48613233e+01\n",
      " -1.72602479e+01 -1.68582699e+01 -2.86390533e-02 -4.62400000e+01\n",
      " -2.99440454e+00 -2.57293817e+01 -6.24100000e-01 -4.29619835e+00\n",
      " -2.04321799e+00 -8.82310014e+00 -8.73258026e-01 -7.28177778e+01\n",
      " -6.01426992e+01 -2.73119114e+00 -3.24000000e+00 -4.14677686e+00\n",
      " -1.76782025e+01 -5.62500000e-01 -8.48582231e-02 -4.04412100e+02\n",
      " -4.19678639e-01 -2.13017751e-03 -8.51249030e+01 -1.02515625e+00\n",
      " -2.36573696e+00 -4.41275510e-01 -9.84661118e-02 -3.73192149e+00\n",
      " -1.69000000e-02 -4.19678639e-01 -2.85630864e+01 -8.96253906e+00\n",
      " -5.08431002e-01 -1.96000000e+00 -2.54366730e-01 -9.48676000e+01\n",
      " -4.00000000e-02 -2.87685950e-01 -1.72922500e+00 -6.18367769e+01\n",
      " -4.72589792e-04 -3.07842975e+00 -6.22345679e-01 -1.88829752e+01\n",
      " -1.47094810e+01 -1.98767361e-01 -1.82561983e-01 -5.41696000e-01\n",
      " -1.55561106e+02 -9.81031888e+00 -1.39810964e-01 -2.25625000e-01\n",
      " -4.39501276e+00 -1.05161224e+01 -5.42890000e+00 -2.95840000e+00\n",
      " -9.04806400e+00 -1.34793878e+01 -1.03827160e+01 -1.32231405e-01\n",
      " -3.31147934e+01 -3.48636570e+01 -7.57923875e-01 -7.24099174e+00\n",
      " -1.88681641e+01 -3.20221607e-02 -1.74617347e+00 -1.94801860e+01\n",
      " -7.59841210e+00 -2.53099174e-02 -1.38716049e+00 -1.53521488e+01\n",
      " -1.20449827e-01 -6.46684028e-01 -1.91361111e+00 -5.47153119e+00\n",
      " -3.54325260e-02 -2.42908163e-01 -3.73777778e+00 -1.23952556e+01\n",
      " -1.67474048e-02 -8.16326531e-02 -5.07858418e+00 -2.58790170e+00\n",
      " -5.89165289e+00 -1.51543367e-01]\n",
      "-18.873197477783172\n"
     ]
    }
   ],
   "source": [
    "cv = KFold(n_splits=X.shape[0], shuffle=True, random_state=1)\n",
    "scores = cross_val_score(regtree, X, Y, scoring=\"neg_mean_squared_error\", cv=cv, n_jobs=1)\n",
    "print(scores)\n",
    "score = np.mean(scores)\n",
    "print(score)"
   ]
  },
  {
   "cell_type": "code",
   "execution_count": 14,
   "id": "organized-questionnaire",
   "metadata": {},
   "outputs": [
    {
     "data": {
      "text/plain": [
       "[('crim', 0.03421203230639308),\n",
       " ('zn', 0.0),\n",
       " ('indus', 0.0011605887788380146),\n",
       " ('chas', 0.0),\n",
       " ('nox', 0.01856163073811432),\n",
       " ('rm', 0.6308568014337028),\n",
       " ('age', 0.01725115143448847),\n",
       " ('dis', 0.0013745115995791378),\n",
       " ('rad', 0.0),\n",
       " ('tax', 0.0023698305298803803),\n",
       " ('ptratio', 0.009333247332530954),\n",
       " ('black', 0.0),\n",
       " ('lstat', 0.28488020584647283)]"
      ]
     },
     "execution_count": 14,
     "metadata": {},
     "output_type": "execute_result"
    }
   ],
   "source": [
    "list(zip(predictors,regtree.feature_importances_))"
   ]
  },
  {
   "cell_type": "markdown",
   "id": "superb-defense",
   "metadata": {},
   "source": [
    "## Random Forests"
   ]
  },
  {
   "cell_type": "code",
   "execution_count": 15,
   "id": "binary-technique",
   "metadata": {},
   "outputs": [],
   "source": [
    "from sklearn.ensemble import RandomForestRegressor"
   ]
  },
  {
   "cell_type": "code",
   "execution_count": 43,
   "id": "integral-router",
   "metadata": {},
   "outputs": [
    {
     "data": {
      "text/plain": [
       "RandomForestRegressor(n_estimators=500, n_jobs=2, oob_score=True)"
      ]
     },
     "execution_count": 43,
     "metadata": {},
     "output_type": "execute_result"
    }
   ],
   "source": [
    "forest = RandomForestRegressor(n_jobs=2, oob_score=True, n_estimators=500)\n",
    "forest.fit(X,Y)"
   ]
  },
  {
   "cell_type": "code",
   "execution_count": 44,
   "id": "collective-impression",
   "metadata": {},
   "outputs": [
    {
     "data": {
      "text/html": [
       "<div>\n",
       "<style scoped>\n",
       "    .dataframe tbody tr th:only-of-type {\n",
       "        vertical-align: middle;\n",
       "    }\n",
       "\n",
       "    .dataframe tbody tr th {\n",
       "        vertical-align: top;\n",
       "    }\n",
       "\n",
       "    .dataframe thead th {\n",
       "        text-align: right;\n",
       "    }\n",
       "</style>\n",
       "<table border=\"1\" class=\"dataframe\">\n",
       "  <thead>\n",
       "    <tr style=\"text-align: right;\">\n",
       "      <th></th>\n",
       "      <th>rforest_pred</th>\n",
       "      <th>medv</th>\n",
       "    </tr>\n",
       "  </thead>\n",
       "  <tbody>\n",
       "    <tr>\n",
       "      <th>0</th>\n",
       "      <td>28.925568</td>\n",
       "      <td>24.0</td>\n",
       "    </tr>\n",
       "    <tr>\n",
       "      <th>1</th>\n",
       "      <td>22.663043</td>\n",
       "      <td>21.6</td>\n",
       "    </tr>\n",
       "    <tr>\n",
       "      <th>2</th>\n",
       "      <td>34.778804</td>\n",
       "      <td>34.7</td>\n",
       "    </tr>\n",
       "    <tr>\n",
       "      <th>3</th>\n",
       "      <td>35.091758</td>\n",
       "      <td>33.4</td>\n",
       "    </tr>\n",
       "    <tr>\n",
       "      <th>4</th>\n",
       "      <td>34.164583</td>\n",
       "      <td>36.2</td>\n",
       "    </tr>\n",
       "    <tr>\n",
       "      <th>...</th>\n",
       "      <td>...</td>\n",
       "      <td>...</td>\n",
       "    </tr>\n",
       "    <tr>\n",
       "      <th>501</th>\n",
       "      <td>24.250254</td>\n",
       "      <td>22.4</td>\n",
       "    </tr>\n",
       "    <tr>\n",
       "      <th>502</th>\n",
       "      <td>19.063793</td>\n",
       "      <td>20.6</td>\n",
       "    </tr>\n",
       "    <tr>\n",
       "      <th>503</th>\n",
       "      <td>27.912644</td>\n",
       "      <td>23.9</td>\n",
       "    </tr>\n",
       "    <tr>\n",
       "      <th>504</th>\n",
       "      <td>26.383146</td>\n",
       "      <td>22.0</td>\n",
       "    </tr>\n",
       "    <tr>\n",
       "      <th>505</th>\n",
       "      <td>20.931892</td>\n",
       "      <td>11.9</td>\n",
       "    </tr>\n",
       "  </tbody>\n",
       "</table>\n",
       "<p>506 rows × 2 columns</p>\n",
       "</div>"
      ],
      "text/plain": [
       "     rforest_pred  medv\n",
       "0       28.925568  24.0\n",
       "1       22.663043  21.6\n",
       "2       34.778804  34.7\n",
       "3       35.091758  33.4\n",
       "4       34.164583  36.2\n",
       "..            ...   ...\n",
       "501     24.250254  22.4\n",
       "502     19.063793  20.6\n",
       "503     27.912644  23.9\n",
       "504     26.383146  22.0\n",
       "505     20.931892  11.9\n",
       "\n",
       "[506 rows x 2 columns]"
      ]
     },
     "execution_count": 44,
     "metadata": {},
     "output_type": "execute_result"
    }
   ],
   "source": [
    "data[\"rforest_pred\"] = forest.oob_prediction_\n",
    "data[[\"rforest_pred\", \"medv\"]]"
   ]
  },
  {
   "cell_type": "code",
   "execution_count": 45,
   "id": "further-ecuador",
   "metadata": {},
   "outputs": [
    {
     "data": {
      "text/plain": [
       "10.29229804664033"
      ]
     },
     "execution_count": 45,
     "metadata": {},
     "output_type": "execute_result"
    }
   ],
   "source": [
    "data[\"rforest_error2\"] = (data[\"rforest_pred\"] - data[\"medv\"])**2\n",
    "sum(data[\"rforest_error2\"])/len(data)"
   ]
  },
  {
   "cell_type": "code",
   "execution_count": 46,
   "id": "cooperative-grammar",
   "metadata": {},
   "outputs": [
    {
     "data": {
      "text/plain": [
       "0.8780815901519209"
      ]
     },
     "execution_count": 46,
     "metadata": {},
     "output_type": "execute_result"
    }
   ],
   "source": [
    "forest.oob_score_"
   ]
  },
  {
   "cell_type": "code",
   "execution_count": null,
   "id": "operational-armstrong",
   "metadata": {},
   "outputs": [],
   "source": []
  }
 ],
 "metadata": {
  "kernelspec": {
   "display_name": "Python 3",
   "language": "python",
   "name": "python3"
  },
  "language_info": {
   "codemirror_mode": {
    "name": "ipython",
    "version": 3
   },
   "file_extension": ".py",
   "mimetype": "text/x-python",
   "name": "python",
   "nbconvert_exporter": "python",
   "pygments_lexer": "ipython3",
   "version": "3.7.9"
  }
 },
 "nbformat": 4,
 "nbformat_minor": 5
}
