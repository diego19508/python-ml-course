{
 "cells": [
  {
   "cell_type": "markdown",
   "id": "twenty-supply",
   "metadata": {},
   "source": [
    "# El tratamiento de las variables categoricas"
   ]
  },
  {
   "cell_type": "code",
   "execution_count": 1,
   "id": "appreciated-justice",
   "metadata": {},
   "outputs": [],
   "source": [
    "import pandas as pd\n",
    "import numpy as np\n",
    "from sklearn.linear_model import LinearRegression"
   ]
  },
  {
   "cell_type": "code",
   "execution_count": 2,
   "id": "recorded-quarterly",
   "metadata": {},
   "outputs": [],
   "source": [
    "df = pd.read_csv(\"../datasets/ecom-expense/Ecom Expense.csv\")"
   ]
  },
  {
   "cell_type": "code",
   "execution_count": 3,
   "id": "numerous-citizen",
   "metadata": {},
   "outputs": [
    {
     "data": {
      "text/html": [
       "<div>\n",
       "<style scoped>\n",
       "    .dataframe tbody tr th:only-of-type {\n",
       "        vertical-align: middle;\n",
       "    }\n",
       "\n",
       "    .dataframe tbody tr th {\n",
       "        vertical-align: top;\n",
       "    }\n",
       "\n",
       "    .dataframe thead th {\n",
       "        text-align: right;\n",
       "    }\n",
       "</style>\n",
       "<table border=\"1\" class=\"dataframe\">\n",
       "  <thead>\n",
       "    <tr style=\"text-align: right;\">\n",
       "      <th></th>\n",
       "      <th>Transaction ID</th>\n",
       "      <th>Age</th>\n",
       "      <th>Items</th>\n",
       "      <th>Monthly Income</th>\n",
       "      <th>Transaction Time</th>\n",
       "      <th>Record</th>\n",
       "      <th>Gender</th>\n",
       "      <th>City Tier</th>\n",
       "      <th>Total Spend</th>\n",
       "    </tr>\n",
       "  </thead>\n",
       "  <tbody>\n",
       "    <tr>\n",
       "      <th>0</th>\n",
       "      <td>TXN001</td>\n",
       "      <td>42</td>\n",
       "      <td>10</td>\n",
       "      <td>7313</td>\n",
       "      <td>627.668127</td>\n",
       "      <td>5</td>\n",
       "      <td>Female</td>\n",
       "      <td>Tier 1</td>\n",
       "      <td>4198.385084</td>\n",
       "    </tr>\n",
       "    <tr>\n",
       "      <th>1</th>\n",
       "      <td>TXN002</td>\n",
       "      <td>24</td>\n",
       "      <td>8</td>\n",
       "      <td>17747</td>\n",
       "      <td>126.904567</td>\n",
       "      <td>3</td>\n",
       "      <td>Female</td>\n",
       "      <td>Tier 2</td>\n",
       "      <td>4134.976648</td>\n",
       "    </tr>\n",
       "    <tr>\n",
       "      <th>2</th>\n",
       "      <td>TXN003</td>\n",
       "      <td>47</td>\n",
       "      <td>11</td>\n",
       "      <td>22845</td>\n",
       "      <td>873.469701</td>\n",
       "      <td>2</td>\n",
       "      <td>Male</td>\n",
       "      <td>Tier 2</td>\n",
       "      <td>5166.614455</td>\n",
       "    </tr>\n",
       "    <tr>\n",
       "      <th>3</th>\n",
       "      <td>TXN004</td>\n",
       "      <td>50</td>\n",
       "      <td>11</td>\n",
       "      <td>18552</td>\n",
       "      <td>380.219428</td>\n",
       "      <td>7</td>\n",
       "      <td>Female</td>\n",
       "      <td>Tier 1</td>\n",
       "      <td>7784.447676</td>\n",
       "    </tr>\n",
       "    <tr>\n",
       "      <th>4</th>\n",
       "      <td>TXN005</td>\n",
       "      <td>60</td>\n",
       "      <td>2</td>\n",
       "      <td>14439</td>\n",
       "      <td>403.374223</td>\n",
       "      <td>2</td>\n",
       "      <td>Female</td>\n",
       "      <td>Tier 2</td>\n",
       "      <td>3254.160485</td>\n",
       "    </tr>\n",
       "  </tbody>\n",
       "</table>\n",
       "</div>"
      ],
      "text/plain": [
       "  Transaction ID  Age    Items   Monthly Income  Transaction Time  Record  \\\n",
       "0         TXN001    42       10            7313        627.668127       5   \n",
       "1         TXN002    24        8           17747        126.904567       3   \n",
       "2         TXN003    47       11           22845        873.469701       2   \n",
       "3         TXN004    50       11           18552        380.219428       7   \n",
       "4         TXN005    60        2           14439        403.374223       2   \n",
       "\n",
       "   Gender City Tier  Total Spend  \n",
       "0  Female    Tier 1  4198.385084  \n",
       "1  Female    Tier 2  4134.976648  \n",
       "2    Male    Tier 2  5166.614455  \n",
       "3  Female    Tier 1  7784.447676  \n",
       "4  Female    Tier 2  3254.160485  "
      ]
     },
     "execution_count": 3,
     "metadata": {},
     "output_type": "execute_result"
    }
   ],
   "source": [
    "df.head()"
   ]
  },
  {
   "cell_type": "code",
   "execution_count": 4,
   "id": "dominant-muslim",
   "metadata": {},
   "outputs": [],
   "source": [
    "dummy_gender = pd.get_dummies(df[\"Gender\"],prefix=\"Gender\")\n",
    "dummy_city_tier = pd.get_dummies(df[\"City Tier\"],prefix=\"City\")"
   ]
  },
  {
   "cell_type": "code",
   "execution_count": 5,
   "id": "seeing-vanilla",
   "metadata": {},
   "outputs": [
    {
     "data": {
      "text/html": [
       "<div>\n",
       "<style scoped>\n",
       "    .dataframe tbody tr th:only-of-type {\n",
       "        vertical-align: middle;\n",
       "    }\n",
       "\n",
       "    .dataframe tbody tr th {\n",
       "        vertical-align: top;\n",
       "    }\n",
       "\n",
       "    .dataframe thead th {\n",
       "        text-align: right;\n",
       "    }\n",
       "</style>\n",
       "<table border=\"1\" class=\"dataframe\">\n",
       "  <thead>\n",
       "    <tr style=\"text-align: right;\">\n",
       "      <th></th>\n",
       "      <th>Gender_Female</th>\n",
       "      <th>Gender_Male</th>\n",
       "    </tr>\n",
       "  </thead>\n",
       "  <tbody>\n",
       "    <tr>\n",
       "      <th>0</th>\n",
       "      <td>1</td>\n",
       "      <td>0</td>\n",
       "    </tr>\n",
       "    <tr>\n",
       "      <th>1</th>\n",
       "      <td>1</td>\n",
       "      <td>0</td>\n",
       "    </tr>\n",
       "    <tr>\n",
       "      <th>2</th>\n",
       "      <td>0</td>\n",
       "      <td>1</td>\n",
       "    </tr>\n",
       "    <tr>\n",
       "      <th>3</th>\n",
       "      <td>1</td>\n",
       "      <td>0</td>\n",
       "    </tr>\n",
       "    <tr>\n",
       "      <th>4</th>\n",
       "      <td>1</td>\n",
       "      <td>0</td>\n",
       "    </tr>\n",
       "  </tbody>\n",
       "</table>\n",
       "</div>"
      ],
      "text/plain": [
       "   Gender_Female  Gender_Male\n",
       "0              1            0\n",
       "1              1            0\n",
       "2              0            1\n",
       "3              1            0\n",
       "4              1            0"
      ]
     },
     "execution_count": 5,
     "metadata": {},
     "output_type": "execute_result"
    }
   ],
   "source": [
    "dummy_gender.head()"
   ]
  },
  {
   "cell_type": "code",
   "execution_count": 6,
   "id": "bright-graph",
   "metadata": {},
   "outputs": [
    {
     "data": {
      "text/html": [
       "<div>\n",
       "<style scoped>\n",
       "    .dataframe tbody tr th:only-of-type {\n",
       "        vertical-align: middle;\n",
       "    }\n",
       "\n",
       "    .dataframe tbody tr th {\n",
       "        vertical-align: top;\n",
       "    }\n",
       "\n",
       "    .dataframe thead th {\n",
       "        text-align: right;\n",
       "    }\n",
       "</style>\n",
       "<table border=\"1\" class=\"dataframe\">\n",
       "  <thead>\n",
       "    <tr style=\"text-align: right;\">\n",
       "      <th></th>\n",
       "      <th>City_Tier 1</th>\n",
       "      <th>City_Tier 2</th>\n",
       "      <th>City_Tier 3</th>\n",
       "    </tr>\n",
       "  </thead>\n",
       "  <tbody>\n",
       "    <tr>\n",
       "      <th>0</th>\n",
       "      <td>1</td>\n",
       "      <td>0</td>\n",
       "      <td>0</td>\n",
       "    </tr>\n",
       "    <tr>\n",
       "      <th>1</th>\n",
       "      <td>0</td>\n",
       "      <td>1</td>\n",
       "      <td>0</td>\n",
       "    </tr>\n",
       "    <tr>\n",
       "      <th>2</th>\n",
       "      <td>0</td>\n",
       "      <td>1</td>\n",
       "      <td>0</td>\n",
       "    </tr>\n",
       "    <tr>\n",
       "      <th>3</th>\n",
       "      <td>1</td>\n",
       "      <td>0</td>\n",
       "      <td>0</td>\n",
       "    </tr>\n",
       "    <tr>\n",
       "      <th>4</th>\n",
       "      <td>0</td>\n",
       "      <td>1</td>\n",
       "      <td>0</td>\n",
       "    </tr>\n",
       "  </tbody>\n",
       "</table>\n",
       "</div>"
      ],
      "text/plain": [
       "   City_Tier 1  City_Tier 2  City_Tier 3\n",
       "0            1            0            0\n",
       "1            0            1            0\n",
       "2            0            1            0\n",
       "3            1            0            0\n",
       "4            0            1            0"
      ]
     },
     "execution_count": 6,
     "metadata": {},
     "output_type": "execute_result"
    }
   ],
   "source": [
    "dummy_city_tier.head()"
   ]
  },
  {
   "cell_type": "code",
   "execution_count": 7,
   "id": "speaking-class",
   "metadata": {},
   "outputs": [
    {
     "data": {
      "text/plain": [
       "['Transaction ID',\n",
       " 'Age ',\n",
       " ' Items ',\n",
       " 'Monthly Income',\n",
       " 'Transaction Time',\n",
       " 'Record',\n",
       " 'Gender',\n",
       " 'City Tier',\n",
       " 'Total Spend']"
      ]
     },
     "execution_count": 7,
     "metadata": {},
     "output_type": "execute_result"
    }
   ],
   "source": [
    "column_names = df.columns.values.tolist()\n",
    "column_names"
   ]
  },
  {
   "cell_type": "code",
   "execution_count": 8,
   "id": "varied-color",
   "metadata": {},
   "outputs": [
    {
     "data": {
      "text/html": [
       "<div>\n",
       "<style scoped>\n",
       "    .dataframe tbody tr th:only-of-type {\n",
       "        vertical-align: middle;\n",
       "    }\n",
       "\n",
       "    .dataframe tbody tr th {\n",
       "        vertical-align: top;\n",
       "    }\n",
       "\n",
       "    .dataframe thead th {\n",
       "        text-align: right;\n",
       "    }\n",
       "</style>\n",
       "<table border=\"1\" class=\"dataframe\">\n",
       "  <thead>\n",
       "    <tr style=\"text-align: right;\">\n",
       "      <th></th>\n",
       "      <th>Transaction ID</th>\n",
       "      <th>Age</th>\n",
       "      <th>Items</th>\n",
       "      <th>Monthly Income</th>\n",
       "      <th>Transaction Time</th>\n",
       "      <th>Record</th>\n",
       "      <th>Gender</th>\n",
       "      <th>City Tier</th>\n",
       "      <th>Total Spend</th>\n",
       "      <th>Gender_Female</th>\n",
       "      <th>Gender_Male</th>\n",
       "    </tr>\n",
       "  </thead>\n",
       "  <tbody>\n",
       "    <tr>\n",
       "      <th>0</th>\n",
       "      <td>TXN001</td>\n",
       "      <td>42</td>\n",
       "      <td>10</td>\n",
       "      <td>7313</td>\n",
       "      <td>627.668127</td>\n",
       "      <td>5</td>\n",
       "      <td>Female</td>\n",
       "      <td>Tier 1</td>\n",
       "      <td>4198.385084</td>\n",
       "      <td>1</td>\n",
       "      <td>0</td>\n",
       "    </tr>\n",
       "    <tr>\n",
       "      <th>1</th>\n",
       "      <td>TXN002</td>\n",
       "      <td>24</td>\n",
       "      <td>8</td>\n",
       "      <td>17747</td>\n",
       "      <td>126.904567</td>\n",
       "      <td>3</td>\n",
       "      <td>Female</td>\n",
       "      <td>Tier 2</td>\n",
       "      <td>4134.976648</td>\n",
       "      <td>1</td>\n",
       "      <td>0</td>\n",
       "    </tr>\n",
       "    <tr>\n",
       "      <th>2</th>\n",
       "      <td>TXN003</td>\n",
       "      <td>47</td>\n",
       "      <td>11</td>\n",
       "      <td>22845</td>\n",
       "      <td>873.469701</td>\n",
       "      <td>2</td>\n",
       "      <td>Male</td>\n",
       "      <td>Tier 2</td>\n",
       "      <td>5166.614455</td>\n",
       "      <td>0</td>\n",
       "      <td>1</td>\n",
       "    </tr>\n",
       "    <tr>\n",
       "      <th>3</th>\n",
       "      <td>TXN004</td>\n",
       "      <td>50</td>\n",
       "      <td>11</td>\n",
       "      <td>18552</td>\n",
       "      <td>380.219428</td>\n",
       "      <td>7</td>\n",
       "      <td>Female</td>\n",
       "      <td>Tier 1</td>\n",
       "      <td>7784.447676</td>\n",
       "      <td>1</td>\n",
       "      <td>0</td>\n",
       "    </tr>\n",
       "    <tr>\n",
       "      <th>4</th>\n",
       "      <td>TXN005</td>\n",
       "      <td>60</td>\n",
       "      <td>2</td>\n",
       "      <td>14439</td>\n",
       "      <td>403.374223</td>\n",
       "      <td>2</td>\n",
       "      <td>Female</td>\n",
       "      <td>Tier 2</td>\n",
       "      <td>3254.160485</td>\n",
       "      <td>1</td>\n",
       "      <td>0</td>\n",
       "    </tr>\n",
       "  </tbody>\n",
       "</table>\n",
       "</div>"
      ],
      "text/plain": [
       "  Transaction ID  Age    Items   Monthly Income  Transaction Time  Record  \\\n",
       "0         TXN001    42       10            7313        627.668127       5   \n",
       "1         TXN002    24        8           17747        126.904567       3   \n",
       "2         TXN003    47       11           22845        873.469701       2   \n",
       "3         TXN004    50       11           18552        380.219428       7   \n",
       "4         TXN005    60        2           14439        403.374223       2   \n",
       "\n",
       "   Gender City Tier  Total Spend  Gender_Female  Gender_Male  \n",
       "0  Female    Tier 1  4198.385084              1            0  \n",
       "1  Female    Tier 2  4134.976648              1            0  \n",
       "2    Male    Tier 2  5166.614455              0            1  \n",
       "3  Female    Tier 1  7784.447676              1            0  \n",
       "4  Female    Tier 2  3254.160485              1            0  "
      ]
     },
     "execution_count": 8,
     "metadata": {},
     "output_type": "execute_result"
    }
   ],
   "source": [
    "df_new = df[column_names].join(dummy_gender)\n",
    "column_names = df_new.columns.values.tolist()\n",
    "df_new.head()"
   ]
  },
  {
   "cell_type": "code",
   "execution_count": 9,
   "id": "paperback-observer",
   "metadata": {},
   "outputs": [
    {
     "data": {
      "text/html": [
       "<div>\n",
       "<style scoped>\n",
       "    .dataframe tbody tr th:only-of-type {\n",
       "        vertical-align: middle;\n",
       "    }\n",
       "\n",
       "    .dataframe tbody tr th {\n",
       "        vertical-align: top;\n",
       "    }\n",
       "\n",
       "    .dataframe thead th {\n",
       "        text-align: right;\n",
       "    }\n",
       "</style>\n",
       "<table border=\"1\" class=\"dataframe\">\n",
       "  <thead>\n",
       "    <tr style=\"text-align: right;\">\n",
       "      <th></th>\n",
       "      <th>Transaction ID</th>\n",
       "      <th>Age</th>\n",
       "      <th>Items</th>\n",
       "      <th>Monthly Income</th>\n",
       "      <th>Transaction Time</th>\n",
       "      <th>Record</th>\n",
       "      <th>Gender</th>\n",
       "      <th>City Tier</th>\n",
       "      <th>Total Spend</th>\n",
       "      <th>Gender_Female</th>\n",
       "      <th>Gender_Male</th>\n",
       "      <th>City_Tier 1</th>\n",
       "      <th>City_Tier 2</th>\n",
       "      <th>City_Tier 3</th>\n",
       "    </tr>\n",
       "  </thead>\n",
       "  <tbody>\n",
       "    <tr>\n",
       "      <th>0</th>\n",
       "      <td>TXN001</td>\n",
       "      <td>42</td>\n",
       "      <td>10</td>\n",
       "      <td>7313</td>\n",
       "      <td>627.668127</td>\n",
       "      <td>5</td>\n",
       "      <td>Female</td>\n",
       "      <td>Tier 1</td>\n",
       "      <td>4198.385084</td>\n",
       "      <td>1</td>\n",
       "      <td>0</td>\n",
       "      <td>1</td>\n",
       "      <td>0</td>\n",
       "      <td>0</td>\n",
       "    </tr>\n",
       "    <tr>\n",
       "      <th>1</th>\n",
       "      <td>TXN002</td>\n",
       "      <td>24</td>\n",
       "      <td>8</td>\n",
       "      <td>17747</td>\n",
       "      <td>126.904567</td>\n",
       "      <td>3</td>\n",
       "      <td>Female</td>\n",
       "      <td>Tier 2</td>\n",
       "      <td>4134.976648</td>\n",
       "      <td>1</td>\n",
       "      <td>0</td>\n",
       "      <td>0</td>\n",
       "      <td>1</td>\n",
       "      <td>0</td>\n",
       "    </tr>\n",
       "    <tr>\n",
       "      <th>2</th>\n",
       "      <td>TXN003</td>\n",
       "      <td>47</td>\n",
       "      <td>11</td>\n",
       "      <td>22845</td>\n",
       "      <td>873.469701</td>\n",
       "      <td>2</td>\n",
       "      <td>Male</td>\n",
       "      <td>Tier 2</td>\n",
       "      <td>5166.614455</td>\n",
       "      <td>0</td>\n",
       "      <td>1</td>\n",
       "      <td>0</td>\n",
       "      <td>1</td>\n",
       "      <td>0</td>\n",
       "    </tr>\n",
       "    <tr>\n",
       "      <th>3</th>\n",
       "      <td>TXN004</td>\n",
       "      <td>50</td>\n",
       "      <td>11</td>\n",
       "      <td>18552</td>\n",
       "      <td>380.219428</td>\n",
       "      <td>7</td>\n",
       "      <td>Female</td>\n",
       "      <td>Tier 1</td>\n",
       "      <td>7784.447676</td>\n",
       "      <td>1</td>\n",
       "      <td>0</td>\n",
       "      <td>1</td>\n",
       "      <td>0</td>\n",
       "      <td>0</td>\n",
       "    </tr>\n",
       "    <tr>\n",
       "      <th>4</th>\n",
       "      <td>TXN005</td>\n",
       "      <td>60</td>\n",
       "      <td>2</td>\n",
       "      <td>14439</td>\n",
       "      <td>403.374223</td>\n",
       "      <td>2</td>\n",
       "      <td>Female</td>\n",
       "      <td>Tier 2</td>\n",
       "      <td>3254.160485</td>\n",
       "      <td>1</td>\n",
       "      <td>0</td>\n",
       "      <td>0</td>\n",
       "      <td>1</td>\n",
       "      <td>0</td>\n",
       "    </tr>\n",
       "  </tbody>\n",
       "</table>\n",
       "</div>"
      ],
      "text/plain": [
       "  Transaction ID  Age    Items   Monthly Income  Transaction Time  Record  \\\n",
       "0         TXN001    42       10            7313        627.668127       5   \n",
       "1         TXN002    24        8           17747        126.904567       3   \n",
       "2         TXN003    47       11           22845        873.469701       2   \n",
       "3         TXN004    50       11           18552        380.219428       7   \n",
       "4         TXN005    60        2           14439        403.374223       2   \n",
       "\n",
       "   Gender City Tier  Total Spend  Gender_Female  Gender_Male  City_Tier 1  \\\n",
       "0  Female    Tier 1  4198.385084              1            0            1   \n",
       "1  Female    Tier 2  4134.976648              1            0            0   \n",
       "2    Male    Tier 2  5166.614455              0            1            0   \n",
       "3  Female    Tier 1  7784.447676              1            0            1   \n",
       "4  Female    Tier 2  3254.160485              1            0            0   \n",
       "\n",
       "   City_Tier 2  City_Tier 3  \n",
       "0            0            0  \n",
       "1            1            0  \n",
       "2            1            0  \n",
       "3            0            0  \n",
       "4            1            0  "
      ]
     },
     "execution_count": 9,
     "metadata": {},
     "output_type": "execute_result"
    }
   ],
   "source": [
    "df_new = df_new[column_names].join(dummy_city_tier)\n",
    "df_new.head()"
   ]
  },
  {
   "cell_type": "code",
   "execution_count": 49,
   "id": "linear-injection",
   "metadata": {},
   "outputs": [],
   "source": [
    "feature_cols = [\"Monthly Income\",\n",
    "                \"Transaction Time\",\n",
    "                \"Gender_Female\",\n",
    "                \"Gender_Male\",\n",
    "                \"City_Tier 1\",\n",
    "                \"City_Tier 2\",\n",
    "                \"City_Tier 3\",\n",
    "                \"Record\",\n",
    "                \"Age \",\n",
    "                \" Items \",\n",
    "               ]"
   ]
  },
  {
   "cell_type": "code",
   "execution_count": 50,
   "id": "employed-virginia",
   "metadata": {},
   "outputs": [],
   "source": [
    "X = df_new[feature_cols]\n",
    "Y = df_new[\"Total Spend\"]"
   ]
  },
  {
   "cell_type": "code",
   "execution_count": 51,
   "id": "subsequent-perspective",
   "metadata": {},
   "outputs": [
    {
     "data": {
      "text/plain": [
       "LinearRegression()"
      ]
     },
     "execution_count": 51,
     "metadata": {},
     "output_type": "execute_result"
    }
   ],
   "source": [
    "lm = LinearRegression()\n",
    "lm.fit(X,Y)"
   ]
  },
  {
   "cell_type": "code",
   "execution_count": 52,
   "id": "better-shareware",
   "metadata": {},
   "outputs": [
    {
     "data": {
      "text/plain": [
       "-643.7731838035506"
      ]
     },
     "execution_count": 52,
     "metadata": {},
     "output_type": "execute_result"
    }
   ],
   "source": [
    "lm.intercept_ # Factor alpha"
   ]
  },
  {
   "cell_type": "code",
   "execution_count": 53,
   "id": "metric-guyana",
   "metadata": {},
   "outputs": [
    {
     "data": {
      "text/plain": [
       "array([ 1.47731711e-01,  1.69048699e-01, -1.31627781e+02,  1.31627781e+02,\n",
       "        6.98809779e+01,  5.04144467e+01, -1.20295425e+02,  7.71442188e+02,\n",
       "        6.18968657e+00,  3.93442110e+01])"
      ]
     },
     "execution_count": 53,
     "metadata": {},
     "output_type": "execute_result"
    }
   ],
   "source": [
    "lm.coef_"
   ]
  },
  {
   "cell_type": "code",
   "execution_count": 54,
   "id": "cooperative-cholesterol",
   "metadata": {},
   "outputs": [
    {
     "data": {
      "text/plain": [
       "[('Monthly Income', 0.14773171095343043),\n",
       " ('Transaction Time', 0.16904869866853112),\n",
       " ('Gender_Female', -131.62778138807408),\n",
       " ('Gender_Male', 131.62778138807408),\n",
       " ('City_Tier 1', 69.88097793487164),\n",
       " ('City_Tier 2', 50.41444665204421),\n",
       " ('City_Tier 3', -120.29542458691608),\n",
       " ('Record', 771.4421878591879),\n",
       " ('Age ', 6.189686573746982),\n",
       " (' Items ', 39.34421096996615)]"
      ]
     },
     "execution_count": 54,
     "metadata": {},
     "output_type": "execute_result"
    }
   ],
   "source": [
    "list(zip(feature_cols, lm.coef_))"
   ]
  },
  {
   "cell_type": "code",
   "execution_count": 55,
   "id": "laden-nurse",
   "metadata": {},
   "outputs": [
    {
     "data": {
      "text/plain": [
       "0.922356824990408"
      ]
     },
     "execution_count": 55,
     "metadata": {},
     "output_type": "execute_result"
    }
   ],
   "source": [
    "lm.score(X,Y)"
   ]
  },
  {
   "cell_type": "markdown",
   "id": "toxic-cooperation",
   "metadata": {},
   "source": [
    "El modelo puede ser escrito como:\n",
    "   * **Total_Spend = lm.intercept_ * (n) Variables**"
   ]
  },
  {
   "cell_type": "markdown",
   "id": "demonstrated-daily",
   "metadata": {},
   "source": [
    "## Eliminar variables dummy redundantes"
   ]
  },
  {
   "cell_type": "code",
   "execution_count": 57,
   "id": "municipal-miller",
   "metadata": {},
   "outputs": [
    {
     "data": {
      "text/html": [
       "<div>\n",
       "<style scoped>\n",
       "    .dataframe tbody tr th:only-of-type {\n",
       "        vertical-align: middle;\n",
       "    }\n",
       "\n",
       "    .dataframe tbody tr th {\n",
       "        vertical-align: top;\n",
       "    }\n",
       "\n",
       "    .dataframe thead th {\n",
       "        text-align: right;\n",
       "    }\n",
       "</style>\n",
       "<table border=\"1\" class=\"dataframe\">\n",
       "  <thead>\n",
       "    <tr style=\"text-align: right;\">\n",
       "      <th></th>\n",
       "      <th>Gender_Male</th>\n",
       "    </tr>\n",
       "  </thead>\n",
       "  <tbody>\n",
       "    <tr>\n",
       "      <th>0</th>\n",
       "      <td>0</td>\n",
       "    </tr>\n",
       "    <tr>\n",
       "      <th>1</th>\n",
       "      <td>0</td>\n",
       "    </tr>\n",
       "    <tr>\n",
       "      <th>2</th>\n",
       "      <td>1</td>\n",
       "    </tr>\n",
       "    <tr>\n",
       "      <th>3</th>\n",
       "      <td>0</td>\n",
       "    </tr>\n",
       "    <tr>\n",
       "      <th>4</th>\n",
       "      <td>0</td>\n",
       "    </tr>\n",
       "  </tbody>\n",
       "</table>\n",
       "</div>"
      ],
      "text/plain": [
       "   Gender_Male\n",
       "0            0\n",
       "1            0\n",
       "2            1\n",
       "3            0\n",
       "4            0"
      ]
     },
     "execution_count": 57,
     "metadata": {},
     "output_type": "execute_result"
    }
   ],
   "source": [
    "dummy_gender = pd.get_dummies(df[\"Gender\"],prefix=\"Gender\").iloc[:,1:]\n",
    "dummy_gender.head()"
   ]
  },
  {
   "cell_type": "code",
   "execution_count": 58,
   "id": "respiratory-village",
   "metadata": {},
   "outputs": [
    {
     "data": {
      "text/html": [
       "<div>\n",
       "<style scoped>\n",
       "    .dataframe tbody tr th:only-of-type {\n",
       "        vertical-align: middle;\n",
       "    }\n",
       "\n",
       "    .dataframe tbody tr th {\n",
       "        vertical-align: top;\n",
       "    }\n",
       "\n",
       "    .dataframe thead th {\n",
       "        text-align: right;\n",
       "    }\n",
       "</style>\n",
       "<table border=\"1\" class=\"dataframe\">\n",
       "  <thead>\n",
       "    <tr style=\"text-align: right;\">\n",
       "      <th></th>\n",
       "      <th>City_Tier 2</th>\n",
       "      <th>City_Tier 3</th>\n",
       "    </tr>\n",
       "  </thead>\n",
       "  <tbody>\n",
       "    <tr>\n",
       "      <th>0</th>\n",
       "      <td>0</td>\n",
       "      <td>0</td>\n",
       "    </tr>\n",
       "    <tr>\n",
       "      <th>1</th>\n",
       "      <td>1</td>\n",
       "      <td>0</td>\n",
       "    </tr>\n",
       "    <tr>\n",
       "      <th>2</th>\n",
       "      <td>1</td>\n",
       "      <td>0</td>\n",
       "    </tr>\n",
       "    <tr>\n",
       "      <th>3</th>\n",
       "      <td>0</td>\n",
       "      <td>0</td>\n",
       "    </tr>\n",
       "    <tr>\n",
       "      <th>4</th>\n",
       "      <td>1</td>\n",
       "      <td>0</td>\n",
       "    </tr>\n",
       "  </tbody>\n",
       "</table>\n",
       "</div>"
      ],
      "text/plain": [
       "   City_Tier 2  City_Tier 3\n",
       "0            0            0\n",
       "1            1            0\n",
       "2            1            0\n",
       "3            0            0\n",
       "4            1            0"
      ]
     },
     "execution_count": 58,
     "metadata": {},
     "output_type": "execute_result"
    }
   ],
   "source": [
    "dummy_city_tier = pd.get_dummies(df[\"City Tier\"],prefix=\"City\").iloc[:,1:]\n",
    "dummy_city_tier.head()"
   ]
  },
  {
   "cell_type": "code",
   "execution_count": 61,
   "id": "pending-executive",
   "metadata": {},
   "outputs": [],
   "source": [
    "column_names = df.columns.values.tolist()\n",
    "df_new = df[column_names].join(dummy_gender)\n",
    "column_names = df_new.columns.values.tolist()\n",
    "df_new = df_new[column_names].join(dummy_city_tier)"
   ]
  },
  {
   "cell_type": "code",
   "execution_count": 62,
   "id": "colored-quality",
   "metadata": {},
   "outputs": [
    {
     "data": {
      "text/html": [
       "<div>\n",
       "<style scoped>\n",
       "    .dataframe tbody tr th:only-of-type {\n",
       "        vertical-align: middle;\n",
       "    }\n",
       "\n",
       "    .dataframe tbody tr th {\n",
       "        vertical-align: top;\n",
       "    }\n",
       "\n",
       "    .dataframe thead th {\n",
       "        text-align: right;\n",
       "    }\n",
       "</style>\n",
       "<table border=\"1\" class=\"dataframe\">\n",
       "  <thead>\n",
       "    <tr style=\"text-align: right;\">\n",
       "      <th></th>\n",
       "      <th>Transaction ID</th>\n",
       "      <th>Age</th>\n",
       "      <th>Items</th>\n",
       "      <th>Monthly Income</th>\n",
       "      <th>Transaction Time</th>\n",
       "      <th>Record</th>\n",
       "      <th>Gender</th>\n",
       "      <th>City Tier</th>\n",
       "      <th>Total Spend</th>\n",
       "      <th>Gender_Male</th>\n",
       "      <th>City_Tier 2</th>\n",
       "      <th>City_Tier 3</th>\n",
       "    </tr>\n",
       "  </thead>\n",
       "  <tbody>\n",
       "    <tr>\n",
       "      <th>0</th>\n",
       "      <td>TXN001</td>\n",
       "      <td>42</td>\n",
       "      <td>10</td>\n",
       "      <td>7313</td>\n",
       "      <td>627.668127</td>\n",
       "      <td>5</td>\n",
       "      <td>Female</td>\n",
       "      <td>Tier 1</td>\n",
       "      <td>4198.385084</td>\n",
       "      <td>0</td>\n",
       "      <td>0</td>\n",
       "      <td>0</td>\n",
       "    </tr>\n",
       "    <tr>\n",
       "      <th>1</th>\n",
       "      <td>TXN002</td>\n",
       "      <td>24</td>\n",
       "      <td>8</td>\n",
       "      <td>17747</td>\n",
       "      <td>126.904567</td>\n",
       "      <td>3</td>\n",
       "      <td>Female</td>\n",
       "      <td>Tier 2</td>\n",
       "      <td>4134.976648</td>\n",
       "      <td>0</td>\n",
       "      <td>1</td>\n",
       "      <td>0</td>\n",
       "    </tr>\n",
       "    <tr>\n",
       "      <th>2</th>\n",
       "      <td>TXN003</td>\n",
       "      <td>47</td>\n",
       "      <td>11</td>\n",
       "      <td>22845</td>\n",
       "      <td>873.469701</td>\n",
       "      <td>2</td>\n",
       "      <td>Male</td>\n",
       "      <td>Tier 2</td>\n",
       "      <td>5166.614455</td>\n",
       "      <td>1</td>\n",
       "      <td>1</td>\n",
       "      <td>0</td>\n",
       "    </tr>\n",
       "    <tr>\n",
       "      <th>3</th>\n",
       "      <td>TXN004</td>\n",
       "      <td>50</td>\n",
       "      <td>11</td>\n",
       "      <td>18552</td>\n",
       "      <td>380.219428</td>\n",
       "      <td>7</td>\n",
       "      <td>Female</td>\n",
       "      <td>Tier 1</td>\n",
       "      <td>7784.447676</td>\n",
       "      <td>0</td>\n",
       "      <td>0</td>\n",
       "      <td>0</td>\n",
       "    </tr>\n",
       "    <tr>\n",
       "      <th>4</th>\n",
       "      <td>TXN005</td>\n",
       "      <td>60</td>\n",
       "      <td>2</td>\n",
       "      <td>14439</td>\n",
       "      <td>403.374223</td>\n",
       "      <td>2</td>\n",
       "      <td>Female</td>\n",
       "      <td>Tier 2</td>\n",
       "      <td>3254.160485</td>\n",
       "      <td>0</td>\n",
       "      <td>1</td>\n",
       "      <td>0</td>\n",
       "    </tr>\n",
       "  </tbody>\n",
       "</table>\n",
       "</div>"
      ],
      "text/plain": [
       "  Transaction ID  Age    Items   Monthly Income  Transaction Time  Record  \\\n",
       "0         TXN001    42       10            7313        627.668127       5   \n",
       "1         TXN002    24        8           17747        126.904567       3   \n",
       "2         TXN003    47       11           22845        873.469701       2   \n",
       "3         TXN004    50       11           18552        380.219428       7   \n",
       "4         TXN005    60        2           14439        403.374223       2   \n",
       "\n",
       "   Gender City Tier  Total Spend  Gender_Male  City_Tier 2  City_Tier 3  \n",
       "0  Female    Tier 1  4198.385084            0            0            0  \n",
       "1  Female    Tier 2  4134.976648            0            1            0  \n",
       "2    Male    Tier 2  5166.614455            1            1            0  \n",
       "3  Female    Tier 1  7784.447676            0            0            0  \n",
       "4  Female    Tier 2  3254.160485            0            1            0  "
      ]
     },
     "execution_count": 62,
     "metadata": {},
     "output_type": "execute_result"
    }
   ],
   "source": [
    "df_new.head()"
   ]
  },
  {
   "cell_type": "code",
   "execution_count": 67,
   "id": "daily-berlin",
   "metadata": {},
   "outputs": [],
   "source": [
    "feature_cols = [\"Monthly Income\",\n",
    "               \"Transaction Time\",\n",
    "               \"Gender_Male\",\n",
    "                \"City_Tier 2\",\n",
    "                \"City_Tier 3\",\n",
    "                \"Record\"\n",
    "               ]"
   ]
  },
  {
   "cell_type": "code",
   "execution_count": 68,
   "id": "stuffed-woman",
   "metadata": {},
   "outputs": [
    {
     "data": {
      "text/plain": [
       "LinearRegression()"
      ]
     },
     "execution_count": 68,
     "metadata": {},
     "output_type": "execute_result"
    }
   ],
   "source": [
    "X = df_new[feature_cols]\n",
    "Y = df_new[\"Total Spend\"]\n",
    "lm = LinearRegression()\n",
    "lm.fit(X,Y)"
   ]
  },
  {
   "cell_type": "code",
   "execution_count": 69,
   "id": "altered-bulletin",
   "metadata": {},
   "outputs": [
    {
     "data": {
      "text/plain": [
       "-133.67781754642238"
      ]
     },
     "execution_count": 69,
     "metadata": {},
     "output_type": "execute_result"
    }
   ],
   "source": [
    "lm.intercept_"
   ]
  },
  {
   "cell_type": "code",
   "execution_count": 70,
   "id": "sapphire-motel",
   "metadata": {},
   "outputs": [
    {
     "data": {
      "text/plain": [
       "[('Monthly Income', 0.14753898049205752),\n",
       " ('Transaction Time', 0.1549461254958957),\n",
       " ('Gender_Male', 262.05002651109413),\n",
       " ('City_Tier 2', -21.625351701262886),\n",
       " ('City_Tier 3', -208.6676263302229),\n",
       " ('Record', 772.2334457445638)]"
      ]
     },
     "execution_count": 70,
     "metadata": {},
     "output_type": "execute_result"
    }
   ],
   "source": [
    "list(zip(feature_cols, lm.coef_))"
   ]
  },
  {
   "cell_type": "code",
   "execution_count": 71,
   "id": "sharp-survival",
   "metadata": {},
   "outputs": [
    {
     "data": {
      "text/plain": [
       "0.9179923586131016"
      ]
     },
     "execution_count": 71,
     "metadata": {},
     "output_type": "execute_result"
    }
   ],
   "source": [
    "lm.score(X,Y)"
   ]
  },
  {
   "cell_type": "markdown",
   "id": "ignored-accent",
   "metadata": {},
   "source": [
    "Coeficientes con todas las variables del modelo:\n",
    "\n",
    "* ('Monthly Income', 0.14773171095343043),\n",
    "* ('Transaction Time', 0.16904869866853112),\n",
    "* ('Gender_Female', -131.62778138807408),\n",
    "* ('Gender_Male', 131.62778138807408),\n",
    "* ('City_Tier 1', 69.88097793487164),\n",
    "* ('City_Tier 2', 50.41444665204421),\n",
    "* ('City_Tier 3', -120.29542458691608),\n",
    "* ('Record', 771.4421878591879),\n",
    "* ('Age ', 6.189686573746982),\n",
    "* (' Items ', 39.34421096996615)]\n",
    " \n",
    "Coeficientes tras enmascarar las variables dummy pertinentes:\n",
    " \n",
    " \n",
    "* ('Monthly Income', 0.14753898049205752),\n",
    "* ('Transaction Time', 0.1549461254958957),\n",
    "* ('Gender_Male', 262.05002651109413),\n",
    "* ('City_Tier 2', -21.625351701262886),\n",
    "* ('City_Tier 3', -208.6676263302229),\n",
    "* ('Record', 772.2334457445638)]\n",
    "\n",
    "Los cambios se reflejan en:\n",
    "\n",
    "\n",
    "* Gender_Male \n",
    "    * antes -> 131.62,\n",
    "    * despues 262.050 = (131.62-(-1341.62))\n",
    "* Gender_Female:\n",
    "    * antes -> -131.62,\n",
    "    * despues -> 0\n",
    "* CT1: Antes -> 69.88, despues -> 0\n",
    "* CT2: Antes -> 50.41, despues -> -21.62 = (55.13-76.76)\n",
    "* CT2: Antes -> -131.90, despues -> -208.66 = (-131.90 - 76.76)"
   ]
  },
  {
   "cell_type": "code",
   "execution_count": null,
   "id": "clinical-significance",
   "metadata": {},
   "outputs": [],
   "source": []
  }
 ],
 "metadata": {
  "kernelspec": {
   "display_name": "Python 3",
   "language": "python",
   "name": "python3"
  },
  "language_info": {
   "codemirror_mode": {
    "name": "ipython",
    "version": 3
   },
   "file_extension": ".py",
   "mimetype": "text/x-python",
   "name": "python",
   "nbconvert_exporter": "python",
   "pygments_lexer": "ipython3",
   "version": "3.7.9"
  }
 },
 "nbformat": 4,
 "nbformat_minor": 5
}
